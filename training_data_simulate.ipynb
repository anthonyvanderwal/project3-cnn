{
 "cells": [
  {
   "cell_type": "markdown",
   "metadata": {},
   "source": [
    "- https://blog.quantinsti.com/random-walk/"
   ]
  },
  {
   "cell_type": "code",
   "execution_count": 11,
   "metadata": {
    "ExecuteTime": {
     "end_time": "2021-02-18T02:23:02.994521Z",
     "start_time": "2021-02-18T02:23:02.975977Z"
    }
   },
   "outputs": [],
   "source": [
    "# dependdencies\n",
    "import yfinance as yf\n",
    "import numpy as np\n",
    "import matplotlib.pyplot as plt\n",
    "import pandas as pd\n",
    "\n",
    "# periods to simulate\n",
    "periods = 50000"
   ]
  },
  {
   "cell_type": "code",
   "execution_count": 12,
   "metadata": {
    "ExecuteTime": {
     "end_time": "2021-02-18T02:23:03.642388Z",
     "start_time": "2021-02-18T02:23:03.638837Z"
    }
   },
   "outputs": [],
   "source": [
    "# # price data\n",
    "# #  yahoo finance\n",
    "\n",
    "# df = yf.download('AAPL','2020-06-01', '2021-01-01', interval='1d')\n",
    "# df['Close'].plot(figsize=(6,4))\n",
    "# plt.legend();\n",
    "# df.tail()"
   ]
  },
  {
   "cell_type": "code",
   "execution_count": 14,
   "metadata": {
    "ExecuteTime": {
     "end_time": "2021-02-18T02:23:38.575099Z",
     "start_time": "2021-02-18T02:23:38.378370Z"
    }
   },
   "outputs": [
    {
     "data": {
      "text/html": [
       "<div>\n",
       "<style scoped>\n",
       "    .dataframe tbody tr th:only-of-type {\n",
       "        vertical-align: middle;\n",
       "    }\n",
       "\n",
       "    .dataframe tbody tr th {\n",
       "        vertical-align: top;\n",
       "    }\n",
       "\n",
       "    .dataframe thead th {\n",
       "        text-align: right;\n",
       "    }\n",
       "</style>\n",
       "<table border=\"1\" class=\"dataframe\">\n",
       "  <thead>\n",
       "    <tr style=\"text-align: right;\">\n",
       "      <th></th>\n",
       "      <th>Open</th>\n",
       "      <th>High</th>\n",
       "      <th>Low</th>\n",
       "      <th>Close</th>\n",
       "    </tr>\n",
       "    <tr>\n",
       "      <th>Date</th>\n",
       "      <th></th>\n",
       "      <th></th>\n",
       "      <th></th>\n",
       "      <th></th>\n",
       "    </tr>\n",
       "  </thead>\n",
       "  <tbody>\n",
       "    <tr>\n",
       "      <th>2005-05-02 00:00:00</th>\n",
       "      <td>1.28520</td>\n",
       "      <td>1.28520</td>\n",
       "      <td>1.28400</td>\n",
       "      <td>1.28440</td>\n",
       "    </tr>\n",
       "    <tr>\n",
       "      <th>2005-05-02 01:00:00</th>\n",
       "      <td>1.28440</td>\n",
       "      <td>1.28480</td>\n",
       "      <td>1.28390</td>\n",
       "      <td>1.28420</td>\n",
       "    </tr>\n",
       "    <tr>\n",
       "      <th>2005-05-02 02:00:00</th>\n",
       "      <td>1.28430</td>\n",
       "      <td>1.28540</td>\n",
       "      <td>1.28410</td>\n",
       "      <td>1.28510</td>\n",
       "    </tr>\n",
       "    <tr>\n",
       "      <th>2005-05-02 03:00:00</th>\n",
       "      <td>1.28510</td>\n",
       "      <td>1.28590</td>\n",
       "      <td>1.28500</td>\n",
       "      <td>1.28510</td>\n",
       "    </tr>\n",
       "    <tr>\n",
       "      <th>2005-05-02 04:00:00</th>\n",
       "      <td>1.28520</td>\n",
       "      <td>1.28590</td>\n",
       "      <td>1.28490</td>\n",
       "      <td>1.28550</td>\n",
       "    </tr>\n",
       "    <tr>\n",
       "      <th>...</th>\n",
       "      <td>...</td>\n",
       "      <td>...</td>\n",
       "      <td>...</td>\n",
       "      <td>...</td>\n",
       "    </tr>\n",
       "    <tr>\n",
       "      <th>2020-04-29 18:00:00</th>\n",
       "      <td>1.08620</td>\n",
       "      <td>1.08851</td>\n",
       "      <td>1.08611</td>\n",
       "      <td>1.08713</td>\n",
       "    </tr>\n",
       "    <tr>\n",
       "      <th>2020-04-29 19:00:00</th>\n",
       "      <td>1.08711</td>\n",
       "      <td>1.08823</td>\n",
       "      <td>1.08659</td>\n",
       "      <td>1.08748</td>\n",
       "    </tr>\n",
       "    <tr>\n",
       "      <th>2020-04-29 20:00:00</th>\n",
       "      <td>1.08747</td>\n",
       "      <td>1.08788</td>\n",
       "      <td>1.08691</td>\n",
       "      <td>1.08708</td>\n",
       "    </tr>\n",
       "    <tr>\n",
       "      <th>2020-04-29 21:00:00</th>\n",
       "      <td>1.08708</td>\n",
       "      <td>1.08740</td>\n",
       "      <td>1.08699</td>\n",
       "      <td>1.08714</td>\n",
       "    </tr>\n",
       "    <tr>\n",
       "      <th>2020-04-29 22:00:00</th>\n",
       "      <td>1.08728</td>\n",
       "      <td>1.08760</td>\n",
       "      <td>1.08727</td>\n",
       "      <td>1.08743</td>\n",
       "    </tr>\n",
       "  </tbody>\n",
       "</table>\n",
       "<p>93084 rows × 4 columns</p>\n",
       "</div>"
      ],
      "text/plain": [
       "                        Open     High      Low    Close\n",
       "Date                                                   \n",
       "2005-05-02 00:00:00  1.28520  1.28520  1.28400  1.28440\n",
       "2005-05-02 01:00:00  1.28440  1.28480  1.28390  1.28420\n",
       "2005-05-02 02:00:00  1.28430  1.28540  1.28410  1.28510\n",
       "2005-05-02 03:00:00  1.28510  1.28590  1.28500  1.28510\n",
       "2005-05-02 04:00:00  1.28520  1.28590  1.28490  1.28550\n",
       "...                      ...      ...      ...      ...\n",
       "2020-04-29 18:00:00  1.08620  1.08851  1.08611  1.08713\n",
       "2020-04-29 19:00:00  1.08711  1.08823  1.08659  1.08748\n",
       "2020-04-29 20:00:00  1.08747  1.08788  1.08691  1.08708\n",
       "2020-04-29 21:00:00  1.08708  1.08740  1.08699  1.08714\n",
       "2020-04-29 22:00:00  1.08728  1.08760  1.08727  1.08743\n",
       "\n",
       "[93084 rows x 4 columns]"
      ]
     },
     "execution_count": 14,
     "metadata": {},
     "output_type": "execute_result"
    }
   ],
   "source": [
    "# price data\n",
    "#  https://www.kaggle.com/imetomi/eur-usd-forex-pair-historical-data-2002-2019?select=eurusd_minute.csv\n",
    "\n",
    "# read data\n",
    "df = pd.read_csv('./resources/eurusd_hour.csv', index_col=0, parse_dates=[['Date', 'Time']])\n",
    "df.drop(['BCh', 'AO', 'AH', 'AL', 'AC', 'ACh'], axis = 1, inplace = True)\n",
    "df = df.rename(columns={'BO': 'Open', 'BH': 'High', 'BL': 'Low', 'BC': 'Close'})\n",
    "df.index.names = ['Date']\n",
    "df"
   ]
  },
  {
   "cell_type": "code",
   "execution_count": 15,
   "metadata": {
    "ExecuteTime": {
     "end_time": "2021-02-18T02:23:41.672614Z",
     "start_time": "2021-02-18T02:23:41.182196Z"
    }
   },
   "outputs": [
    {
     "data": {
      "image/png": "[encoded data removed]",
      "text/plain": [
       "<Figure size 432x288 with 1 Axes>"
      ]
     },
     "metadata": {
      "needs_background": "light"
     },
     "output_type": "display_data"
    }
   ],
   "source": [
    "# plotting the real data\n",
    "df[-periods:].plot(figsize=(6,4),grid=False,legend=True)\n",
    "plt.xlabel('Year')\n",
    "plt.ylabel('Price');"
   ]
  },
  {
   "cell_type": "code",
   "execution_count": 16,
   "metadata": {
    "ExecuteTime": {
     "end_time": "2021-02-18T02:23:44.302216Z",
     "start_time": "2021-02-18T02:23:43.389699Z"
    }
   },
   "outputs": [],
   "source": [
    "# seed value for the calculations\n",
    "np.random.seed(42)\n",
    "\n",
    "# characterise the data - percentage change, mean, and sigma\n",
    "df['daily_pc_op'] = df['Open'].pct_change()\n",
    "df['daily_pc_hi'] = df['High'].pct_change()\n",
    "df['daily_pc_lo'] = df['Low'].pct_change()\n",
    "df['daily_pc_cl'] = df['Close'].pct_change()\n",
    "\n",
    "mu_op = df['daily_pc_op'].iloc[:-periods].mean()\n",
    "mu_hi = df['daily_pc_hi'].iloc[:-periods].mean()\n",
    "mu_lo = df['daily_pc_lo'].iloc[:-periods].mean()\n",
    "mu_cl = df['daily_pc_cl'].iloc[:-periods].mean()\n",
    "\n",
    "sigma_op = df['daily_pc_op'].iloc[:-periods].std()\n",
    "sigma_hi = df['daily_pc_hi'].iloc[:-periods].std()\n",
    "sigma_lo = df['daily_pc_lo'].iloc[:-periods].std()\n",
    "sigma_cl = df['daily_pc_cl'].iloc[:-periods].std()\n",
    "\n",
    "\n",
    "# random walk simulation of a price\n",
    "simulation = {}\n",
    "simulation[\"Simulation_op\"] = [df['Open'].iloc[-periods]]\n",
    "simulation[\"Simulation_hi\"] = [df['High'].iloc[-periods]]\n",
    "simulation[\"Simulation_lo\"] = [df['Low'].iloc[-periods]]\n",
    "simulation[\"Simulation_cl\"] = [df['Close'].iloc[-periods]]\n",
    "\n",
    "for d in range(periods-1):\n",
    "    simulation[\"Simulation_op\"].append(simulation[\"Simulation_cl\"][-1]*np.exp((mu_op-(sigma_op**2/2))+sigma_op*np.random.normal()))\n",
    "    simulation[\"Simulation_hi\"].append(simulation[\"Simulation_cl\"][-1]*np.exp((mu_hi-(sigma_hi**2/2))+sigma_hi*np.random.normal()))\n",
    "    simulation[\"Simulation_lo\"].append(simulation[\"Simulation_cl\"][-1]*np.exp((mu_lo-(sigma_lo**2/2))+sigma_lo*np.random.normal()))\n",
    "    simulation[\"Simulation_cl\"].append(simulation[\"Simulation_cl\"][-1]*np.exp((mu_cl-(sigma_cl**2/2))+sigma_cl*np.random.normal()))"
   ]
  },
  {
   "cell_type": "code",
   "execution_count": 17,
   "metadata": {
    "ExecuteTime": {
     "end_time": "2021-02-18T02:23:47.087503Z",
     "start_time": "2021-02-18T02:23:47.078916Z"
    }
   },
   "outputs": [
    {
     "data": {
      "text/plain": [
       "Date\n",
       "2005-05-02 00:00:00    1.28520\n",
       "2005-05-02 01:00:00    1.28440\n",
       "2005-05-02 02:00:00    1.28430\n",
       "2005-05-02 03:00:00    1.28510\n",
       "2005-05-02 04:00:00    1.28520\n",
       "                        ...   \n",
       "2020-04-29 18:00:00    1.08620\n",
       "2020-04-29 19:00:00    1.08711\n",
       "2020-04-29 20:00:00    1.08747\n",
       "2020-04-29 21:00:00    1.08708\n",
       "2020-04-29 22:00:00    1.08728\n",
       "Name: Open, Length: 93084, dtype: float64"
      ]
     },
     "execution_count": 17,
     "metadata": {},
     "output_type": "execute_result"
    }
   ],
   "source": [
    "df['Open']"
   ]
  },
  {
   "cell_type": "code",
   "execution_count": 18,
   "metadata": {
    "ExecuteTime": {
     "end_time": "2021-02-18T02:23:48.544043Z",
     "start_time": "2021-02-18T02:23:47.923380Z"
    }
   },
   "outputs": [
    {
     "data": {
      "image/png": "[encoded data removed]",
      "text/plain": [
       "<Figure size 432x288 with 1 Axes>"
      ]
     },
     "metadata": {
      "needs_background": "light"
     },
     "output_type": "display_data"
    }
   ],
   "source": [
    "# plotting the simulation\n",
    "simulation=pd.DataFrame(simulation)\n",
    "simulation.index=df[-periods:].index\n",
    "simulation.plot(figsize=(6,4),grid=False,legend=True)\n",
    "plt.xlabel('Year')\n",
    "plt.ylabel('Price');"
   ]
  },
  {
   "cell_type": "code",
   "execution_count": 19,
   "metadata": {
    "ExecuteTime": {
     "end_time": "2021-02-18T02:23:49.538868Z",
     "start_time": "2021-02-18T02:23:49.536132Z"
    }
   },
   "outputs": [],
   "source": [
    "# import plotly.graph_objs as go\n",
    "# fig = go.Figure(data=[go.Candlestick(\n",
    "#     x = simulation.index,     \n",
    "#     open=simulation['Simulation_op'], \n",
    "#     high=simulation['Simulation_hi'], \n",
    "#     low=simulation['Simulation_lo'], \n",
    "#     close=simulation['Simulation_cl']\n",
    "# )])\n",
    "\n",
    "# fig.update_layout(\n",
    "#     title='Google',\n",
    "#     yaxis_title='Price [USD]',\n",
    "#     xaxis_rangeslider_visible=True,\n",
    "#     autosize=False,\n",
    "#     width=500,\n",
    "#     height=500,\n",
    "#     margin=dict(l=50,r=50,b=100,t=100,pad=4)\n",
    "# )\n",
    "\n",
    "# fig.show()"
   ]
  },
  {
   "cell_type": "code",
   "execution_count": 20,
   "metadata": {
    "ExecuteTime": {
     "end_time": "2021-02-18T02:23:51.165684Z",
     "start_time": "2021-02-18T02:23:51.147007Z"
    }
   },
   "outputs": [
    {
     "data": {
      "text/html": [
       "<div>\n",
       "<style scoped>\n",
       "    .dataframe tbody tr th:only-of-type {\n",
       "        vertical-align: middle;\n",
       "    }\n",
       "\n",
       "    .dataframe tbody tr th {\n",
       "        vertical-align: top;\n",
       "    }\n",
       "\n",
       "    .dataframe thead th {\n",
       "        text-align: right;\n",
       "    }\n",
       "</style>\n",
       "<table border=\"1\" class=\"dataframe\">\n",
       "  <thead>\n",
       "    <tr style=\"text-align: right;\">\n",
       "      <th></th>\n",
       "      <th>Open</th>\n",
       "      <th>High</th>\n",
       "      <th>Low</th>\n",
       "      <th>Close</th>\n",
       "    </tr>\n",
       "    <tr>\n",
       "      <th>Date</th>\n",
       "      <th></th>\n",
       "      <th></th>\n",
       "      <th></th>\n",
       "      <th></th>\n",
       "    </tr>\n",
       "  </thead>\n",
       "  <tbody>\n",
       "    <tr>\n",
       "      <th>2012-03-28 02:00:00</th>\n",
       "      <td>1.332210</td>\n",
       "      <td>1.333190</td>\n",
       "      <td>1.332040</td>\n",
       "      <td>1.333040</td>\n",
       "    </tr>\n",
       "    <tr>\n",
       "      <th>2012-03-28 03:00:00</th>\n",
       "      <td>1.333962</td>\n",
       "      <td>1.332805</td>\n",
       "      <td>1.334146</td>\n",
       "      <td>1.335867</td>\n",
       "    </tr>\n",
       "    <tr>\n",
       "      <th>2012-03-28 04:00:00</th>\n",
       "      <td>1.335433</td>\n",
       "      <td>1.335467</td>\n",
       "      <td>1.338570</td>\n",
       "      <td>1.337294</td>\n",
       "    </tr>\n",
       "    <tr>\n",
       "      <th>2012-03-28 05:00:00</th>\n",
       "      <td>1.336422</td>\n",
       "      <td>1.338226</td>\n",
       "      <td>1.336502</td>\n",
       "      <td>1.336429</td>\n",
       "    </tr>\n",
       "    <tr>\n",
       "      <th>2012-03-28 06:00:00</th>\n",
       "      <td>1.336880</td>\n",
       "      <td>1.333155</td>\n",
       "      <td>1.333484</td>\n",
       "      <td>1.335386</td>\n",
       "    </tr>\n",
       "    <tr>\n",
       "      <th>...</th>\n",
       "      <td>...</td>\n",
       "      <td>...</td>\n",
       "      <td>...</td>\n",
       "      <td>...</td>\n",
       "    </tr>\n",
       "    <tr>\n",
       "      <th>2020-04-29 18:00:00</th>\n",
       "      <td>1.329569</td>\n",
       "      <td>1.332004</td>\n",
       "      <td>1.331348</td>\n",
       "      <td>1.331639</td>\n",
       "    </tr>\n",
       "    <tr>\n",
       "      <th>2020-04-29 19:00:00</th>\n",
       "      <td>1.330312</td>\n",
       "      <td>1.331898</td>\n",
       "      <td>1.333725</td>\n",
       "      <td>1.332836</td>\n",
       "    </tr>\n",
       "    <tr>\n",
       "      <th>2020-04-29 20:00:00</th>\n",
       "      <td>1.335405</td>\n",
       "      <td>1.333093</td>\n",
       "      <td>1.332991</td>\n",
       "      <td>1.331033</td>\n",
       "    </tr>\n",
       "    <tr>\n",
       "      <th>2020-04-29 21:00:00</th>\n",
       "      <td>1.330534</td>\n",
       "      <td>1.331652</td>\n",
       "      <td>1.328770</td>\n",
       "      <td>1.331743</td>\n",
       "    </tr>\n",
       "    <tr>\n",
       "      <th>2020-04-29 22:00:00</th>\n",
       "      <td>1.330257</td>\n",
       "      <td>1.333227</td>\n",
       "      <td>1.330739</td>\n",
       "      <td>1.329405</td>\n",
       "    </tr>\n",
       "  </tbody>\n",
       "</table>\n",
       "<p>50000 rows × 4 columns</p>\n",
       "</div>"
      ],
      "text/plain": [
       "                         Open      High       Low     Close\n",
       "Date                                                       \n",
       "2012-03-28 02:00:00  1.332210  1.333190  1.332040  1.333040\n",
       "2012-03-28 03:00:00  1.333962  1.332805  1.334146  1.335867\n",
       "2012-03-28 04:00:00  1.335433  1.335467  1.338570  1.337294\n",
       "2012-03-28 05:00:00  1.336422  1.338226  1.336502  1.336429\n",
       "2012-03-28 06:00:00  1.336880  1.333155  1.333484  1.335386\n",
       "...                       ...       ...       ...       ...\n",
       "2020-04-29 18:00:00  1.329569  1.332004  1.331348  1.331639\n",
       "2020-04-29 19:00:00  1.330312  1.331898  1.333725  1.332836\n",
       "2020-04-29 20:00:00  1.335405  1.333093  1.332991  1.331033\n",
       "2020-04-29 21:00:00  1.330534  1.331652  1.328770  1.331743\n",
       "2020-04-29 22:00:00  1.330257  1.333227  1.330739  1.329405\n",
       "\n",
       "[50000 rows x 4 columns]"
      ]
     },
     "execution_count": 20,
     "metadata": {},
     "output_type": "execute_result"
    }
   ],
   "source": [
    "# tidy\n",
    "simulation = simulation.rename(columns={'Simulation_op': 'Open', 'Simulation_hi': 'High', 'Simulation_lo': 'Low', 'Simulation_cl': 'Close'})\n",
    "simulation"
   ]
  },
  {
   "cell_type": "code",
   "execution_count": 24,
   "metadata": {
    "ExecuteTime": {
     "end_time": "2021-02-18T02:31:10.736121Z",
     "start_time": "2021-02-18T02:31:10.708900Z"
    }
   },
   "outputs": [
    {
     "data": {
      "text/html": [
       "<div>\n",
       "<style scoped>\n",
       "    .dataframe tbody tr th:only-of-type {\n",
       "        vertical-align: middle;\n",
       "    }\n",
       "\n",
       "    .dataframe tbody tr th {\n",
       "        vertical-align: top;\n",
       "    }\n",
       "\n",
       "    .dataframe thead th {\n",
       "        text-align: right;\n",
       "    }\n",
       "</style>\n",
       "<table border=\"1\" class=\"dataframe\">\n",
       "  <thead>\n",
       "    <tr style=\"text-align: right;\">\n",
       "      <th></th>\n",
       "      <th>Open</th>\n",
       "      <th>High</th>\n",
       "      <th>Low</th>\n",
       "      <th>Close</th>\n",
       "    </tr>\n",
       "    <tr>\n",
       "      <th>Date</th>\n",
       "      <th></th>\n",
       "      <th></th>\n",
       "      <th></th>\n",
       "      <th></th>\n",
       "    </tr>\n",
       "  </thead>\n",
       "  <tbody>\n",
       "    <tr>\n",
       "      <th>2012-03-28 02:00:00</th>\n",
       "      <td>1.33221</td>\n",
       "      <td>1.33319</td>\n",
       "      <td>1.33204</td>\n",
       "      <td>1.33304</td>\n",
       "    </tr>\n",
       "    <tr>\n",
       "      <th>2012-03-28 03:00:00</th>\n",
       "      <td>1.33301</td>\n",
       "      <td>1.33304</td>\n",
       "      <td>1.33256</td>\n",
       "      <td>1.33287</td>\n",
       "    </tr>\n",
       "    <tr>\n",
       "      <th>2012-03-28 04:00:00</th>\n",
       "      <td>1.33290</td>\n",
       "      <td>1.33338</td>\n",
       "      <td>1.33255</td>\n",
       "      <td>1.33255</td>\n",
       "    </tr>\n",
       "    <tr>\n",
       "      <th>2012-03-28 05:00:00</th>\n",
       "      <td>1.33257</td>\n",
       "      <td>1.33348</td>\n",
       "      <td>1.33255</td>\n",
       "      <td>1.33322</td>\n",
       "    </tr>\n",
       "    <tr>\n",
       "      <th>2012-03-28 06:00:00</th>\n",
       "      <td>1.33325</td>\n",
       "      <td>1.33353</td>\n",
       "      <td>1.33154</td>\n",
       "      <td>1.33250</td>\n",
       "    </tr>\n",
       "    <tr>\n",
       "      <th>...</th>\n",
       "      <td>...</td>\n",
       "      <td>...</td>\n",
       "      <td>...</td>\n",
       "      <td>...</td>\n",
       "    </tr>\n",
       "    <tr>\n",
       "      <th>2020-04-29 18:00:00</th>\n",
       "      <td>1.08620</td>\n",
       "      <td>1.08851</td>\n",
       "      <td>1.08611</td>\n",
       "      <td>1.08713</td>\n",
       "    </tr>\n",
       "    <tr>\n",
       "      <th>2020-04-29 19:00:00</th>\n",
       "      <td>1.08711</td>\n",
       "      <td>1.08823</td>\n",
       "      <td>1.08659</td>\n",
       "      <td>1.08748</td>\n",
       "    </tr>\n",
       "    <tr>\n",
       "      <th>2020-04-29 20:00:00</th>\n",
       "      <td>1.08747</td>\n",
       "      <td>1.08788</td>\n",
       "      <td>1.08691</td>\n",
       "      <td>1.08708</td>\n",
       "    </tr>\n",
       "    <tr>\n",
       "      <th>2020-04-29 21:00:00</th>\n",
       "      <td>1.08708</td>\n",
       "      <td>1.08740</td>\n",
       "      <td>1.08699</td>\n",
       "      <td>1.08714</td>\n",
       "    </tr>\n",
       "    <tr>\n",
       "      <th>2020-04-29 22:00:00</th>\n",
       "      <td>1.08728</td>\n",
       "      <td>1.08760</td>\n",
       "      <td>1.08727</td>\n",
       "      <td>1.08743</td>\n",
       "    </tr>\n",
       "  </tbody>\n",
       "</table>\n",
       "<p>50000 rows × 4 columns</p>\n",
       "</div>"
      ],
      "text/plain": [
       "                        Open     High      Low    Close\n",
       "Date                                                   \n",
       "2012-03-28 02:00:00  1.33221  1.33319  1.33204  1.33304\n",
       "2012-03-28 03:00:00  1.33301  1.33304  1.33256  1.33287\n",
       "2012-03-28 04:00:00  1.33290  1.33338  1.33255  1.33255\n",
       "2012-03-28 05:00:00  1.33257  1.33348  1.33255  1.33322\n",
       "2012-03-28 06:00:00  1.33325  1.33353  1.33154  1.33250\n",
       "...                      ...      ...      ...      ...\n",
       "2020-04-29 18:00:00  1.08620  1.08851  1.08611  1.08713\n",
       "2020-04-29 19:00:00  1.08711  1.08823  1.08659  1.08748\n",
       "2020-04-29 20:00:00  1.08747  1.08788  1.08691  1.08708\n",
       "2020-04-29 21:00:00  1.08708  1.08740  1.08699  1.08714\n",
       "2020-04-29 22:00:00  1.08728  1.08760  1.08727  1.08743\n",
       "\n",
       "[50000 rows x 4 columns]"
      ]
     },
     "execution_count": 24,
     "metadata": {},
     "output_type": "execute_result"
    }
   ],
   "source": [
    "df[['Open','High','Low','Close']][-periods:]"
   ]
  },
  {
   "cell_type": "code",
   "execution_count": 25,
   "metadata": {
    "ExecuteTime": {
     "end_time": "2021-02-18T02:31:43.389551Z",
     "start_time": "2021-02-18T02:31:42.813041Z"
    }
   },
   "outputs": [],
   "source": [
    "# data to csv\n",
    "simulation.to_csv('./resources/eurusd_hour_simulated.csv', index=True)\n",
    "df[['Open','High','Low','Close']][-periods:].to_csv('./resources/eurusd_hour_real.csv', index=True)"
   ]
  },
  {
   "cell_type": "code",
   "execution_count": null,
   "metadata": {},
   "outputs": [],
   "source": []
  }
 ],
 "metadata": {
  "hide_input": false,
  "kernelspec": {
   "display_name": "Python 3",
   "language": "python",
   "name": "python3"
  },
  "language_info": {
   "codemirror_mode": {
    "name": "ipython",
    "version": 3
   },
   "file_extension": ".py",
   "mimetype": "text/x-python",
   "name": "python",
   "nbconvert_exporter": "python",
   "pygments_lexer": "ipython3",
   "version": "3.7.7"
  }
 },
 "nbformat": 4,
 "nbformat_minor": 4
}
