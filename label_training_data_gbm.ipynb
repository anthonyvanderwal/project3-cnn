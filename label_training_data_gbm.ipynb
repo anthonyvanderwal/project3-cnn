{
 "cells": [
  {
   "cell_type": "markdown",
   "metadata": {},
   "source": [
    "- https://blog.quantinsti.com/random-walk/"
   ]
  },
  {
   "cell_type": "code",
   "execution_count": 1,
   "metadata": {
    "ExecuteTime": {
     "end_time": "2021-02-17T11:47:53.539800Z",
     "start_time": "2021-02-17T11:47:52.698855Z"
    }
   },
   "outputs": [],
   "source": [
    "# dependdencies\n",
    "import yfinance as yf\n",
    "import numpy as np\n",
    "import matplotlib.pyplot as plt\n",
    "import pandas as pd\n",
    "\n",
    "# periods to simulate\n",
    "periods = 50000"
   ]
  },
  {
   "cell_type": "code",
   "execution_count": 2,
   "metadata": {
    "ExecuteTime": {
     "end_time": "2021-02-17T11:47:53.545306Z",
     "start_time": "2021-02-17T11:47:53.542974Z"
    }
   },
   "outputs": [],
   "source": [
    "# # price data\n",
    "# #  yahoo finance\n",
    "\n",
    "# df = yf.download('AAPL','2020-06-01', '2021-01-01', interval='1d')\n",
    "# df['Close'].plot(figsize=(6,4))\n",
    "# plt.legend();\n",
    "# df.tail()"
   ]
  },
  {
   "cell_type": "code",
   "execution_count": 3,
   "metadata": {
    "ExecuteTime": {
     "end_time": "2021-02-17T11:48:02.610357Z",
     "start_time": "2021-02-17T11:47:53.547772Z"
    }
   },
   "outputs": [
    {
     "data": {
      "text/html": [
       "<div>\n",
       "<style scoped>\n",
       "    .dataframe tbody tr th:only-of-type {\n",
       "        vertical-align: middle;\n",
       "    }\n",
       "\n",
       "    .dataframe tbody tr th {\n",
       "        vertical-align: top;\n",
       "    }\n",
       "\n",
       "    .dataframe thead th {\n",
       "        text-align: right;\n",
       "    }\n",
       "</style>\n",
       "<table border=\"1\" class=\"dataframe\">\n",
       "  <thead>\n",
       "    <tr style=\"text-align: right;\">\n",
       "      <th></th>\n",
       "      <th>Open</th>\n",
       "      <th>High</th>\n",
       "      <th>Low</th>\n",
       "      <th>Close</th>\n",
       "    </tr>\n",
       "    <tr>\n",
       "      <th>Date</th>\n",
       "      <th></th>\n",
       "      <th></th>\n",
       "      <th></th>\n",
       "      <th></th>\n",
       "    </tr>\n",
       "  </thead>\n",
       "  <tbody>\n",
       "    <tr>\n",
       "      <th>2005-01-02 18:29:00</th>\n",
       "      <td>1.35550</td>\n",
       "      <td>1.35550</td>\n",
       "      <td>1.35550</td>\n",
       "      <td>1.35550</td>\n",
       "    </tr>\n",
       "    <tr>\n",
       "      <th>2005-01-02 18:38:00</th>\n",
       "      <td>1.35550</td>\n",
       "      <td>1.35550</td>\n",
       "      <td>1.35550</td>\n",
       "      <td>1.35550</td>\n",
       "    </tr>\n",
       "    <tr>\n",
       "      <th>2005-01-02 18:51:00</th>\n",
       "      <td>1.35620</td>\n",
       "      <td>1.35620</td>\n",
       "      <td>1.35620</td>\n",
       "      <td>1.35620</td>\n",
       "    </tr>\n",
       "    <tr>\n",
       "      <th>2005-01-02 18:52:00</th>\n",
       "      <td>1.35600</td>\n",
       "      <td>1.35600</td>\n",
       "      <td>1.35600</td>\n",
       "      <td>1.35600</td>\n",
       "    </tr>\n",
       "    <tr>\n",
       "      <th>2005-01-02 18:55:00</th>\n",
       "      <td>1.35630</td>\n",
       "      <td>1.35630</td>\n",
       "      <td>1.35630</td>\n",
       "      <td>1.35630</td>\n",
       "    </tr>\n",
       "    <tr>\n",
       "      <th>...</th>\n",
       "      <td>...</td>\n",
       "      <td>...</td>\n",
       "      <td>...</td>\n",
       "      <td>...</td>\n",
       "    </tr>\n",
       "    <tr>\n",
       "      <th>2020-04-29 23:55:00</th>\n",
       "      <td>1.08770</td>\n",
       "      <td>1.08770</td>\n",
       "      <td>1.08763</td>\n",
       "      <td>1.08764</td>\n",
       "    </tr>\n",
       "    <tr>\n",
       "      <th>2020-04-29 23:56:00</th>\n",
       "      <td>1.08762</td>\n",
       "      <td>1.08762</td>\n",
       "      <td>1.08756</td>\n",
       "      <td>1.08757</td>\n",
       "    </tr>\n",
       "    <tr>\n",
       "      <th>2020-04-29 23:57:00</th>\n",
       "      <td>1.08759</td>\n",
       "      <td>1.08761</td>\n",
       "      <td>1.08757</td>\n",
       "      <td>1.08759</td>\n",
       "    </tr>\n",
       "    <tr>\n",
       "      <th>2020-04-29 23:58:00</th>\n",
       "      <td>1.08758</td>\n",
       "      <td>1.08760</td>\n",
       "      <td>1.08757</td>\n",
       "      <td>1.08760</td>\n",
       "    </tr>\n",
       "    <tr>\n",
       "      <th>2020-04-29 23:59:00</th>\n",
       "      <td>1.08761</td>\n",
       "      <td>1.08768</td>\n",
       "      <td>1.08761</td>\n",
       "      <td>1.08767</td>\n",
       "    </tr>\n",
       "  </tbody>\n",
       "</table>\n",
       "<p>5618819 rows × 4 columns</p>\n",
       "</div>"
      ],
      "text/plain": [
       "                        Open     High      Low    Close\n",
       "Date                                                   \n",
       "2005-01-02 18:29:00  1.35550  1.35550  1.35550  1.35550\n",
       "2005-01-02 18:38:00  1.35550  1.35550  1.35550  1.35550\n",
       "2005-01-02 18:51:00  1.35620  1.35620  1.35620  1.35620\n",
       "2005-01-02 18:52:00  1.35600  1.35600  1.35600  1.35600\n",
       "2005-01-02 18:55:00  1.35630  1.35630  1.35630  1.35630\n",
       "...                      ...      ...      ...      ...\n",
       "2020-04-29 23:55:00  1.08770  1.08770  1.08763  1.08764\n",
       "2020-04-29 23:56:00  1.08762  1.08762  1.08756  1.08757\n",
       "2020-04-29 23:57:00  1.08759  1.08761  1.08757  1.08759\n",
       "2020-04-29 23:58:00  1.08758  1.08760  1.08757  1.08760\n",
       "2020-04-29 23:59:00  1.08761  1.08768  1.08761  1.08767\n",
       "\n",
       "[5618819 rows x 4 columns]"
      ]
     },
     "execution_count": 3,
     "metadata": {},
     "output_type": "execute_result"
    }
   ],
   "source": [
    "# price data\n",
    "#  https://www.kaggle.com/imetomi/eur-usd-forex-pair-historical-data-2002-2019?select=eurusd_minute.csv\n",
    "\n",
    "# read data\n",
    "df = pd.read_csv('./resources/eurusd_minute.csv', index_col=0, parse_dates=[['Date', 'Time']])\n",
    "df.drop(['BCh', 'AO', 'AH', 'AL', 'AC', 'ACh'], axis = 1, inplace = True)\n",
    "df = df.rename(columns={'BO': 'Open', 'BH': 'High', 'BL': 'Low', 'BC': 'Close'})\n",
    "df.index.names = ['Date']\n",
    "df"
   ]
  },
  {
   "cell_type": "code",
   "execution_count": 4,
   "metadata": {
    "ExecuteTime": {
     "end_time": "2021-02-17T11:48:03.048336Z",
     "start_time": "2021-02-17T11:48:02.613281Z"
    }
   },
   "outputs": [
    {
     "data": {
      "image/png": "[encoded data removed]",
      "text/plain": [
       "<Figure size 432x288 with 1 Axes>"
      ]
     },
     "metadata": {
      "needs_background": "light"
     },
     "output_type": "display_data"
    }
   ],
   "source": [
    "# plotting the real data\n",
    "df[-periods:].plot(figsize=(6,4),grid=False,legend=True)\n",
    "plt.xlabel('Year')\n",
    "plt.ylabel('Price');"
   ]
  },
  {
   "cell_type": "code",
   "execution_count": 5,
   "metadata": {
    "ExecuteTime": {
     "end_time": "2021-02-17T11:48:04.834979Z",
     "start_time": "2021-02-17T11:48:03.051239Z"
    }
   },
   "outputs": [],
   "source": [
    "# seed value for the calculations\n",
    "np.random.seed(42)\n",
    "\n",
    "# characterise the data - percentage change, mean, and sigma\n",
    "df['daily_pc_op'] = df['Open'].pct_change()\n",
    "df['daily_pc_hi'] = df['High'].pct_change()\n",
    "df['daily_pc_lo'] = df['Low'].pct_change()\n",
    "df['daily_pc_cl'] = df['Close'].pct_change()\n",
    "\n",
    "mu_op = df['daily_pc_op'].iloc[:-periods].mean()\n",
    "mu_hi = df['daily_pc_hi'].iloc[:-periods].mean()\n",
    "mu_lo = df['daily_pc_lo'].iloc[:-periods].mean()\n",
    "mu_cl = df['daily_pc_cl'].iloc[:-periods].mean()\n",
    "\n",
    "sigma_op = df['daily_pc_op'].iloc[:-periods].std()\n",
    "sigma_hi = df['daily_pc_hi'].iloc[:-periods].std()\n",
    "sigma_lo = df['daily_pc_lo'].iloc[:-periods].std()\n",
    "sigma_cl = df['daily_pc_cl'].iloc[:-periods].std()\n",
    "\n",
    "\n",
    "# random walk simulation of a price\n",
    "simulation = {}\n",
    "simulation[\"Simulation_op\"] = [df['Open'].iloc[-periods]]\n",
    "simulation[\"Simulation_hi\"] = [df['High'].iloc[-periods]]\n",
    "simulation[\"Simulation_lo\"] = [df['Low'].iloc[-periods]]\n",
    "simulation[\"Simulation_cl\"] = [df['Close'].iloc[-periods]]\n",
    "\n",
    "for d in range(periods-1):\n",
    "    simulation[\"Simulation_op\"].append(simulation[\"Simulation_cl\"][-1]*np.exp((mu_op-(sigma_op**2/2))+sigma_op*np.random.normal()))\n",
    "    simulation[\"Simulation_hi\"].append(simulation[\"Simulation_cl\"][-1]*np.exp((mu_hi-(sigma_hi**2/2))+sigma_hi*np.random.normal()))\n",
    "    simulation[\"Simulation_lo\"].append(simulation[\"Simulation_cl\"][-1]*np.exp((mu_lo-(sigma_lo**2/2))+sigma_lo*np.random.normal()))\n",
    "    simulation[\"Simulation_cl\"].append(simulation[\"Simulation_cl\"][-1]*np.exp((mu_cl-(sigma_cl**2/2))+sigma_cl*np.random.normal()))"
   ]
  },
  {
   "cell_type": "code",
   "execution_count": 6,
   "metadata": {
    "ExecuteTime": {
     "end_time": "2021-02-17T11:48:04.842319Z",
     "start_time": "2021-02-17T11:48:04.837336Z"
    }
   },
   "outputs": [
    {
     "data": {
      "text/plain": [
       "Date\n",
       "2005-01-02 18:29:00    1.35550\n",
       "2005-01-02 18:38:00    1.35550\n",
       "2005-01-02 18:51:00    1.35620\n",
       "2005-01-02 18:52:00    1.35600\n",
       "2005-01-02 18:55:00    1.35630\n",
       "                        ...   \n",
       "2020-04-29 23:55:00    1.08770\n",
       "2020-04-29 23:56:00    1.08762\n",
       "2020-04-29 23:57:00    1.08759\n",
       "2020-04-29 23:58:00    1.08758\n",
       "2020-04-29 23:59:00    1.08761\n",
       "Name: Open, Length: 5618819, dtype: float64"
      ]
     },
     "execution_count": 6,
     "metadata": {},
     "output_type": "execute_result"
    }
   ],
   "source": [
    "df['Open']"
   ]
  },
  {
   "cell_type": "code",
   "execution_count": 7,
   "metadata": {
    "ExecuteTime": {
     "end_time": "2021-02-17T11:48:05.636453Z",
     "start_time": "2021-02-17T11:48:04.845661Z"
    }
   },
   "outputs": [
    {
     "data": {
      "image/png": "[encoded data removed]",
      "text/plain": [
       "<Figure size 432x288 with 1 Axes>"
      ]
     },
     "metadata": {
      "needs_background": "light"
     },
     "output_type": "display_data"
    }
   ],
   "source": [
    "# plotting the simulation\n",
    "simulation=pd.DataFrame(simulation)\n",
    "simulation.index=df[-periods:].index\n",
    "simulation.plot(figsize=(6,4),grid=False,legend=True)\n",
    "plt.xlabel('Year')\n",
    "plt.ylabel('Price');"
   ]
  },
  {
   "cell_type": "code",
   "execution_count": 8,
   "metadata": {
    "ExecuteTime": {
     "end_time": "2021-02-17T11:48:05.641243Z",
     "start_time": "2021-02-17T11:48:05.639271Z"
    }
   },
   "outputs": [],
   "source": [
    "# import plotly.graph_objs as go\n",
    "# fig = go.Figure(data=[go.Candlestick(\n",
    "#     x = simulation.index,     \n",
    "#     open=simulation['Simulation_op'], \n",
    "#     high=simulation['Simulation_hi'], \n",
    "#     low=simulation['Simulation_lo'], \n",
    "#     close=simulation['Simulation_cl']\n",
    "# )])\n",
    "\n",
    "# fig.update_layout(\n",
    "#     title='Google',\n",
    "#     yaxis_title='Price [USD]',\n",
    "#     xaxis_rangeslider_visible=True,\n",
    "#     autosize=False,\n",
    "#     width=500,\n",
    "#     height=500,\n",
    "#     margin=dict(l=50,r=50,b=100,t=100,pad=4)\n",
    "# )\n",
    "\n",
    "# fig.show()"
   ]
  },
  {
   "cell_type": "code",
   "execution_count": 9,
   "metadata": {
    "ExecuteTime": {
     "end_time": "2021-02-17T11:48:05.656553Z",
     "start_time": "2021-02-17T11:48:05.643414Z"
    }
   },
   "outputs": [
    {
     "data": {
      "text/html": [
       "<div>\n",
       "<style scoped>\n",
       "    .dataframe tbody tr th:only-of-type {\n",
       "        vertical-align: middle;\n",
       "    }\n",
       "\n",
       "    .dataframe tbody tr th {\n",
       "        vertical-align: top;\n",
       "    }\n",
       "\n",
       "    .dataframe thead th {\n",
       "        text-align: right;\n",
       "    }\n",
       "</style>\n",
       "<table border=\"1\" class=\"dataframe\">\n",
       "  <thead>\n",
       "    <tr style=\"text-align: right;\">\n",
       "      <th></th>\n",
       "      <th>Open</th>\n",
       "      <th>High</th>\n",
       "      <th>Low</th>\n",
       "      <th>Close</th>\n",
       "    </tr>\n",
       "    <tr>\n",
       "      <th>Date</th>\n",
       "      <th></th>\n",
       "      <th></th>\n",
       "      <th></th>\n",
       "      <th></th>\n",
       "    </tr>\n",
       "  </thead>\n",
       "  <tbody>\n",
       "    <tr>\n",
       "      <th>2020-03-11 10:12:00</th>\n",
       "      <td>1.131530</td>\n",
       "      <td>1.131570</td>\n",
       "      <td>1.131390</td>\n",
       "      <td>1.131490</td>\n",
       "    </tr>\n",
       "    <tr>\n",
       "      <th>2020-03-11 10:13:00</th>\n",
       "      <td>1.131582</td>\n",
       "      <td>1.131466</td>\n",
       "      <td>1.131601</td>\n",
       "      <td>1.131775</td>\n",
       "    </tr>\n",
       "    <tr>\n",
       "      <th>2020-03-11 10:14:00</th>\n",
       "      <td>1.131731</td>\n",
       "      <td>1.131735</td>\n",
       "      <td>1.132045</td>\n",
       "      <td>1.131918</td>\n",
       "    </tr>\n",
       "    <tr>\n",
       "      <th>2020-03-11 10:15:00</th>\n",
       "      <td>1.131831</td>\n",
       "      <td>1.132011</td>\n",
       "      <td>1.131839</td>\n",
       "      <td>1.131831</td>\n",
       "    </tr>\n",
       "    <tr>\n",
       "      <th>2020-03-11 10:16:00</th>\n",
       "      <td>1.131876</td>\n",
       "      <td>1.131503</td>\n",
       "      <td>1.131536</td>\n",
       "      <td>1.131726</td>\n",
       "    </tr>\n",
       "    <tr>\n",
       "      <th>...</th>\n",
       "      <td>...</td>\n",
       "      <td>...</td>\n",
       "      <td>...</td>\n",
       "      <td>...</td>\n",
       "    </tr>\n",
       "    <tr>\n",
       "      <th>2020-04-29 23:55:00</th>\n",
       "      <td>1.123625</td>\n",
       "      <td>1.123868</td>\n",
       "      <td>1.123802</td>\n",
       "      <td>1.123832</td>\n",
       "    </tr>\n",
       "    <tr>\n",
       "      <th>2020-04-29 23:56:00</th>\n",
       "      <td>1.123699</td>\n",
       "      <td>1.123858</td>\n",
       "      <td>1.124040</td>\n",
       "      <td>1.123952</td>\n",
       "    </tr>\n",
       "    <tr>\n",
       "      <th>2020-04-29 23:57:00</th>\n",
       "      <td>1.124208</td>\n",
       "      <td>1.123977</td>\n",
       "      <td>1.123967</td>\n",
       "      <td>1.123771</td>\n",
       "    </tr>\n",
       "    <tr>\n",
       "      <th>2020-04-29 23:58:00</th>\n",
       "      <td>1.123721</td>\n",
       "      <td>1.123832</td>\n",
       "      <td>1.123545</td>\n",
       "      <td>1.123842</td>\n",
       "    </tr>\n",
       "    <tr>\n",
       "      <th>2020-04-29 23:59:00</th>\n",
       "      <td>1.123693</td>\n",
       "      <td>1.123990</td>\n",
       "      <td>1.123742</td>\n",
       "      <td>1.123607</td>\n",
       "    </tr>\n",
       "  </tbody>\n",
       "</table>\n",
       "<p>50000 rows × 4 columns</p>\n",
       "</div>"
      ],
      "text/plain": [
       "                         Open      High       Low     Close\n",
       "Date                                                       \n",
       "2020-03-11 10:12:00  1.131530  1.131570  1.131390  1.131490\n",
       "2020-03-11 10:13:00  1.131582  1.131466  1.131601  1.131775\n",
       "2020-03-11 10:14:00  1.131731  1.131735  1.132045  1.131918\n",
       "2020-03-11 10:15:00  1.131831  1.132011  1.131839  1.131831\n",
       "2020-03-11 10:16:00  1.131876  1.131503  1.131536  1.131726\n",
       "...                       ...       ...       ...       ...\n",
       "2020-04-29 23:55:00  1.123625  1.123868  1.123802  1.123832\n",
       "2020-04-29 23:56:00  1.123699  1.123858  1.124040  1.123952\n",
       "2020-04-29 23:57:00  1.124208  1.123977  1.123967  1.123771\n",
       "2020-04-29 23:58:00  1.123721  1.123832  1.123545  1.123842\n",
       "2020-04-29 23:59:00  1.123693  1.123990  1.123742  1.123607\n",
       "\n",
       "[50000 rows x 4 columns]"
      ]
     },
     "execution_count": 9,
     "metadata": {},
     "output_type": "execute_result"
    }
   ],
   "source": [
    "# tidy\n",
    "simulation = simulation.rename(columns={'Simulation_op': 'Open', 'Simulation_hi': 'High', 'Simulation_lo': 'Low', 'Simulation_cl': 'Close'})\n",
    "simulation"
   ]
  },
  {
   "cell_type": "code",
   "execution_count": 10,
   "metadata": {
    "ExecuteTime": {
     "end_time": "2021-02-17T11:48:06.044939Z",
     "start_time": "2021-02-17T11:48:05.658916Z"
    }
   },
   "outputs": [],
   "source": [
    "# data to csv\n",
    "simulation.to_csv('./resources/eurusd_minute_simulated.csv', index=True,)"
   ]
  },
  {
   "cell_type": "code",
   "execution_count": null,
   "metadata": {},
   "outputs": [],
   "source": []
  }
 ],
 "metadata": {
  "hide_input": false,
  "kernelspec": {
   "display_name": "Python 3",
   "language": "python",
   "name": "python3"
  },
  "language_info": {
   "codemirror_mode": {
    "name": "ipython",
    "version": 3
   },
   "file_extension": ".py",
   "mimetype": "text/x-python",
   "name": "python",
   "nbconvert_exporter": "python",
   "pygments_lexer": "ipython3",
   "version": "3.7.7"
  }
 },
 "nbformat": 4,
 "nbformat_minor": 4
}
