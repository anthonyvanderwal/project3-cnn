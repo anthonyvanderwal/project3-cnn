{
 "cells": [
  {
   "cell_type": "markdown",
   "metadata": {},
   "source": [
    "Labelling data to create train and test data sets"
   ]
  },
  {
   "cell_type": "code",
   "execution_count": 1,
   "metadata": {
    "ExecuteTime": {
     "end_time": "2021-02-20T06:51:21.377861Z",
     "start_time": "2021-02-20T06:51:20.280877Z"
    }
   },
   "outputs": [],
   "source": [
    "# dependencies\n",
    "from pandas_datareader import data as pdr\n",
    "import yfinance as yf\n",
    "import pandas as pd\n",
    "import plotly.graph_objs as go\n",
    "from scipy import stats\n",
    "import numpy as np\n",
    "from tqdm import tqdm, trange"
   ]
  },
  {
   "cell_type": "code",
   "execution_count": 2,
   "metadata": {
    "ExecuteTime": {
     "end_time": "2021-02-20T06:51:21.381804Z",
     "start_time": "2021-02-20T06:51:21.379820Z"
    }
   },
   "outputs": [],
   "source": [
    "# # price data direct to dataframe\n",
    "# #  yahoo finance\n",
    "# yf.pdr_override()\n",
    "# df = pdr.get_data_yahoo('IBM', start='1995-01-01', end='2021-01-01', interval='1d')\n",
    "# df"
   ]
  },
  {
   "cell_type": "code",
   "execution_count": 3,
   "metadata": {
    "ExecuteTime": {
     "end_time": "2021-02-20T06:51:21.458054Z",
     "start_time": "2021-02-20T06:51:21.385564Z"
    }
   },
   "outputs": [
    {
     "data": {
      "text/html": [
       "<div>\n",
       "<style scoped>\n",
       "    .dataframe tbody tr th:only-of-type {\n",
       "        vertical-align: middle;\n",
       "    }\n",
       "\n",
       "    .dataframe tbody tr th {\n",
       "        vertical-align: top;\n",
       "    }\n",
       "\n",
       "    .dataframe thead th {\n",
       "        text-align: right;\n",
       "    }\n",
       "</style>\n",
       "<table border=\"1\" class=\"dataframe\">\n",
       "  <thead>\n",
       "    <tr style=\"text-align: right;\">\n",
       "      <th></th>\n",
       "      <th>Open</th>\n",
       "      <th>High</th>\n",
       "      <th>Low</th>\n",
       "      <th>Close</th>\n",
       "    </tr>\n",
       "    <tr>\n",
       "      <th>Date</th>\n",
       "      <th></th>\n",
       "      <th></th>\n",
       "      <th></th>\n",
       "      <th></th>\n",
       "    </tr>\n",
       "  </thead>\n",
       "  <tbody>\n",
       "    <tr>\n",
       "      <th>2012-03-28 02:00:00</th>\n",
       "      <td>1.33221</td>\n",
       "      <td>1.33319</td>\n",
       "      <td>1.33204</td>\n",
       "      <td>1.33304</td>\n",
       "    </tr>\n",
       "    <tr>\n",
       "      <th>2012-03-28 03:00:00</th>\n",
       "      <td>1.33301</td>\n",
       "      <td>1.33304</td>\n",
       "      <td>1.33256</td>\n",
       "      <td>1.33287</td>\n",
       "    </tr>\n",
       "    <tr>\n",
       "      <th>2012-03-28 04:00:00</th>\n",
       "      <td>1.33290</td>\n",
       "      <td>1.33338</td>\n",
       "      <td>1.33255</td>\n",
       "      <td>1.33255</td>\n",
       "    </tr>\n",
       "    <tr>\n",
       "      <th>2012-03-28 05:00:00</th>\n",
       "      <td>1.33257</td>\n",
       "      <td>1.33348</td>\n",
       "      <td>1.33255</td>\n",
       "      <td>1.33322</td>\n",
       "    </tr>\n",
       "    <tr>\n",
       "      <th>2012-03-28 06:00:00</th>\n",
       "      <td>1.33325</td>\n",
       "      <td>1.33353</td>\n",
       "      <td>1.33154</td>\n",
       "      <td>1.33250</td>\n",
       "    </tr>\n",
       "    <tr>\n",
       "      <th>...</th>\n",
       "      <td>...</td>\n",
       "      <td>...</td>\n",
       "      <td>...</td>\n",
       "      <td>...</td>\n",
       "    </tr>\n",
       "    <tr>\n",
       "      <th>2020-04-29 18:00:00</th>\n",
       "      <td>1.08620</td>\n",
       "      <td>1.08851</td>\n",
       "      <td>1.08611</td>\n",
       "      <td>1.08713</td>\n",
       "    </tr>\n",
       "    <tr>\n",
       "      <th>2020-04-29 19:00:00</th>\n",
       "      <td>1.08711</td>\n",
       "      <td>1.08823</td>\n",
       "      <td>1.08659</td>\n",
       "      <td>1.08748</td>\n",
       "    </tr>\n",
       "    <tr>\n",
       "      <th>2020-04-29 20:00:00</th>\n",
       "      <td>1.08747</td>\n",
       "      <td>1.08788</td>\n",
       "      <td>1.08691</td>\n",
       "      <td>1.08708</td>\n",
       "    </tr>\n",
       "    <tr>\n",
       "      <th>2020-04-29 21:00:00</th>\n",
       "      <td>1.08708</td>\n",
       "      <td>1.08740</td>\n",
       "      <td>1.08699</td>\n",
       "      <td>1.08714</td>\n",
       "    </tr>\n",
       "    <tr>\n",
       "      <th>2020-04-29 22:00:00</th>\n",
       "      <td>1.08728</td>\n",
       "      <td>1.08760</td>\n",
       "      <td>1.08727</td>\n",
       "      <td>1.08743</td>\n",
       "    </tr>\n",
       "  </tbody>\n",
       "</table>\n",
       "<p>50000 rows × 4 columns</p>\n",
       "</div>"
      ],
      "text/plain": [
       "                        Open     High      Low    Close\n",
       "Date                                                   \n",
       "2012-03-28 02:00:00  1.33221  1.33319  1.33204  1.33304\n",
       "2012-03-28 03:00:00  1.33301  1.33304  1.33256  1.33287\n",
       "2012-03-28 04:00:00  1.33290  1.33338  1.33255  1.33255\n",
       "2012-03-28 05:00:00  1.33257  1.33348  1.33255  1.33322\n",
       "2012-03-28 06:00:00  1.33325  1.33353  1.33154  1.33250\n",
       "...                      ...      ...      ...      ...\n",
       "2020-04-29 18:00:00  1.08620  1.08851  1.08611  1.08713\n",
       "2020-04-29 19:00:00  1.08711  1.08823  1.08659  1.08748\n",
       "2020-04-29 20:00:00  1.08747  1.08788  1.08691  1.08708\n",
       "2020-04-29 21:00:00  1.08708  1.08740  1.08699  1.08714\n",
       "2020-04-29 22:00:00  1.08728  1.08760  1.08727  1.08743\n",
       "\n",
       "[50000 rows x 4 columns]"
      ]
     },
     "execution_count": 3,
     "metadata": {},
     "output_type": "execute_result"
    }
   ],
   "source": [
    "# price data from simulation noteboook (real or simulated)\n",
    "#  'tspattern_data_simulate.ipynb'\n",
    "df = pd.read_csv('./resources/eurusd_hour_real.csv', index_col=0,parse_dates=True)\n",
    "df"
   ]
  },
  {
   "cell_type": "code",
   "execution_count": 4,
   "metadata": {
    "ExecuteTime": {
     "end_time": "2021-02-20T06:51:56.117543Z",
     "start_time": "2021-02-20T06:51:21.460256Z"
    }
   },
   "outputs": [
    {
     "name": "stderr",
     "output_type": "stream",
     "text": [
      "100%|██████████| 50000/50000 [00:34<00:00, 1443.87it/s]\n"
     ]
    },
    {
     "data": {
      "text/html": [
       "<div>\n",
       "<style scoped>\n",
       "    .dataframe tbody tr th:only-of-type {\n",
       "        vertical-align: middle;\n",
       "    }\n",
       "\n",
       "    .dataframe tbody tr th {\n",
       "        vertical-align: top;\n",
       "    }\n",
       "\n",
       "    .dataframe thead th {\n",
       "        text-align: right;\n",
       "    }\n",
       "</style>\n",
       "<table border=\"1\" class=\"dataframe\">\n",
       "  <thead>\n",
       "    <tr style=\"text-align: right;\">\n",
       "      <th></th>\n",
       "      <th>date</th>\n",
       "      <th>open</th>\n",
       "      <th>high</th>\n",
       "      <th>low</th>\n",
       "      <th>close</th>\n",
       "      <th>upper_shadow</th>\n",
       "      <th>lower_shadow</th>\n",
       "      <th>real_body</th>\n",
       "    </tr>\n",
       "    <tr>\n",
       "      <th>Date</th>\n",
       "      <th></th>\n",
       "      <th></th>\n",
       "      <th></th>\n",
       "      <th></th>\n",
       "      <th></th>\n",
       "      <th></th>\n",
       "      <th></th>\n",
       "      <th></th>\n",
       "    </tr>\n",
       "  </thead>\n",
       "  <tbody>\n",
       "    <tr>\n",
       "      <th>2012-03-28 02:00:00</th>\n",
       "      <td>2012-03-28 02:00:00</td>\n",
       "      <td>1.33221</td>\n",
       "      <td>1.33319</td>\n",
       "      <td>1.33204</td>\n",
       "      <td>1.33304</td>\n",
       "      <td>0.00015</td>\n",
       "      <td>0.00017</td>\n",
       "      <td>0.00083</td>\n",
       "    </tr>\n",
       "    <tr>\n",
       "      <th>2012-03-28 03:00:00</th>\n",
       "      <td>2012-03-28 03:00:00</td>\n",
       "      <td>1.33301</td>\n",
       "      <td>1.33304</td>\n",
       "      <td>1.33256</td>\n",
       "      <td>1.33287</td>\n",
       "      <td>-0.00003</td>\n",
       "      <td>-0.00031</td>\n",
       "      <td>-0.00014</td>\n",
       "    </tr>\n",
       "    <tr>\n",
       "      <th>2012-03-28 04:00:00</th>\n",
       "      <td>2012-03-28 04:00:00</td>\n",
       "      <td>1.33290</td>\n",
       "      <td>1.33338</td>\n",
       "      <td>1.33255</td>\n",
       "      <td>1.33255</td>\n",
       "      <td>-0.00048</td>\n",
       "      <td>0.00000</td>\n",
       "      <td>-0.00035</td>\n",
       "    </tr>\n",
       "    <tr>\n",
       "      <th>2012-03-28 05:00:00</th>\n",
       "      <td>2012-03-28 05:00:00</td>\n",
       "      <td>1.33257</td>\n",
       "      <td>1.33348</td>\n",
       "      <td>1.33255</td>\n",
       "      <td>1.33322</td>\n",
       "      <td>0.00026</td>\n",
       "      <td>0.00002</td>\n",
       "      <td>0.00065</td>\n",
       "    </tr>\n",
       "    <tr>\n",
       "      <th>2012-03-28 06:00:00</th>\n",
       "      <td>2012-03-28 06:00:00</td>\n",
       "      <td>1.33325</td>\n",
       "      <td>1.33353</td>\n",
       "      <td>1.33154</td>\n",
       "      <td>1.33250</td>\n",
       "      <td>-0.00028</td>\n",
       "      <td>-0.00096</td>\n",
       "      <td>-0.00075</td>\n",
       "    </tr>\n",
       "    <tr>\n",
       "      <th>...</th>\n",
       "      <td>...</td>\n",
       "      <td>...</td>\n",
       "      <td>...</td>\n",
       "      <td>...</td>\n",
       "      <td>...</td>\n",
       "      <td>...</td>\n",
       "      <td>...</td>\n",
       "      <td>...</td>\n",
       "    </tr>\n",
       "    <tr>\n",
       "      <th>2020-04-29 18:00:00</th>\n",
       "      <td>2020-04-29 18:00:00</td>\n",
       "      <td>1.08620</td>\n",
       "      <td>1.08851</td>\n",
       "      <td>1.08611</td>\n",
       "      <td>1.08713</td>\n",
       "      <td>0.00138</td>\n",
       "      <td>0.00009</td>\n",
       "      <td>0.00093</td>\n",
       "    </tr>\n",
       "    <tr>\n",
       "      <th>2020-04-29 19:00:00</th>\n",
       "      <td>2020-04-29 19:00:00</td>\n",
       "      <td>1.08711</td>\n",
       "      <td>1.08823</td>\n",
       "      <td>1.08659</td>\n",
       "      <td>1.08748</td>\n",
       "      <td>0.00075</td>\n",
       "      <td>0.00052</td>\n",
       "      <td>0.00037</td>\n",
       "    </tr>\n",
       "    <tr>\n",
       "      <th>2020-04-29 20:00:00</th>\n",
       "      <td>2020-04-29 20:00:00</td>\n",
       "      <td>1.08747</td>\n",
       "      <td>1.08788</td>\n",
       "      <td>1.08691</td>\n",
       "      <td>1.08708</td>\n",
       "      <td>-0.00041</td>\n",
       "      <td>-0.00017</td>\n",
       "      <td>-0.00039</td>\n",
       "    </tr>\n",
       "    <tr>\n",
       "      <th>2020-04-29 21:00:00</th>\n",
       "      <td>2020-04-29 21:00:00</td>\n",
       "      <td>1.08708</td>\n",
       "      <td>1.08740</td>\n",
       "      <td>1.08699</td>\n",
       "      <td>1.08714</td>\n",
       "      <td>0.00026</td>\n",
       "      <td>0.00009</td>\n",
       "      <td>0.00006</td>\n",
       "    </tr>\n",
       "    <tr>\n",
       "      <th>2020-04-29 22:00:00</th>\n",
       "      <td>2020-04-29 22:00:00</td>\n",
       "      <td>1.08728</td>\n",
       "      <td>1.08760</td>\n",
       "      <td>1.08727</td>\n",
       "      <td>1.08743</td>\n",
       "      <td>0.00017</td>\n",
       "      <td>0.00001</td>\n",
       "      <td>0.00015</td>\n",
       "    </tr>\n",
       "  </tbody>\n",
       "</table>\n",
       "<p>50000 rows × 8 columns</p>\n",
       "</div>"
      ],
      "text/plain": [
       "                                   date     open     high      low    close  \\\n",
       "Date                                                                          \n",
       "2012-03-28 02:00:00 2012-03-28 02:00:00  1.33221  1.33319  1.33204  1.33304   \n",
       "2012-03-28 03:00:00 2012-03-28 03:00:00  1.33301  1.33304  1.33256  1.33287   \n",
       "2012-03-28 04:00:00 2012-03-28 04:00:00  1.33290  1.33338  1.33255  1.33255   \n",
       "2012-03-28 05:00:00 2012-03-28 05:00:00  1.33257  1.33348  1.33255  1.33322   \n",
       "2012-03-28 06:00:00 2012-03-28 06:00:00  1.33325  1.33353  1.33154  1.33250   \n",
       "...                                 ...      ...      ...      ...      ...   \n",
       "2020-04-29 18:00:00 2020-04-29 18:00:00  1.08620  1.08851  1.08611  1.08713   \n",
       "2020-04-29 19:00:00 2020-04-29 19:00:00  1.08711  1.08823  1.08659  1.08748   \n",
       "2020-04-29 20:00:00 2020-04-29 20:00:00  1.08747  1.08788  1.08691  1.08708   \n",
       "2020-04-29 21:00:00 2020-04-29 21:00:00  1.08708  1.08740  1.08699  1.08714   \n",
       "2020-04-29 22:00:00 2020-04-29 22:00:00  1.08728  1.08760  1.08727  1.08743   \n",
       "\n",
       "                     upper_shadow  lower_shadow  real_body  \n",
       "Date                                                        \n",
       "2012-03-28 02:00:00       0.00015       0.00017    0.00083  \n",
       "2012-03-28 03:00:00      -0.00003      -0.00031   -0.00014  \n",
       "2012-03-28 04:00:00      -0.00048       0.00000   -0.00035  \n",
       "2012-03-28 05:00:00       0.00026       0.00002    0.00065  \n",
       "2012-03-28 06:00:00      -0.00028      -0.00096   -0.00075  \n",
       "...                           ...           ...        ...  \n",
       "2020-04-29 18:00:00       0.00138       0.00009    0.00093  \n",
       "2020-04-29 19:00:00       0.00075       0.00052    0.00037  \n",
       "2020-04-29 20:00:00      -0.00041      -0.00017   -0.00039  \n",
       "2020-04-29 21:00:00       0.00026       0.00009    0.00006  \n",
       "2020-04-29 22:00:00       0.00017       0.00001    0.00015  \n",
       "\n",
       "[50000 rows x 8 columns]"
      ]
     },
     "execution_count": 4,
     "metadata": {},
     "output_type": "execute_result"
    }
   ],
   "source": [
    "# derive candlestick components from ohlc\n",
    "#  upper-shadow, lower-shadow, real-body\n",
    "with tqdm(total=df.shape[0]) as pbar:\n",
    "    \n",
    "    for index, row in df.iterrows():\n",
    "        pbar.update(1)\n",
    "\n",
    "        # real body - positive=rising / negative=falling\n",
    "        df.loc[index,'real_body'] = df.loc[index,'Close'] - df.loc[index,'Open']\n",
    "\n",
    "        # rising candle\n",
    "        if df.loc[index,'Close'] >= df.loc[index,'Open']: \n",
    "            df.loc[index,'upper_shadow'] = df.loc[index,'High'] - df.loc[index,'Close']\n",
    "            df.loc[index,'lower_shadow'] = df.loc[index,'Open'] - df.loc[index,'Low']\n",
    "\n",
    "        # falling candle   \n",
    "        else:\n",
    "            df.loc[index,'upper_shadow'] = df.loc[index,'Open'] - df.loc[index,'High']\n",
    "            df.loc[index,'lower_shadow'] = df.loc[index,'Low'] - df.loc[index,'Close']  \n",
    "        \n",
    "# tidy up\n",
    "df = df.rename(columns={'Open': 'open', 'High': 'high', 'Low': 'low', 'Close': 'close'})\n",
    "df['date'] = df.index\n",
    "df = df[['date', 'open', 'high', 'low', 'close', 'upper_shadow', 'lower_shadow', 'real_body']]\n",
    "df"
   ]
  },
  {
   "cell_type": "code",
   "execution_count": 5,
   "metadata": {
    "ExecuteTime": {
     "end_time": "2021-02-20T06:51:56.752054Z",
     "start_time": "2021-02-20T06:51:56.120198Z"
    }
   },
   "outputs": [
    {
     "data": {
      "image/png": "[encoded data removed]",
      "text/plain": [
       "<Figure size 432x288 with 1 Axes>"
      ]
     },
     "metadata": {
      "needs_background": "light"
     },
     "output_type": "display_data"
    }
   ],
   "source": [
    "# investigate for outliers\n",
    "df[['upper_shadow', 'lower_shadow', 'real_body']].plot();"
   ]
  },
  {
   "cell_type": "code",
   "execution_count": 6,
   "metadata": {
    "ExecuteTime": {
     "end_time": "2021-02-20T06:51:56.756926Z",
     "start_time": "2021-02-20T06:51:56.754582Z"
    }
   },
   "outputs": [],
   "source": [
    "# # remove obvious outliers if any\n",
    "# df = df[(np.abs(stats.zscore(df['open'])) < 3)]\n",
    "# df = df[(np.abs(stats.zscore(df['high'])) < 3)]\n",
    "# df = df[(np.abs(stats.zscore(df['low'])) < 3)]\n",
    "# df = df[(np.abs(stats.zscore(df['close'])) < 3)]\n",
    "# df = df[(np.abs(stats.zscore(df['lower_shadow'])) < 3)]\n",
    "# df = df[(np.abs(stats.zscore(df['upper_shadow'])) < 3)]\n",
    "# df = df[(np.abs(stats.zscore(df['real_body'])) < 3)]\n",
    "# df"
   ]
  },
  {
   "cell_type": "code",
   "execution_count": 7,
   "metadata": {
    "ExecuteTime": {
     "end_time": "2021-02-20T06:51:56.761009Z",
     "start_time": "2021-02-20T06:51:56.759239Z"
    }
   },
   "outputs": [],
   "source": [
    "# # confirm removal of outliers\n",
    "# df[['upper_shadow', 'lower_shadow', 'real_body']].plot();"
   ]
  },
  {
   "cell_type": "code",
   "execution_count": 8,
   "metadata": {
    "ExecuteTime": {
     "end_time": "2021-02-20T06:52:20.841851Z",
     "start_time": "2021-02-20T06:51:56.764309Z"
    }
   },
   "outputs": [
    {
     "name": "stderr",
     "output_type": "stream",
     "text": [
      "Generating...: 100%|##########| 49995/49995 [00:24<00:00, 2077.04it/s]\n"
     ]
    }
   ],
   "source": [
    "# calculate slope and fit of regression\n",
    "#  for every group of 'periods' closing prices\n",
    "\n",
    "# initialise\n",
    "periods = 5\n",
    "slopeall = []\n",
    "idxall = []\n",
    "\n",
    "# loop through all closign prices starting at the 'periods'th\n",
    "for h in trange(periods, df.shape[0], desc=\"Generating...\", ascii=True):\n",
    "\n",
    "    # previous 'periods' closing prices\n",
    "    prev = (df.iloc[h-periods:h,4].values +df.iloc[h-periods:h,1].values) / 2.\n",
    "    \n",
    "    # linear regression\n",
    "    slope, intercept, r_value, p_value, std_err = stats.linregress(list(range(periods)), prev)\n",
    "    \n",
    "    # append results\n",
    "    slopeall.append([slope, r_value**2])\n",
    "    idxall.append(df.index[h])"
   ]
  },
  {
   "cell_type": "code",
   "execution_count": 9,
   "metadata": {
    "ExecuteTime": {
     "end_time": "2021-02-20T06:52:41.228963Z",
     "start_time": "2021-02-20T06:52:20.844398Z"
    }
   },
   "outputs": [
    {
     "name": "stderr",
     "output_type": "stream",
     "text": [
      "Generating...: 100%|##########| 49995/49995 [00:20<00:00, 2453.58it/s]\n"
     ]
    }
   ],
   "source": [
    "# create new column in dataframe - 'slope'\n",
    "#  fill with categories (positive, neagative, neutral)\n",
    "\n",
    "# initialise new column in dataframe\n",
    "df['slope'] = 'neutral'\n",
    "\n",
    "# loop through all calculated slopes\n",
    "for i in trange(len(idxall), desc=\"Generating...\", ascii=True):\n",
    "\n",
    "    # positive slope\n",
    "    if slopeall[i][0] > 0.00005 and slopeall[i][1] > 0.65:\n",
    "        df.loc[idxall[i], 'slope'] = 'positive'\n",
    "\n",
    "    # negative slope\n",
    "    elif slopeall[i][0] < -0.00005 and slopeall[i][1] > 0.65:\n",
    "        df.loc[idxall[i], 'slope'] = 'negative'\n",
    "\n",
    "#     # no slope\n",
    "#     else:\n",
    "#         df.loc[idxall[i+4], 'slope'] = 'neutral'"
   ]
  },
  {
   "cell_type": "code",
   "execution_count": 10,
   "metadata": {
    "ExecuteTime": {
     "end_time": "2021-02-20T06:52:41.239560Z",
     "start_time": "2021-02-20T06:52:41.230485Z"
    }
   },
   "outputs": [
    {
     "data": {
      "text/plain": [
       "neutral     23658\n",
       "negative    13188\n",
       "positive    13154\n",
       "Name: slope, dtype: int64"
      ]
     },
     "execution_count": 10,
     "metadata": {},
     "output_type": "execute_result"
    }
   ],
   "source": [
    "# review counts of each slope category\n",
    "df['slope'].value_counts()"
   ]
  },
  {
   "cell_type": "code",
   "execution_count": 11,
   "metadata": {
    "ExecuteTime": {
     "end_time": "2021-02-20T06:53:23.403729Z",
     "start_time": "2021-02-20T06:52:41.241793Z"
    }
   },
   "outputs": [
    {
     "name": "stderr",
     "output_type": "stream",
     "text": [
      "Generating...: 100%|##########| 49997/49997 [00:42<00:00, 1186.09it/s]\n"
     ]
    }
   ],
   "source": [
    "# create new column in dataframe - 'indicator'\n",
    "#  fill with categories of candlestick patterns\n",
    "df['indicator'] = 'neutral'\n",
    "\n",
    "for i in trange(3, df.shape[0], desc=\"Generating...\", ascii=True):\n",
    "    \n",
    "    current = df.iloc[i,:]\n",
    "    prev = df.iloc[i-1,:]\n",
    "    prev2 = df.iloc[i-2,:]\n",
    "    prev3 = df.iloc[i-3,:]\n",
    "    idx = df.index[i]\n",
    "\n",
    "    # doji\n",
    "    if df.loc[idx, 'slope'] == 'negative' and \\\n",
    "        prev['close'] < prev['open'] and \\\n",
    "        abs(current['close'] - current['open']) < 0.01 and \\\n",
    "        current['open'] < prev['close']:\n",
    "        df.loc[idx,'indicator'] = 'doji-buy'\n",
    "    \n",
    "    if df.loc[idx, 'slope'] == 'positive' and \\\n",
    "        prev['close'] > prev['open'] and \\\n",
    "        abs(current['close'] - current['open']) < 0.01 and \\\n",
    "        current['open'] > prev['close']:\n",
    "        df.loc[idx,'indicator'] = 'doji-sell'\n",
    "\n",
    "#     # harami   \n",
    "#     if df.loc[idx, 'slope'] == 'negative' and \\\n",
    "#         prev['close'] < prev['open'] and \\\n",
    "#         current['close'] > current['open'] and \\\n",
    "#         prev['close'] < current['low'] and \\\n",
    "#         prev['open'] > current['high']:\n",
    "#         df.loc[idx,'indicator'] = 'harami-buy'\n",
    "        \n",
    "#     if df.loc[idx, 'slope'] == 'positive' and \\\n",
    "#         prev['close'] > prev['open'] and \\\n",
    "#         current['close'] < current['open'] and \\\n",
    "#         prev['close'] > current['high'] and \\\n",
    "#         prev['open'] < current['low']:\n",
    "#         df.loc[idx,'indicator'] = 'harami-sell'\n",
    "       \n",
    "#     # piercing\n",
    "#     if df.loc[idx, 'slope'] == 'negative' and \\\n",
    "#         prev['close'] < prev['open'] and \\\n",
    "#         current['close'] > current['open'] and \\\n",
    "#         current['open'] < prev['close'] and \\\n",
    "#         current['close'] > prev['close'] and \\\n",
    "#         current['close'] < prev['open']:\n",
    "#         df.loc[idx,'indicator'] = 'piercing-buy'\n",
    "    \n",
    "#     # dark cloud\n",
    "#     if df.loc[idx, 'slope'] == 'positive' and \\\n",
    "#         prev['close'] > prev['open'] and \\\n",
    "#         current['close'] < current['open'] and \\\n",
    "#         current['open'] > prev['close'] and \\\n",
    "#         current['close'] < prev['close'] and \\\n",
    "#         current['close'] > prev['open']:\n",
    "#         df.loc[idx,'indicator'] = 'darkcloud-sell'\n",
    "    \n",
    "#     # morning star\n",
    "#     if df.loc[idx, 'slope'] == 'negative' and \\\n",
    "#         prev2['open'] > prev2['close'] and \\\n",
    "#         current['open'] < current['close'] and \\\n",
    "#         max(prev['close'], prev['open']) < prev2['close'] and \\\n",
    "#         current['open'] > max(prev['close'], prev['open']) and \\\n",
    "#         current['close'] > prev2['close'] + 0.5*(prev2['open']-prev2['close']):\n",
    "#         df.loc[idx,'indicator'] = 'morningstar-buy'\n",
    "\n",
    "#     # evening star\n",
    "#     if df.loc[idx, 'slope'] == 'positive' and \\\n",
    "#         prev2['open'] < prev2['close'] and \\\n",
    "#         current['open'] > current['close'] and \\\n",
    "#         min(prev['close'], prev['open']) > prev2['close'] and \\\n",
    "#         current['open'] < min(prev['close'], prev['open']) and \\\n",
    "#         current['close'] < prev2['open'] + 0.5*(prev2['close']-prev2['open']):\n",
    "#         df.loc[idx,'indicator'] = 'eveningstar-sell'\n",
    "        \n",
    "#     # engulfing\n",
    "#     if df.loc[idx, 'slope'] == 'negative' and \\\n",
    "#         prev3['open'] > prev3['close'] and \\\n",
    "#         prev2['open'] > prev2['close'] and \\\n",
    "#         prev['open'] > prev['close'] and \\\n",
    "#         current['open'] < current['close'] and \\\n",
    "#         current['open'] < prev['close'] and \\\n",
    "#         current['close'] > prev['open']:\n",
    "#         df.loc[idx,'indicator'] = 'engulfing-buy'\n",
    "    \n",
    "#     if df.loc[idx, 'slope'] == 'positive' and \\\n",
    "#         prev3['open'] < prev3['close'] and \\\n",
    "#         prev2['open'] < prev2['close'] and \\\n",
    "#         prev['open'] < prev['close'] and \\\n",
    "#         current['open'] > current['close'] and \\\n",
    "#         current['open'] > prev['close'] and \\\n",
    "#         current['close'] < prev['open']:\n",
    "#         df.loc[idx,'indicator'] = 'engulfing-sell'"
   ]
  },
  {
   "cell_type": "code",
   "execution_count": 12,
   "metadata": {
    "ExecuteTime": {
     "end_time": "2021-02-20T06:53:23.414891Z",
     "start_time": "2021-02-20T06:53:23.405829Z"
    }
   },
   "outputs": [
    {
     "data": {
      "text/plain": [
       "neutral      43583\n",
       "doji-buy      3330\n",
       "doji-sell     3087\n",
       "Name: indicator, dtype: int64"
      ]
     },
     "execution_count": 12,
     "metadata": {},
     "output_type": "execute_result"
    }
   ],
   "source": [
    "# review counts of each indicator category\n",
    "df['indicator'].value_counts()"
   ]
  },
  {
   "cell_type": "code",
   "execution_count": 13,
   "metadata": {
    "ExecuteTime": {
     "end_time": "2021-02-20T06:53:23.963475Z",
     "start_time": "2021-02-20T06:53:23.417634Z"
    }
   },
   "outputs": [],
   "source": [
    "# dataframe to csv\n",
    "df.to_csv('./resources/eurusd_hour_real_labelled.csv', index=False,)"
   ]
  },
  {
   "cell_type": "code",
   "execution_count": null,
   "metadata": {},
   "outputs": [],
   "source": []
  }
 ],
 "metadata": {
  "hide_input": false,
  "kernelspec": {
   "display_name": "Python 3",
   "language": "python",
   "name": "python3"
  },
  "language_info": {
   "codemirror_mode": {
    "name": "ipython",
    "version": 3
   },
   "file_extension": ".py",
   "mimetype": "text/x-python",
   "name": "python",
   "nbconvert_exporter": "python",
   "pygments_lexer": "ipython3",
   "version": "3.7.7"
  }
 },
 "nbformat": 4,
 "nbformat_minor": 4
}
