{
 "cells": [
  {
   "cell_type": "code",
   "execution_count": 1,
   "metadata": {
    "ExecuteTime": {
     "end_time": "2021-02-11T07:46:26.926243Z",
     "start_time": "2021-02-11T07:46:26.576331Z"
    }
   },
   "outputs": [],
   "source": [
    "# dependencies\n",
    "import pandas as pd"
   ]
  },
  {
   "cell_type": "code",
   "execution_count": 2,
   "metadata": {
    "ExecuteTime": {
     "end_time": "2021-02-11T07:46:26.930650Z",
     "start_time": "2021-02-11T07:46:26.928362Z"
    }
   },
   "outputs": [],
   "source": [
    "# seed value for the notebook\n",
    "from numpy.random import seed\n",
    "seed(42)"
   ]
  },
  {
   "cell_type": "code",
   "execution_count": 3,
   "metadata": {
    "ExecuteTime": {
     "end_time": "2021-02-11T07:46:26.955106Z",
     "start_time": "2021-02-11T07:46:26.932928Z"
    }
   },
   "outputs": [
    {
     "data": {
      "text/html": [
       "<div>\n",
       "<style scoped>\n",
       "    .dataframe tbody tr th:only-of-type {\n",
       "        vertical-align: middle;\n",
       "    }\n",
       "\n",
       "    .dataframe tbody tr th {\n",
       "        vertical-align: top;\n",
       "    }\n",
       "\n",
       "    .dataframe thead th {\n",
       "        text-align: right;\n",
       "    }\n",
       "</style>\n",
       "<table border=\"1\" class=\"dataframe\">\n",
       "  <thead>\n",
       "    <tr style=\"text-align: right;\">\n",
       "      <th></th>\n",
       "      <th>close</th>\n",
       "      <th>upper_shadow</th>\n",
       "      <th>lower_shadow</th>\n",
       "      <th>real_body</th>\n",
       "      <th>candlestick_pattern</th>\n",
       "    </tr>\n",
       "  </thead>\n",
       "  <tbody>\n",
       "    <tr>\n",
       "      <th>0</th>\n",
       "      <td>295.875977</td>\n",
       "      <td>2.216705</td>\n",
       "      <td>2.346191</td>\n",
       "      <td>-1.379822</td>\n",
       "      <td>NO_PATTERN</td>\n",
       "    </tr>\n",
       "    <tr>\n",
       "      <th>1</th>\n",
       "      <td>301.046600</td>\n",
       "      <td>0.617676</td>\n",
       "      <td>0.000000</td>\n",
       "      <td>3.920288</td>\n",
       "      <td>NO_PATTERN</td>\n",
       "    </tr>\n",
       "    <tr>\n",
       "      <th>2</th>\n",
       "      <td>299.935760</td>\n",
       "      <td>2.022430</td>\n",
       "      <td>2.739716</td>\n",
       "      <td>-1.743469</td>\n",
       "      <td>NO_PATTERN</td>\n",
       "    </tr>\n",
       "    <tr>\n",
       "      <th>3</th>\n",
       "      <td>303.397797</td>\n",
       "      <td>0.627655</td>\n",
       "      <td>0.009949</td>\n",
       "      <td>4.483215</td>\n",
       "      <td>NO_PATTERN</td>\n",
       "    </tr>\n",
       "    <tr>\n",
       "      <th>4</th>\n",
       "      <td>305.604523</td>\n",
       "      <td>2.455780</td>\n",
       "      <td>0.313843</td>\n",
       "      <td>1.404724</td>\n",
       "      <td>NO_PATTERN</td>\n",
       "    </tr>\n",
       "    <tr>\n",
       "      <th>...</th>\n",
       "      <td>...</td>\n",
       "      <td>...</td>\n",
       "      <td>...</td>\n",
       "      <td>...</td>\n",
       "      <td>...</td>\n",
       "    </tr>\n",
       "    <tr>\n",
       "      <th>2512</th>\n",
       "      <td>1732.380005</td>\n",
       "      <td>15.609985</td>\n",
       "      <td>3.069946</td>\n",
       "      <td>4.270020</td>\n",
       "      <td>NO_PATTERN</td>\n",
       "    </tr>\n",
       "    <tr>\n",
       "      <th>2513</th>\n",
       "      <td>1738.849976</td>\n",
       "      <td>7.150024</td>\n",
       "      <td>5.890015</td>\n",
       "      <td>3.849976</td>\n",
       "      <td>NO_PATTERN</td>\n",
       "    </tr>\n",
       "    <tr>\n",
       "      <th>2514</th>\n",
       "      <td>1776.089966</td>\n",
       "      <td>14.638062</td>\n",
       "      <td>5.300049</td>\n",
       "      <td>24.454956</td>\n",
       "      <td>NO_PATTERN</td>\n",
       "    </tr>\n",
       "    <tr>\n",
       "      <th>2515</th>\n",
       "      <td>1758.719971</td>\n",
       "      <td>33.719971</td>\n",
       "      <td>31.700073</td>\n",
       "      <td>-29.070068</td>\n",
       "      <td>NO_PATTERN</td>\n",
       "    </tr>\n",
       "    <tr>\n",
       "      <th>2516</th>\n",
       "      <td>1739.520020</td>\n",
       "      <td>25.574951</td>\n",
       "      <td>36.410034</td>\n",
       "      <td>-22.489990</td>\n",
       "      <td>NO_PATTERN</td>\n",
       "    </tr>\n",
       "  </tbody>\n",
       "</table>\n",
       "<p>2517 rows × 5 columns</p>\n",
       "</div>"
      ],
      "text/plain": [
       "            close  upper_shadow  lower_shadow  real_body candlestick_pattern\n",
       "0      295.875977      2.216705      2.346191  -1.379822          NO_PATTERN\n",
       "1      301.046600      0.617676      0.000000   3.920288          NO_PATTERN\n",
       "2      299.935760      2.022430      2.739716  -1.743469          NO_PATTERN\n",
       "3      303.397797      0.627655      0.009949   4.483215          NO_PATTERN\n",
       "4      305.604523      2.455780      0.313843   1.404724          NO_PATTERN\n",
       "...           ...           ...           ...        ...                 ...\n",
       "2512  1732.380005     15.609985      3.069946   4.270020          NO_PATTERN\n",
       "2513  1738.849976      7.150024      5.890015   3.849976          NO_PATTERN\n",
       "2514  1776.089966     14.638062      5.300049  24.454956          NO_PATTERN\n",
       "2515  1758.719971     33.719971     31.700073 -29.070068          NO_PATTERN\n",
       "2516  1739.520020     25.574951     36.410034 -22.489990          NO_PATTERN\n",
       "\n",
       "[2517 rows x 5 columns]"
      ]
     },
     "execution_count": 3,
     "metadata": {},
     "output_type": "execute_result"
    }
   ],
   "source": [
    "# read data\n",
    "df = pd.read_csv('./resources/google_10yrs_culr_labelled.csv')\n",
    "df"
   ]
  },
  {
   "cell_type": "code",
   "execution_count": 4,
   "metadata": {
    "ExecuteTime": {
     "end_time": "2021-02-11T07:46:26.961058Z",
     "start_time": "2021-02-11T07:46:26.957420Z"
    }
   },
   "outputs": [
    {
     "name": "stdout",
     "output_type": "stream",
     "text": [
      "(2517, 4) (2517,)\n"
     ]
    }
   ],
   "source": [
    "X = df.drop(['candlestick_pattern'], axis=1)\n",
    "y = df['candlestick_pattern']\n",
    "print(X.shape, y.shape)"
   ]
  },
  {
   "cell_type": "code",
   "execution_count": 5,
   "metadata": {
    "ExecuteTime": {
     "end_time": "2021-02-11T07:46:26.965888Z",
     "start_time": "2021-02-11T07:46:26.962492Z"
    }
   },
   "outputs": [
    {
     "data": {
      "text/plain": [
       "['NO_PATTERN', 'CDLHAMMER', 'CDLEVENINGSTAR', 'CDLMORNINGSTAR']"
      ]
     },
     "execution_count": 5,
     "metadata": {},
     "output_type": "execute_result"
    }
   ],
   "source": [
    "labels = list(y.unique())\n",
    "labels"
   ]
  },
  {
   "cell_type": "code",
   "execution_count": 6,
   "metadata": {
    "ExecuteTime": {
     "end_time": "2021-02-11T07:46:29.001177Z",
     "start_time": "2021-02-11T07:46:26.967404Z"
    }
   },
   "outputs": [
    {
     "data": {
      "text/plain": [
       "array([[0., 0., 0., 1.],\n",
       "       [0., 0., 0., 1.],\n",
       "       [0., 0., 0., 1.],\n",
       "       ...,\n",
       "       [0., 0., 0., 1.],\n",
       "       [0., 0., 0., 1.],\n",
       "       [0., 0., 0., 1.]], dtype=float32)"
      ]
     },
     "execution_count": 6,
     "metadata": {},
     "output_type": "execute_result"
    }
   ],
   "source": [
    "# target category encoding\n",
    "from sklearn.preprocessing import LabelEncoder\n",
    "from tensorflow.keras.utils import to_categorical\n",
    "label_encoder = LabelEncoder()\n",
    "label_encoder.fit(y)\n",
    "y_encoded = label_encoder.transform(y)\n",
    "y_categorical = to_categorical(y_encoded)\n",
    "y_categorical"
   ]
  },
  {
   "cell_type": "code",
   "execution_count": 7,
   "metadata": {
    "ExecuteTime": {
     "end_time": "2021-02-11T07:46:29.029603Z",
     "start_time": "2021-02-11T07:46:29.003324Z"
    }
   },
   "outputs": [],
   "source": [
    "# split 75/25 (train/test)\n",
    "from sklearn.model_selection import train_test_split\n",
    "X_train, X_test, y_train, y_test = train_test_split(X, y_categorical, random_state=1)"
   ]
  },
  {
   "cell_type": "code",
   "execution_count": 8,
   "metadata": {
    "ExecuteTime": {
     "end_time": "2021-02-11T07:46:29.046629Z",
     "start_time": "2021-02-11T07:46:29.034090Z"
    }
   },
   "outputs": [
    {
     "data": {
      "text/html": [
       "<div>\n",
       "<style scoped>\n",
       "    .dataframe tbody tr th:only-of-type {\n",
       "        vertical-align: middle;\n",
       "    }\n",
       "\n",
       "    .dataframe tbody tr th {\n",
       "        vertical-align: top;\n",
       "    }\n",
       "\n",
       "    .dataframe thead th {\n",
       "        text-align: right;\n",
       "    }\n",
       "</style>\n",
       "<table border=\"1\" class=\"dataframe\">\n",
       "  <thead>\n",
       "    <tr style=\"text-align: right;\">\n",
       "      <th></th>\n",
       "      <th>close</th>\n",
       "      <th>upper_shadow</th>\n",
       "      <th>lower_shadow</th>\n",
       "      <th>real_body</th>\n",
       "    </tr>\n",
       "  </thead>\n",
       "  <tbody>\n",
       "    <tr>\n",
       "      <th>2514</th>\n",
       "      <td>1776.089966</td>\n",
       "      <td>14.638062</td>\n",
       "      <td>5.300049</td>\n",
       "      <td>24.454956</td>\n",
       "    </tr>\n",
       "    <tr>\n",
       "      <th>1403</th>\n",
       "      <td>768.789978</td>\n",
       "      <td>9.760010</td>\n",
       "      <td>5.940002</td>\n",
       "      <td>-3.920044</td>\n",
       "    </tr>\n",
       "    <tr>\n",
       "      <th>1470</th>\n",
       "      <td>768.700012</td>\n",
       "      <td>12.950012</td>\n",
       "      <td>14.750000</td>\n",
       "      <td>-9.500000</td>\n",
       "    </tr>\n",
       "    <tr>\n",
       "      <th>2422</th>\n",
       "      <td>1517.979980</td>\n",
       "      <td>7.630005</td>\n",
       "      <td>6.700073</td>\n",
       "      <td>3.309937</td>\n",
       "    </tr>\n",
       "    <tr>\n",
       "      <th>341</th>\n",
       "      <td>303.437653</td>\n",
       "      <td>3.601501</td>\n",
       "      <td>2.495636</td>\n",
       "      <td>1.160675</td>\n",
       "    </tr>\n",
       "    <tr>\n",
       "      <th>...</th>\n",
       "      <td>...</td>\n",
       "      <td>...</td>\n",
       "      <td>...</td>\n",
       "      <td>...</td>\n",
       "    </tr>\n",
       "    <tr>\n",
       "      <th>960</th>\n",
       "      <td>538.302063</td>\n",
       "      <td>5.086060</td>\n",
       "      <td>8.546570</td>\n",
       "      <td>-4.567505</td>\n",
       "    </tr>\n",
       "    <tr>\n",
       "      <th>905</th>\n",
       "      <td>561.817505</td>\n",
       "      <td>6.512146</td>\n",
       "      <td>6.881104</td>\n",
       "      <td>-4.627319</td>\n",
       "    </tr>\n",
       "    <tr>\n",
       "      <th>1096</th>\n",
       "      <td>529.039978</td>\n",
       "      <td>4.169006</td>\n",
       "      <td>6.339966</td>\n",
       "      <td>-2.559998</td>\n",
       "    </tr>\n",
       "    <tr>\n",
       "      <th>235</th>\n",
       "      <td>310.720337</td>\n",
       "      <td>2.415955</td>\n",
       "      <td>1.369843</td>\n",
       "      <td>0.388550</td>\n",
       "    </tr>\n",
       "    <tr>\n",
       "      <th>1061</th>\n",
       "      <td>557.279968</td>\n",
       "      <td>3.540283</td>\n",
       "      <td>4.587402</td>\n",
       "      <td>-1.615601</td>\n",
       "    </tr>\n",
       "  </tbody>\n",
       "</table>\n",
       "<p>1887 rows × 4 columns</p>\n",
       "</div>"
      ],
      "text/plain": [
       "            close  upper_shadow  lower_shadow  real_body\n",
       "2514  1776.089966     14.638062      5.300049  24.454956\n",
       "1403   768.789978      9.760010      5.940002  -3.920044\n",
       "1470   768.700012     12.950012     14.750000  -9.500000\n",
       "2422  1517.979980      7.630005      6.700073   3.309937\n",
       "341    303.437653      3.601501      2.495636   1.160675\n",
       "...           ...           ...           ...        ...\n",
       "960    538.302063      5.086060      8.546570  -4.567505\n",
       "905    561.817505      6.512146      6.881104  -4.627319\n",
       "1096   529.039978      4.169006      6.339966  -2.559998\n",
       "235    310.720337      2.415955      1.369843   0.388550\n",
       "1061   557.279968      3.540283      4.587402  -1.615601\n",
       "\n",
       "[1887 rows x 4 columns]"
      ]
     },
     "execution_count": 8,
     "metadata": {},
     "output_type": "execute_result"
    }
   ],
   "source": [
    "X_train"
   ]
  },
  {
   "cell_type": "code",
   "execution_count": 9,
   "metadata": {
    "ExecuteTime": {
     "end_time": "2021-02-11T07:46:29.062690Z",
     "start_time": "2021-02-11T07:46:29.049844Z"
    }
   },
   "outputs": [
    {
     "data": {
      "text/plain": [
       "array([[ 0.93477588, -0.62922825, -0.88801207,  0.43931871],\n",
       "       [-0.33112432, -0.75278585, -0.87449011,  0.01365097],\n",
       "       [-0.33123738, -0.67198534, -0.68833835, -0.07005678],\n",
       "       ...,\n",
       "       [-0.63242441, -0.89440202, -0.86603904,  0.03405371],\n",
       "       [-0.9067924 , -0.93880558, -0.97105577,  0.07828636],\n",
       "       [-0.59693447, -0.91032713, -0.90307001,  0.04822109]])"
      ]
     },
     "execution_count": 9,
     "metadata": {},
     "output_type": "execute_result"
    }
   ],
   "source": [
    "# scale with MinMaxScaler\n",
    "from sklearn.preprocessing import MinMaxScaler\n",
    "X_scaler = MinMaxScaler(feature_range=(-1,1)).fit(X)\n",
    "X_train_scaled = X_scaler.transform(X_train)\n",
    "X_test_scaled = X_scaler.transform(X_test)\n",
    "X_train_scaled"
   ]
  },
  {
   "cell_type": "code",
   "execution_count": 13,
   "metadata": {
    "ExecuteTime": {
     "end_time": "2021-02-11T07:46:29.083343Z",
     "start_time": "2021-02-11T07:46:29.081365Z"
    }
   },
   "outputs": [],
   "source": [
    "# import numpy as np\n",
    "# np.savetxt(\"X_train_scaled.csv\", X_train_scaled, delimiter=\",\")\n",
    "# X_train_scaled"
   ]
  },
  {
   "cell_type": "code",
   "execution_count": 29,
   "metadata": {
    "ExecuteTime": {
     "end_time": "2021-02-11T08:14:32.474991Z",
     "start_time": "2021-02-11T08:14:32.148981Z"
    }
   },
   "outputs": [],
   "source": [
    "#\n",
    "#  https://jfin-swufe.springeropen.com/articles/10.1186/s40854-020-00187-0\n",
    "#  https://www.aaai.org/ocs/index.php/WS/AAAIW15/paper/viewFile/10179/10251\n",
    "#  \n",
    "\n",
    "import numpy as np\n",
    "import json\n",
    "\n",
    "X_cl = []  # close\n",
    "X_up = []  # upper-shadow\n",
    "X_lo = []  # lower-shadow\n",
    "X_rb = []  # real-body\n",
    "gam_cl = []\n",
    "gam_up = []\n",
    "gam_lo = []\n",
    "gam_rb = []\n",
    "window = 25\n",
    "\n",
    "for i in range(window, len(X_train_scaled)):\n",
    "    \n",
    "    for j in range(0, window):\n",
    "        X_cl.append(X_train_scaled[i-j][0])\n",
    "        X_up.append(X_train_scaled[i-j][1])\n",
    "        X_lo.append(X_train_scaled[i-j][2])\n",
    "        X_rb.append(X_train_scaled[i-j][3])\n",
    "\n",
    "    gam = np.outer(X_cl, X_cl) - np.outer(np.sqrt(1 - np.square(X_cl)), np.sqrt(1 - np.square(X_cl)))    \n",
    "    gam_cl.append(gam)\n",
    "    \n",
    "    gam = np.outer(X_up, X_up) - np.outer(np.sqrt(1 - np.square(X_up)), np.sqrt(1 - np.square(X_up)))    \n",
    "    gam_up.append(gam)\n",
    "    \n",
    "    gam = np.outer(X_lo, X_lo) - np.outer(np.sqrt(1 - np.square(X_lo)), np.sqrt(1 - np.square(X_lo)))    \n",
    "    gam_lo.append(gam)\n",
    "    \n",
    "    gam = np.outer(X_rb, X_rb) - np.outer(np.sqrt(1 - np.square(X_rb)), np.sqrt(1 - np.square(X_rb)))    \n",
    "    gam_rb.append(gam)\n",
    "\n",
    "    X_cl = []  # close\n",
    "    X_up = []  # upper-shadow\n",
    "    X_lo = []  # lower-shadow\n",
    "    X_rb = []  # real-body\n",
    "    "
   ]
  },
  {
   "cell_type": "code",
   "execution_count": null,
   "metadata": {},
   "outputs": [],
   "source": []
  },
  {
   "cell_type": "code",
   "execution_count": null,
   "metadata": {},
   "outputs": [],
   "source": []
  },
  {
   "cell_type": "code",
   "execution_count": null,
   "metadata": {},
   "outputs": [],
   "source": []
  },
  {
   "cell_type": "code",
   "execution_count": null,
   "metadata": {},
   "outputs": [],
   "source": []
  },
  {
   "cell_type": "code",
   "execution_count": null,
   "metadata": {},
   "outputs": [],
   "source": []
  },
  {
   "cell_type": "code",
   "execution_count": null,
   "metadata": {},
   "outputs": [],
   "source": []
  },
  {
   "cell_type": "code",
   "execution_count": 15,
   "metadata": {
    "ExecuteTime": {
     "end_time": "2021-02-11T07:46:29.186147Z",
     "start_time": "2021-02-11T07:46:29.183466Z"
    }
   },
   "outputs": [],
   "source": [
    "# import numpy as np\n",
    "# from tensorflow.keras.utils import to_categorical\n",
    "# from cnn import SimpleCNN\n",
    "# from series2gaf import GenerateGAF\n",
    "# from datetime import datetime\n",
    "\n",
    "# # -------------------------------------------------------------------\n",
    "# # Generate GAF:\n",
    "\n",
    "# # set parameters\n",
    "# timeSeries = list(X_train_scaled)\n",
    "# windowSize = 50\n",
    "# rollingLength = 10\n",
    "# fileName = 'demo_%02d_%02d'%(windowSize, rollingLength)\n",
    "\n",
    "# # generate GAF pickle file (output by function Numpy.dump)\n",
    "# GenerateGAF(all_ts = timeSeries,\n",
    "#             window_size = windowSize,\n",
    "#             rolling_length = rollingLength,\n",
    "#             fname = fileName)\n",
    "\n"
   ]
  },
  {
   "cell_type": "code",
   "execution_count": 16,
   "metadata": {
    "ExecuteTime": {
     "end_time": "2021-02-11T07:46:29.191310Z",
     "start_time": "2021-02-11T07:46:29.188978Z"
    }
   },
   "outputs": [],
   "source": [
    "# # -------------------------------------------------------------------\n",
    "# # CNN Example:\n",
    "\n",
    "# # using the generated GAF in previous step\n",
    "# # data shape: (15, 50, 50)\n",
    "# gaf = np.load('%s_gaf.pkl'%fileName, allow_pickle=True)\n",
    "# gaf = np.reshape(gaf, (gaf.shape[0], gaf.shape[1], gaf.shape[2], 1))\n",
    "\n",
    "# # the label is consisted of numbers 1, 2 and 3\n",
    "# # label shape: (15, )\n",
    "# cut_point = int(gaf.shape[0]/3)\n",
    "# label = np.zeros(gaf.shape[0])\n",
    "# label[cut_point:cut_point*2] = 1\n",
    "# label[cut_point*2:] = 2\n",
    "# label = to_categorical(label)\n",
    "\n",
    "# # get cnn model ready\n",
    "# # inputs are single channel data: (15, 15, 1)\n",
    "# # output size is 3 because of {1,2,3}-classes\n",
    "# cnn_model = SimpleCNN(input_shape=(gaf.shape[1], gaf.shape[2], 1),\n",
    "#                         output_size=3)\n",
    "\n",
    "# # train the cnn model\n",
    "# train_history = cnn_model.fit(x=gaf, y=label,\n",
    "#                                 epochs=10, batch_size=10,\n",
    "#                                 validation_split=0.2, verbose=2)\n",
    "\n",
    "# # save trained model\n",
    "# #cnn_model.save('model_%s.h5'%datetime.strftime(datetime.today(),'%Y%m%d%H%M'))"
   ]
  },
  {
   "cell_type": "code",
   "execution_count": null,
   "metadata": {},
   "outputs": [],
   "source": []
  },
  {
   "cell_type": "code",
   "execution_count": null,
   "metadata": {},
   "outputs": [],
   "source": []
  },
  {
   "cell_type": "code",
   "execution_count": null,
   "metadata": {},
   "outputs": [],
   "source": []
  },
  {
   "cell_type": "code",
   "execution_count": null,
   "metadata": {},
   "outputs": [],
   "source": []
  },
  {
   "cell_type": "code",
   "execution_count": 17,
   "metadata": {
    "ExecuteTime": {
     "end_time": "2021-02-11T07:46:29.197021Z",
     "start_time": "2021-02-11T07:46:29.194159Z"
    }
   },
   "outputs": [],
   "source": [
    "# from series2gaf import PlotHeatmap\n",
    "# gaf = np.load('%s_gaf.pkl'%fileName, allow_pickle=True)\n",
    "# PlotHeatmap(gaf)"
   ]
  },
  {
   "cell_type": "code",
   "execution_count": null,
   "metadata": {},
   "outputs": [],
   "source": []
  },
  {
   "cell_type": "code",
   "execution_count": null,
   "metadata": {},
   "outputs": [],
   "source": []
  },
  {
   "cell_type": "code",
   "execution_count": null,
   "metadata": {},
   "outputs": [],
   "source": []
  },
  {
   "cell_type": "code",
   "execution_count": null,
   "metadata": {},
   "outputs": [],
   "source": []
  },
  {
   "cell_type": "code",
   "execution_count": null,
   "metadata": {},
   "outputs": [],
   "source": []
  }
 ],
 "metadata": {
  "hide_input": false,
  "kernelspec": {
   "display_name": "Python 3",
   "language": "python",
   "name": "python3"
  },
  "language_info": {
   "codemirror_mode": {
    "name": "ipython",
    "version": 3
   },
   "file_extension": ".py",
   "mimetype": "text/x-python",
   "name": "python",
   "nbconvert_exporter": "python",
   "pygments_lexer": "ipython3",
   "version": "3.7.7"
  }
 },
 "nbformat": 4,
 "nbformat_minor": 4
}
