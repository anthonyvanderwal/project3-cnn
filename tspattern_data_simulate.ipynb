{
 "cells": [
  {
   "cell_type": "markdown",
   "metadata": {},
   "source": [
    "Reference - https://blog.quantinsti.com/random-walk/"
   ]
  },
  {
   "cell_type": "code",
   "execution_count": 23,
   "metadata": {
    "ExecuteTime": {
     "end_time": "2021-02-19T05:04:22.209610Z",
     "start_time": "2021-02-19T05:04:22.205874Z"
    }
   },
   "outputs": [],
   "source": [
    "# dependencies\n",
    "import yfinance as yf\n",
    "import numpy as np\n",
    "import matplotlib.pyplot as plt\n",
    "import pandas as pd"
   ]
  },
  {
   "cell_type": "code",
   "execution_count": 24,
   "metadata": {
    "ExecuteTime": {
     "end_time": "2021-02-19T05:04:22.215228Z",
     "start_time": "2021-02-19T05:04:22.212569Z"
    }
   },
   "outputs": [],
   "source": [
    "# periods to simulate\n",
    "periods = 50000"
   ]
  },
  {
   "cell_type": "code",
   "execution_count": 25,
   "metadata": {
    "ExecuteTime": {
     "end_time": "2021-02-19T05:04:22.224192Z",
     "start_time": "2021-02-19T05:04:22.222119Z"
    }
   },
   "outputs": [],
   "source": [
    "# # price data from\n",
    "# #  yahoo finance\n",
    "# df = yf.download('AAPL','2020-06-01', '2021-01-01', interval='1d')\n",
    "# df['Close'].plot(figsize=(6,4))\n",
    "# plt.legend();\n",
    "# df.tail()"
   ]
  },
  {
   "cell_type": "code",
   "execution_count": 26,
   "metadata": {
    "ExecuteTime": {
     "end_time": "2021-02-19T05:04:22.412443Z",
     "start_time": "2021-02-19T05:04:22.226719Z"
    }
   },
   "outputs": [
    {
     "data": {
      "text/html": [
       "<div>\n",
       "<style scoped>\n",
       "    .dataframe tbody tr th:only-of-type {\n",
       "        vertical-align: middle;\n",
       "    }\n",
       "\n",
       "    .dataframe tbody tr th {\n",
       "        vertical-align: top;\n",
       "    }\n",
       "\n",
       "    .dataframe thead th {\n",
       "        text-align: right;\n",
       "    }\n",
       "</style>\n",
       "<table border=\"1\" class=\"dataframe\">\n",
       "  <thead>\n",
       "    <tr style=\"text-align: right;\">\n",
       "      <th></th>\n",
       "      <th>Open</th>\n",
       "      <th>High</th>\n",
       "      <th>Low</th>\n",
       "      <th>Close</th>\n",
       "    </tr>\n",
       "    <tr>\n",
       "      <th>Date</th>\n",
       "      <th></th>\n",
       "      <th></th>\n",
       "      <th></th>\n",
       "      <th></th>\n",
       "    </tr>\n",
       "  </thead>\n",
       "  <tbody>\n",
       "    <tr>\n",
       "      <th>2005-05-02 00:00:00</th>\n",
       "      <td>1.28520</td>\n",
       "      <td>1.28520</td>\n",
       "      <td>1.28400</td>\n",
       "      <td>1.28440</td>\n",
       "    </tr>\n",
       "    <tr>\n",
       "      <th>2005-05-02 01:00:00</th>\n",
       "      <td>1.28440</td>\n",
       "      <td>1.28480</td>\n",
       "      <td>1.28390</td>\n",
       "      <td>1.28420</td>\n",
       "    </tr>\n",
       "    <tr>\n",
       "      <th>2005-05-02 02:00:00</th>\n",
       "      <td>1.28430</td>\n",
       "      <td>1.28540</td>\n",
       "      <td>1.28410</td>\n",
       "      <td>1.28510</td>\n",
       "    </tr>\n",
       "    <tr>\n",
       "      <th>2005-05-02 03:00:00</th>\n",
       "      <td>1.28510</td>\n",
       "      <td>1.28590</td>\n",
       "      <td>1.28500</td>\n",
       "      <td>1.28510</td>\n",
       "    </tr>\n",
       "    <tr>\n",
       "      <th>2005-05-02 04:00:00</th>\n",
       "      <td>1.28520</td>\n",
       "      <td>1.28590</td>\n",
       "      <td>1.28490</td>\n",
       "      <td>1.28550</td>\n",
       "    </tr>\n",
       "    <tr>\n",
       "      <th>...</th>\n",
       "      <td>...</td>\n",
       "      <td>...</td>\n",
       "      <td>...</td>\n",
       "      <td>...</td>\n",
       "    </tr>\n",
       "    <tr>\n",
       "      <th>2020-04-29 18:00:00</th>\n",
       "      <td>1.08620</td>\n",
       "      <td>1.08851</td>\n",
       "      <td>1.08611</td>\n",
       "      <td>1.08713</td>\n",
       "    </tr>\n",
       "    <tr>\n",
       "      <th>2020-04-29 19:00:00</th>\n",
       "      <td>1.08711</td>\n",
       "      <td>1.08823</td>\n",
       "      <td>1.08659</td>\n",
       "      <td>1.08748</td>\n",
       "    </tr>\n",
       "    <tr>\n",
       "      <th>2020-04-29 20:00:00</th>\n",
       "      <td>1.08747</td>\n",
       "      <td>1.08788</td>\n",
       "      <td>1.08691</td>\n",
       "      <td>1.08708</td>\n",
       "    </tr>\n",
       "    <tr>\n",
       "      <th>2020-04-29 21:00:00</th>\n",
       "      <td>1.08708</td>\n",
       "      <td>1.08740</td>\n",
       "      <td>1.08699</td>\n",
       "      <td>1.08714</td>\n",
       "    </tr>\n",
       "    <tr>\n",
       "      <th>2020-04-29 22:00:00</th>\n",
       "      <td>1.08728</td>\n",
       "      <td>1.08760</td>\n",
       "      <td>1.08727</td>\n",
       "      <td>1.08743</td>\n",
       "    </tr>\n",
       "  </tbody>\n",
       "</table>\n",
       "<p>93084 rows × 4 columns</p>\n",
       "</div>"
      ],
      "text/plain": [
       "                        Open     High      Low    Close\n",
       "Date                                                   \n",
       "2005-05-02 00:00:00  1.28520  1.28520  1.28400  1.28440\n",
       "2005-05-02 01:00:00  1.28440  1.28480  1.28390  1.28420\n",
       "2005-05-02 02:00:00  1.28430  1.28540  1.28410  1.28510\n",
       "2005-05-02 03:00:00  1.28510  1.28590  1.28500  1.28510\n",
       "2005-05-02 04:00:00  1.28520  1.28590  1.28490  1.28550\n",
       "...                      ...      ...      ...      ...\n",
       "2020-04-29 18:00:00  1.08620  1.08851  1.08611  1.08713\n",
       "2020-04-29 19:00:00  1.08711  1.08823  1.08659  1.08748\n",
       "2020-04-29 20:00:00  1.08747  1.08788  1.08691  1.08708\n",
       "2020-04-29 21:00:00  1.08708  1.08740  1.08699  1.08714\n",
       "2020-04-29 22:00:00  1.08728  1.08760  1.08727  1.08743\n",
       "\n",
       "[93084 rows x 4 columns]"
      ]
     },
     "execution_count": 26,
     "metadata": {},
     "output_type": "execute_result"
    }
   ],
   "source": [
    "# price data from:\n",
    "#  https://www.kaggle.com/imetomi/eur-usd-forex-pair-historical-data-2002-2019?select=eurusd_minute.csv\n",
    "df = pd.read_csv('./resources/eurusd_hour.csv', index_col=0, parse_dates=[['Date', 'Time']])\n",
    "df.drop(['BCh', 'AO', 'AH', 'AL', 'AC', 'ACh'], axis = 1, inplace = True)\n",
    "df = df.rename(columns={'BO': 'Open', 'BH': 'High', 'BL': 'Low', 'BC': 'Close'})\n",
    "df.index.names = ['Date']\n",
    "df"
   ]
  },
  {
   "cell_type": "code",
   "execution_count": 27,
   "metadata": {
    "ExecuteTime": {
     "end_time": "2021-02-19T05:04:23.397116Z",
     "start_time": "2021-02-19T05:04:22.415094Z"
    }
   },
   "outputs": [],
   "source": [
    "# simulate ohlc values based on characterisitics (change, mean, sd) of real data\n",
    "\n",
    "# seed value for the calculations\n",
    "np.random.seed(42)\n",
    "\n",
    "# characterise the data - percentage change, mean, and sd\n",
    "df['daily_pc_op'] = df['Open'].pct_change()\n",
    "df['daily_pc_hi'] = df['High'].pct_change()\n",
    "df['daily_pc_lo'] = df['Low'].pct_change()\n",
    "df['daily_pc_cl'] = df['Close'].pct_change()\n",
    "\n",
    "mu_op = df['daily_pc_op'].iloc[:-periods].mean()\n",
    "mu_hi = df['daily_pc_hi'].iloc[:-periods].mean()\n",
    "mu_lo = df['daily_pc_lo'].iloc[:-periods].mean()\n",
    "mu_cl = df['daily_pc_cl'].iloc[:-periods].mean()\n",
    "\n",
    "sigma_op = df['daily_pc_op'].iloc[:-periods].std()\n",
    "sigma_hi = df['daily_pc_hi'].iloc[:-periods].std()\n",
    "sigma_lo = df['daily_pc_lo'].iloc[:-periods].std()\n",
    "sigma_cl = df['daily_pc_cl'].iloc[:-periods].std()\n",
    "\n",
    "# initialise a simulation dictionary\n",
    "simulation = {}\n",
    "\n",
    "# starting values\n",
    "simulation[\"Simulation_op\"] = [df['Open'].iloc[-periods]]\n",
    "simulation[\"Simulation_hi\"] = [df['High'].iloc[-periods]]\n",
    "simulation[\"Simulation_lo\"] = [df['Low'].iloc[-periods]]\n",
    "simulation[\"Simulation_cl\"] = [df['Close'].iloc[-periods]]\n",
    "\n",
    "# random walk simulation for same period as real data\n",
    "# anchor each path to the close of the previous period\n",
    "for d in range(periods-1):\n",
    "    simulation[\"Simulation_op\"].append(simulation[\"Simulation_cl\"][-1]*np.exp((mu_op-(sigma_op**2/2))+sigma_op*np.random.normal()))\n",
    "    simulation[\"Simulation_hi\"].append(simulation[\"Simulation_cl\"][-1]*np.exp((mu_hi-(sigma_hi**2/2))+sigma_hi*np.random.normal()))\n",
    "    simulation[\"Simulation_lo\"].append(simulation[\"Simulation_cl\"][-1]*np.exp((mu_lo-(sigma_lo**2/2))+sigma_lo*np.random.normal()))\n",
    "    simulation[\"Simulation_cl\"].append(simulation[\"Simulation_cl\"][-1]*np.exp((mu_cl-(sigma_cl**2/2))+sigma_cl*np.random.normal()))"
   ]
  },
  {
   "cell_type": "code",
   "execution_count": 28,
   "metadata": {
    "ExecuteTime": {
     "end_time": "2021-02-19T05:04:23.448479Z",
     "start_time": "2021-02-19T05:04:23.399922Z"
    }
   },
   "outputs": [
    {
     "data": {
      "text/html": [
       "<div>\n",
       "<style scoped>\n",
       "    .dataframe tbody tr th:only-of-type {\n",
       "        vertical-align: middle;\n",
       "    }\n",
       "\n",
       "    .dataframe tbody tr th {\n",
       "        vertical-align: top;\n",
       "    }\n",
       "\n",
       "    .dataframe thead th {\n",
       "        text-align: right;\n",
       "    }\n",
       "</style>\n",
       "<table border=\"1\" class=\"dataframe\">\n",
       "  <thead>\n",
       "    <tr style=\"text-align: right;\">\n",
       "      <th></th>\n",
       "      <th>Open</th>\n",
       "      <th>High</th>\n",
       "      <th>Low</th>\n",
       "      <th>Close</th>\n",
       "    </tr>\n",
       "    <tr>\n",
       "      <th>Date</th>\n",
       "      <th></th>\n",
       "      <th></th>\n",
       "      <th></th>\n",
       "      <th></th>\n",
       "    </tr>\n",
       "  </thead>\n",
       "  <tbody>\n",
       "    <tr>\n",
       "      <th>2012-03-28 02:00:00</th>\n",
       "      <td>1.332210</td>\n",
       "      <td>1.333190</td>\n",
       "      <td>1.332040</td>\n",
       "      <td>1.333040</td>\n",
       "    </tr>\n",
       "    <tr>\n",
       "      <th>2012-03-28 03:00:00</th>\n",
       "      <td>1.333962</td>\n",
       "      <td>1.332805</td>\n",
       "      <td>1.334146</td>\n",
       "      <td>1.335867</td>\n",
       "    </tr>\n",
       "    <tr>\n",
       "      <th>2012-03-28 04:00:00</th>\n",
       "      <td>1.335433</td>\n",
       "      <td>1.335467</td>\n",
       "      <td>1.338570</td>\n",
       "      <td>1.337294</td>\n",
       "    </tr>\n",
       "    <tr>\n",
       "      <th>2012-03-28 05:00:00</th>\n",
       "      <td>1.336422</td>\n",
       "      <td>1.338226</td>\n",
       "      <td>1.336502</td>\n",
       "      <td>1.336429</td>\n",
       "    </tr>\n",
       "    <tr>\n",
       "      <th>2012-03-28 06:00:00</th>\n",
       "      <td>1.336880</td>\n",
       "      <td>1.333155</td>\n",
       "      <td>1.333484</td>\n",
       "      <td>1.335386</td>\n",
       "    </tr>\n",
       "    <tr>\n",
       "      <th>...</th>\n",
       "      <td>...</td>\n",
       "      <td>...</td>\n",
       "      <td>...</td>\n",
       "      <td>...</td>\n",
       "    </tr>\n",
       "    <tr>\n",
       "      <th>2020-04-29 18:00:00</th>\n",
       "      <td>1.329569</td>\n",
       "      <td>1.332004</td>\n",
       "      <td>1.331348</td>\n",
       "      <td>1.331639</td>\n",
       "    </tr>\n",
       "    <tr>\n",
       "      <th>2020-04-29 19:00:00</th>\n",
       "      <td>1.330312</td>\n",
       "      <td>1.331898</td>\n",
       "      <td>1.333725</td>\n",
       "      <td>1.332836</td>\n",
       "    </tr>\n",
       "    <tr>\n",
       "      <th>2020-04-29 20:00:00</th>\n",
       "      <td>1.335405</td>\n",
       "      <td>1.333093</td>\n",
       "      <td>1.332991</td>\n",
       "      <td>1.331033</td>\n",
       "    </tr>\n",
       "    <tr>\n",
       "      <th>2020-04-29 21:00:00</th>\n",
       "      <td>1.330534</td>\n",
       "      <td>1.331652</td>\n",
       "      <td>1.328770</td>\n",
       "      <td>1.331743</td>\n",
       "    </tr>\n",
       "    <tr>\n",
       "      <th>2020-04-29 22:00:00</th>\n",
       "      <td>1.330257</td>\n",
       "      <td>1.333227</td>\n",
       "      <td>1.330739</td>\n",
       "      <td>1.329405</td>\n",
       "    </tr>\n",
       "  </tbody>\n",
       "</table>\n",
       "<p>50000 rows × 4 columns</p>\n",
       "</div>"
      ],
      "text/plain": [
       "                         Open      High       Low     Close\n",
       "Date                                                       \n",
       "2012-03-28 02:00:00  1.332210  1.333190  1.332040  1.333040\n",
       "2012-03-28 03:00:00  1.333962  1.332805  1.334146  1.335867\n",
       "2012-03-28 04:00:00  1.335433  1.335467  1.338570  1.337294\n",
       "2012-03-28 05:00:00  1.336422  1.338226  1.336502  1.336429\n",
       "2012-03-28 06:00:00  1.336880  1.333155  1.333484  1.335386\n",
       "...                       ...       ...       ...       ...\n",
       "2020-04-29 18:00:00  1.329569  1.332004  1.331348  1.331639\n",
       "2020-04-29 19:00:00  1.330312  1.331898  1.333725  1.332836\n",
       "2020-04-29 20:00:00  1.335405  1.333093  1.332991  1.331033\n",
       "2020-04-29 21:00:00  1.330534  1.331652  1.328770  1.331743\n",
       "2020-04-29 22:00:00  1.330257  1.333227  1.330739  1.329405\n",
       "\n",
       "[50000 rows x 4 columns]"
      ]
     },
     "execution_count": 28,
     "metadata": {},
     "output_type": "execute_result"
    }
   ],
   "source": [
    "# simulated data to dataframe\n",
    "simulation=pd.DataFrame(simulation)\n",
    "simulation.index=df[-periods:].index\n",
    "simulation = simulation.rename(columns={'Simulation_op': 'Open', 'Simulation_hi': 'High', 'Simulation_lo': 'Low', 'Simulation_cl': 'Close'})\n",
    "simulation"
   ]
  },
  {
   "cell_type": "code",
   "execution_count": 29,
   "metadata": {
    "ExecuteTime": {
     "end_time": "2021-02-19T05:04:24.133903Z",
     "start_time": "2021-02-19T05:04:23.450172Z"
    }
   },
   "outputs": [
    {
     "data": {
      "image/png": "[encoded data removed]",
      "text/plain": [
       "<Figure size 432x288 with 1 Axes>"
      ]
     },
     "metadata": {
      "needs_background": "light"
     },
     "output_type": "display_data"
    }
   ],
   "source": [
    "# plot simulated data\n",
    "simulation.plot(figsize=(6,4),grid=False,legend=True)\n",
    "plt.xlabel('year')\n",
    "plt.ylabel('price');"
   ]
  },
  {
   "cell_type": "code",
   "execution_count": 30,
   "metadata": {
    "ExecuteTime": {
     "end_time": "2021-02-19T05:04:24.146748Z",
     "start_time": "2021-02-19T05:04:24.136039Z"
    }
   },
   "outputs": [],
   "source": [
    "# real data to dataframe for amtching range\n",
    "real = df[['Open','High','Low','Close']][-periods:]"
   ]
  },
  {
   "cell_type": "code",
   "execution_count": 31,
   "metadata": {
    "ExecuteTime": {
     "end_time": "2021-02-19T05:04:24.476084Z",
     "start_time": "2021-02-19T05:04:24.150083Z"
    }
   },
   "outputs": [
    {
     "data": {
      "image/png": "[encoded data removed]",
      "text/plain": [
       "<Figure size 432x288 with 1 Axes>"
      ]
     },
     "metadata": {
      "needs_background": "light"
     },
     "output_type": "display_data"
    }
   ],
   "source": [
    "# plot real data\n",
    "real.plot(figsize=(6,4),grid=False,legend=True)\n",
    "plt.xlabel('year')\n",
    "plt.ylabel('price');"
   ]
  },
  {
   "cell_type": "code",
   "execution_count": 32,
   "metadata": {
    "ExecuteTime": {
     "end_time": "2021-02-19T05:04:24.822961Z",
     "start_time": "2021-02-19T05:04:24.478774Z"
    }
   },
   "outputs": [],
   "source": [
    "# simulated data to csv\n",
    "simulation.to_csv('./resources/eurusd_hour_simulated.csv', index=True)"
   ]
  },
  {
   "cell_type": "code",
   "execution_count": 33,
   "metadata": {
    "ExecuteTime": {
     "end_time": "2021-02-19T05:04:25.093733Z",
     "start_time": "2021-02-19T05:04:24.825253Z"
    }
   },
   "outputs": [],
   "source": [
    "# real data to csv\n",
    "real.to_csv('./resources/eurusd_hour_real.csv', index=True)"
   ]
  }
 ],
 "metadata": {
  "hide_input": false,
  "kernelspec": {
   "display_name": "Python 3",
   "language": "python",
   "name": "python3"
  },
  "language_info": {
   "codemirror_mode": {
    "name": "ipython",
    "version": 3
   },
   "file_extension": ".py",
   "mimetype": "text/x-python",
   "name": "python",
   "nbconvert_exporter": "python",
   "pygments_lexer": "ipython3",
   "version": "3.7.7"
  }
 },
 "nbformat": 4,
 "nbformat_minor": 4
}
