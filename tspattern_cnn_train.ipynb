{
 "cells": [
  {
   "cell_type": "code",
   "execution_count": 86,
   "metadata": {
    "ExecuteTime": {
     "end_time": "2021-02-20T04:20:37.691738Z",
     "start_time": "2021-02-20T04:20:37.684378Z"
    }
   },
   "outputs": [],
   "source": [
    "# dependencies\n",
    "import pandas as pd\n",
    "import numpy as np\n",
    "import matplotlib.pyplot as plt\n",
    "import plotly.graph_objs as go\n",
    "import tensorflow as tf\n",
    "from tensorflow.keras.callbacks import EarlyStopping\n",
    "from tensorflow.keras.models import Sequential\n",
    "from tensorflow.keras.layers import Input, Dense, Dropout, Flatten, Conv2D, MaxPooling2D\n",
    "from tensorflow.keras.optimizers import Adam\n",
    "from tensorflow.keras.utils import to_categorical\n",
    "from sklearn.preprocessing import LabelEncoder\n",
    "from sklearn.metrics import confusion_matrix, classification_report, ConfusionMatrixDisplay\n",
    "from tqdm import tqdm, trange"
   ]
  },
  {
   "cell_type": "code",
   "execution_count": 87,
   "metadata": {
    "ExecuteTime": {
     "end_time": "2021-02-20T04:20:37.704305Z",
     "start_time": "2021-02-20T04:20:37.694790Z"
    }
   },
   "outputs": [],
   "source": [
    "# # seed value for tensorflow\n",
    "tf.random.set_seed(1)"
   ]
  },
  {
   "cell_type": "code",
   "execution_count": 88,
   "metadata": {
    "ExecuteTime": {
     "end_time": "2021-02-20T04:20:37.834078Z",
     "start_time": "2021-02-20T04:20:37.707207Z"
    }
   },
   "outputs": [
    {
     "data": {
      "text/html": [
       "<div>\n",
       "<style scoped>\n",
       "    .dataframe tbody tr th:only-of-type {\n",
       "        vertical-align: middle;\n",
       "    }\n",
       "\n",
       "    .dataframe tbody tr th {\n",
       "        vertical-align: top;\n",
       "    }\n",
       "\n",
       "    .dataframe thead th {\n",
       "        text-align: right;\n",
       "    }\n",
       "</style>\n",
       "<table border=\"1\" class=\"dataframe\">\n",
       "  <thead>\n",
       "    <tr style=\"text-align: right;\">\n",
       "      <th></th>\n",
       "      <th>open</th>\n",
       "      <th>high</th>\n",
       "      <th>low</th>\n",
       "      <th>close</th>\n",
       "      <th>upper_shadow</th>\n",
       "      <th>lower_shadow</th>\n",
       "      <th>real_body</th>\n",
       "      <th>slope</th>\n",
       "      <th>indicator</th>\n",
       "    </tr>\n",
       "    <tr>\n",
       "      <th>date</th>\n",
       "      <th></th>\n",
       "      <th></th>\n",
       "      <th></th>\n",
       "      <th></th>\n",
       "      <th></th>\n",
       "      <th></th>\n",
       "      <th></th>\n",
       "      <th></th>\n",
       "      <th></th>\n",
       "    </tr>\n",
       "  </thead>\n",
       "  <tbody>\n",
       "    <tr>\n",
       "      <th>2012-03-28 02:00:00</th>\n",
       "      <td>1.33221</td>\n",
       "      <td>1.33319</td>\n",
       "      <td>1.33204</td>\n",
       "      <td>1.33304</td>\n",
       "      <td>0.00015</td>\n",
       "      <td>0.00017</td>\n",
       "      <td>0.00083</td>\n",
       "      <td>neutral</td>\n",
       "      <td>neutral</td>\n",
       "    </tr>\n",
       "    <tr>\n",
       "      <th>2012-03-28 03:00:00</th>\n",
       "      <td>1.33301</td>\n",
       "      <td>1.33304</td>\n",
       "      <td>1.33256</td>\n",
       "      <td>1.33287</td>\n",
       "      <td>-0.00003</td>\n",
       "      <td>-0.00031</td>\n",
       "      <td>-0.00014</td>\n",
       "      <td>neutral</td>\n",
       "      <td>neutral</td>\n",
       "    </tr>\n",
       "    <tr>\n",
       "      <th>2012-03-28 04:00:00</th>\n",
       "      <td>1.33290</td>\n",
       "      <td>1.33338</td>\n",
       "      <td>1.33255</td>\n",
       "      <td>1.33255</td>\n",
       "      <td>-0.00048</td>\n",
       "      <td>0.00000</td>\n",
       "      <td>-0.00035</td>\n",
       "      <td>neutral</td>\n",
       "      <td>neutral</td>\n",
       "    </tr>\n",
       "    <tr>\n",
       "      <th>2012-03-28 05:00:00</th>\n",
       "      <td>1.33257</td>\n",
       "      <td>1.33348</td>\n",
       "      <td>1.33255</td>\n",
       "      <td>1.33322</td>\n",
       "      <td>0.00026</td>\n",
       "      <td>0.00002</td>\n",
       "      <td>0.00065</td>\n",
       "      <td>neutral</td>\n",
       "      <td>neutral</td>\n",
       "    </tr>\n",
       "    <tr>\n",
       "      <th>2012-03-28 06:00:00</th>\n",
       "      <td>1.33325</td>\n",
       "      <td>1.33353</td>\n",
       "      <td>1.33154</td>\n",
       "      <td>1.33250</td>\n",
       "      <td>-0.00028</td>\n",
       "      <td>-0.00096</td>\n",
       "      <td>-0.00075</td>\n",
       "      <td>neutral</td>\n",
       "      <td>neutral</td>\n",
       "    </tr>\n",
       "    <tr>\n",
       "      <th>...</th>\n",
       "      <td>...</td>\n",
       "      <td>...</td>\n",
       "      <td>...</td>\n",
       "      <td>...</td>\n",
       "      <td>...</td>\n",
       "      <td>...</td>\n",
       "      <td>...</td>\n",
       "      <td>...</td>\n",
       "      <td>...</td>\n",
       "    </tr>\n",
       "    <tr>\n",
       "      <th>2020-04-29 18:00:00</th>\n",
       "      <td>1.08620</td>\n",
       "      <td>1.08851</td>\n",
       "      <td>1.08611</td>\n",
       "      <td>1.08713</td>\n",
       "      <td>0.00138</td>\n",
       "      <td>0.00009</td>\n",
       "      <td>0.00093</td>\n",
       "      <td>neutral</td>\n",
       "      <td>neutral</td>\n",
       "    </tr>\n",
       "    <tr>\n",
       "      <th>2020-04-29 19:00:00</th>\n",
       "      <td>1.08711</td>\n",
       "      <td>1.08823</td>\n",
       "      <td>1.08659</td>\n",
       "      <td>1.08748</td>\n",
       "      <td>0.00075</td>\n",
       "      <td>0.00052</td>\n",
       "      <td>0.00037</td>\n",
       "      <td>positive</td>\n",
       "      <td>neutral</td>\n",
       "    </tr>\n",
       "    <tr>\n",
       "      <th>2020-04-29 20:00:00</th>\n",
       "      <td>1.08747</td>\n",
       "      <td>1.08788</td>\n",
       "      <td>1.08691</td>\n",
       "      <td>1.08708</td>\n",
       "      <td>-0.00041</td>\n",
       "      <td>-0.00017</td>\n",
       "      <td>-0.00039</td>\n",
       "      <td>positive</td>\n",
       "      <td>neutral</td>\n",
       "    </tr>\n",
       "    <tr>\n",
       "      <th>2020-04-29 21:00:00</th>\n",
       "      <td>1.08708</td>\n",
       "      <td>1.08740</td>\n",
       "      <td>1.08699</td>\n",
       "      <td>1.08714</td>\n",
       "      <td>0.00026</td>\n",
       "      <td>0.00009</td>\n",
       "      <td>0.00006</td>\n",
       "      <td>positive</td>\n",
       "      <td>neutral</td>\n",
       "    </tr>\n",
       "    <tr>\n",
       "      <th>2020-04-29 22:00:00</th>\n",
       "      <td>1.08728</td>\n",
       "      <td>1.08760</td>\n",
       "      <td>1.08727</td>\n",
       "      <td>1.08743</td>\n",
       "      <td>0.00017</td>\n",
       "      <td>0.00001</td>\n",
       "      <td>0.00015</td>\n",
       "      <td>neutral</td>\n",
       "      <td>neutral</td>\n",
       "    </tr>\n",
       "  </tbody>\n",
       "</table>\n",
       "<p>50000 rows × 9 columns</p>\n",
       "</div>"
      ],
      "text/plain": [
       "                        open     high      low    close  upper_shadow  \\\n",
       "date                                                                    \n",
       "2012-03-28 02:00:00  1.33221  1.33319  1.33204  1.33304       0.00015   \n",
       "2012-03-28 03:00:00  1.33301  1.33304  1.33256  1.33287      -0.00003   \n",
       "2012-03-28 04:00:00  1.33290  1.33338  1.33255  1.33255      -0.00048   \n",
       "2012-03-28 05:00:00  1.33257  1.33348  1.33255  1.33322       0.00026   \n",
       "2012-03-28 06:00:00  1.33325  1.33353  1.33154  1.33250      -0.00028   \n",
       "...                      ...      ...      ...      ...           ...   \n",
       "2020-04-29 18:00:00  1.08620  1.08851  1.08611  1.08713       0.00138   \n",
       "2020-04-29 19:00:00  1.08711  1.08823  1.08659  1.08748       0.00075   \n",
       "2020-04-29 20:00:00  1.08747  1.08788  1.08691  1.08708      -0.00041   \n",
       "2020-04-29 21:00:00  1.08708  1.08740  1.08699  1.08714       0.00026   \n",
       "2020-04-29 22:00:00  1.08728  1.08760  1.08727  1.08743       0.00017   \n",
       "\n",
       "                     lower_shadow  real_body     slope indicator  \n",
       "date                                                              \n",
       "2012-03-28 02:00:00       0.00017    0.00083   neutral   neutral  \n",
       "2012-03-28 03:00:00      -0.00031   -0.00014   neutral   neutral  \n",
       "2012-03-28 04:00:00       0.00000   -0.00035   neutral   neutral  \n",
       "2012-03-28 05:00:00       0.00002    0.00065   neutral   neutral  \n",
       "2012-03-28 06:00:00      -0.00096   -0.00075   neutral   neutral  \n",
       "...                           ...        ...       ...       ...  \n",
       "2020-04-29 18:00:00       0.00009    0.00093   neutral   neutral  \n",
       "2020-04-29 19:00:00       0.00052    0.00037  positive   neutral  \n",
       "2020-04-29 20:00:00      -0.00017   -0.00039  positive   neutral  \n",
       "2020-04-29 21:00:00       0.00009    0.00006  positive   neutral  \n",
       "2020-04-29 22:00:00       0.00001    0.00015   neutral   neutral  \n",
       "\n",
       "[50000 rows x 9 columns]"
      ]
     },
     "execution_count": 88,
     "metadata": {},
     "output_type": "execute_result"
    }
   ],
   "source": [
    "# read data from labelling notebook\n",
    "#  'tspattern_data_label.ipynb'\n",
    "df = pd.read_csv('./resources/eurusd_hour_real_labelled.csv', index_col=0,parse_dates=True)\n",
    "df"
   ]
  },
  {
   "cell_type": "code",
   "execution_count": 89,
   "metadata": {
    "ExecuteTime": {
     "end_time": "2021-02-20T04:20:37.842156Z",
     "start_time": "2021-02-20T04:20:37.836244Z"
    }
   },
   "outputs": [
    {
     "name": "stdout",
     "output_type": "stream",
     "text": [
      "(50000, 7) (50000,)\n"
     ]
    }
   ],
   "source": [
    "# create the feature (X) and category (y) data sets\n",
    "X = df.drop(['slope', 'indicator'], axis=1)\n",
    "y = df['slope']\n",
    "print(X.shape, y.shape)"
   ]
  },
  {
   "cell_type": "code",
   "execution_count": 90,
   "metadata": {
    "ExecuteTime": {
     "end_time": "2021-02-20T04:20:37.848549Z",
     "start_time": "2021-02-20T04:20:37.844099Z"
    }
   },
   "outputs": [
    {
     "name": "stdout",
     "output_type": "stream",
     "text": [
      "| X_train: (37500, 7) | y_train: (37500,) |\n",
      "| X_test:  (12500, 7) | y_test:  (12500,) |\n"
     ]
    }
   ],
   "source": [
    "# split 75/25 (train/test)\n",
    "#  for timeseries keep data in continuous form (not random)\n",
    "\n",
    "# calculate the number of train data points\n",
    "train_pct_index = int(0.75 * len(X))\n",
    "\n",
    "# slice the data frames\n",
    "X_train, X_test = X[:train_pct_index], X[train_pct_index:]\n",
    "y_train, y_test = y[:train_pct_index], y[train_pct_index:]\n",
    "\n",
    "# summarise the results\n",
    "print(f'| X_train: {X_train.shape} | y_train: {y_train.shape} |\\n'\n",
    "      f'| X_test:  {X_test.shape} | y_test:  {y_test.shape} |')"
   ]
  },
  {
   "cell_type": "code",
   "execution_count": 91,
   "metadata": {
    "ExecuteTime": {
     "end_time": "2021-02-20T04:20:37.862128Z",
     "start_time": "2021-02-20T04:20:37.850192Z"
    }
   },
   "outputs": [
    {
     "name": "stdout",
     "output_type": "stream",
     "text": [
      "| y_train: (37500, 3) | y_test: (12500, 3) |\n",
      "| categories: ['negative', 'neutral', 'positive'] |\n"
     ]
    }
   ],
   "source": [
    "# target category encoding\n",
    "label_encoder = LabelEncoder()\n",
    "label_encoder.fit(y_train)\n",
    "\n",
    "# encoding\n",
    "y_train_encoded = label_encoder.transform(y_train)\n",
    "y_test_encoded = label_encoder.transform(y_test)\n",
    "\n",
    "# categories\n",
    "y_train_categorical = to_categorical(y_train_encoded)\n",
    "y_test_categorical = to_categorical(y_test_encoded)\n",
    "\n",
    "# summarise the results\n",
    "print(f'| y_train: {y_train_categorical.shape} | y_test: {y_test_categorical.shape} |')\n",
    "\n",
    "# confirm the categories\n",
    "print(f'| categories: {list(label_encoder.classes_)} |')"
   ]
  },
  {
   "cell_type": "code",
   "execution_count": 92,
   "metadata": {
    "ExecuteTime": {
     "end_time": "2021-02-20T04:20:54.403761Z",
     "start_time": "2021-02-20T04:20:37.865792Z"
    }
   },
   "outputs": [
    {
     "name": "stderr",
     "output_type": "stream",
     "text": [
      "Generating...: 100%|##########| 37491/37491 [00:06<00:00, 6047.67it/s]\n",
      "Generating...: 100%|##########| 37491/37491 [00:06<00:00, 6122.22it/s]\n",
      "Generating...: 100%|##########| 12491/12491 [00:02<00:00, 6192.29it/s]\n",
      "Generating...: 100%|##########| 12491/12491 [00:02<00:00, 6163.07it/s]"
     ]
    },
    {
     "name": "stdout",
     "output_type": "stream",
     "text": [
      "| gam_train: (37491, 10, 10, 2) | gam_test: (12491, 10, 10, 2) |\n"
     ]
    },
    {
     "name": "stderr",
     "output_type": "stream",
     "text": [
      "\n"
     ]
    }
   ],
   "source": [
    "# gramian angular matrices (gam):\n",
    "#  https://jfin-swufe.springeropen.com/articles/10.1186/s40854-020-00187-0\n",
    "#  https://www.aaai.org/ocs/index.php/WS/AAAIW15/paper/viewFile/10179/10251 \n",
    "#  https://github.com/pecu/Series2GAF/blob/master/cnn_example/series2gaf.py\n",
    "\n",
    "# datasets and features\n",
    "dataset_list = ['train', 'test']\n",
    "feature_list = ['close', 'real_body']\n",
    "\n",
    "# image size => window_size(rows) x window_size(cols)\n",
    "window_size = 10\n",
    "\n",
    "# loop through each dataset\n",
    "for this_dataset in dataset_list:\n",
    "    \n",
    "    # intialise the gam field for the dataset\n",
    "    gramian_field = []\n",
    "    \n",
    "    # number of data points\n",
    "    if this_dataset == 'train':\n",
    "        n = len(X_train['close'])\n",
    "    if this_dataset == 'test':\n",
    "        n = len(X_test['close'])\n",
    "    \n",
    "    # loop through each feature\n",
    "    for this_feature in feature_list:\n",
    "\n",
    "        # initialise the gam field for the feture\n",
    "        gam_feature_set = []\n",
    "\n",
    "        # loop through the data\n",
    "        for i_data in trange(window_size, n+1, desc=\"Generating...\", ascii=True):\n",
    "\n",
    "            # select the data points to convert frm timeseries to gam (image)\n",
    "            if this_dataset == 'train':\n",
    "                full_window_data =  list(X_train[this_feature][i_data-window_size : i_data])\n",
    "            if this_dataset == 'test':\n",
    "                full_window_data =  list(X_test[this_feature][i_data-window_size : i_data])\n",
    "\n",
    "            # scale the data\n",
    "            rescaled_ts = np.zeros((window_size, window_size), float)\n",
    "            min_ts = np.min(full_window_data)\n",
    "            max_ts = np.max(full_window_data)\n",
    "            diff = max_ts - min_ts\n",
    "            if diff != 0:\n",
    "                rescaled_ts = (full_window_data - min_ts) / diff\n",
    "\n",
    "            # initialise the image\n",
    "            this_gam = np.zeros((window_size, window_size), float)\n",
    "\n",
    "            # calculate a component of the gam\n",
    "            sin_ts = np.sqrt(np.clip(1 - rescaled_ts**2, 0, 1))\n",
    "\n",
    "            # calculate the gam - summation method\n",
    "            this_gam = np.outer(rescaled_ts, rescaled_ts) - np.outer(sin_ts, sin_ts)\n",
    "\n",
    "            # add the gam to the feature set\n",
    "            gam_feature_set.append(this_gam)\n",
    "\n",
    "            # clear the gam ready for next\n",
    "            del this_gam\n",
    "\n",
    "        # ass the gam field of the feature set to the dataset\n",
    "        gramian_field.append(gam_feature_set)\n",
    "\n",
    "        # clear the gam field of the feature set\n",
    "        del gam_feature_set\n",
    "  \n",
    "    # finalise the gam field for each dataset\n",
    "    if this_dataset == 'train':\n",
    "        gam_train = np.array(gramian_field)\n",
    "        gam_train = np.moveaxis(gam_train, 0, 3)\n",
    "    if this_dataset == 'test':\n",
    "        gam_test = np.array(gramian_field)\n",
    "        gam_test = np.moveaxis(gam_test, 0, 3)\n",
    "    \n",
    "# summarise the results\n",
    "print(f'| gam_train: {gam_train.shape} | gam_test: {gam_test.shape} |')"
   ]
  },
  {
   "cell_type": "code",
   "execution_count": 93,
   "metadata": {
    "ExecuteTime": {
     "end_time": "2021-02-20T04:20:54.427773Z",
     "start_time": "2021-02-20T04:20:54.407119Z"
    }
   },
   "outputs": [
    {
     "data": {
      "text/plain": [
       "array([['negative', 6760],\n",
       "       ['neutral', 23960],\n",
       "       ['positive', 6780]], dtype=object)"
      ]
     },
     "execution_count": 93,
     "metadata": {},
     "output_type": "execute_result"
    }
   ],
   "source": [
    "y_train_labels = label_encoder.inverse_transform(y_train_encoded)\n",
    "(unique_train, counts_train) = np.unique(y_train_labels, return_counts=True)\n",
    "np.asarray((unique_train, counts_train)).T"
   ]
  },
  {
   "cell_type": "code",
   "execution_count": 94,
   "metadata": {
    "ExecuteTime": {
     "end_time": "2021-02-20T04:20:54.442973Z",
     "start_time": "2021-02-20T04:20:54.431732Z"
    }
   },
   "outputs": [
    {
     "data": {
      "text/plain": [
       "array([['negative', 2326],\n",
       "       ['neutral', 7877],\n",
       "       ['positive', 2297]], dtype=object)"
      ]
     },
     "execution_count": 94,
     "metadata": {},
     "output_type": "execute_result"
    }
   ],
   "source": [
    "y_test_labels = label_encoder.inverse_transform(y_test_encoded)\n",
    "(unique_test, counts_test) = np.unique(y_test_labels, return_counts=True)\n",
    "np.asarray((unique_test, counts_test)).T"
   ]
  },
  {
   "cell_type": "code",
   "execution_count": 95,
   "metadata": {
    "ExecuteTime": {
     "end_time": "2021-02-20T04:20:54.474527Z",
     "start_time": "2021-02-20T04:20:54.445392Z"
    }
   },
   "outputs": [],
   "source": [
    "# balancing the training dataset by\n",
    "#  randomised under-sampling gam fields of the majority class (neutral)\n",
    "#  for categorical clasification where 'neutral' is majority\n",
    "\n",
    "# random seed for the cell\n",
    "np.random.seed(1)\n",
    "\n",
    "# indices of gams that correspond to 'neutral' category\n",
    "minority_indices = np.where(y_train_labels[window_size-1:] != 'neutral')\n",
    "majority_indices = np.where(y_train_labels[window_size-1:] == 'neutral')\n",
    "\n",
    "# choose randomly which 'neutral' categofry gams to keep\n",
    "undersample_indexes = np.random.choice(majority_indices[0], size=np.max(np.sort(counts_train)[:-1]), replace=False)\n",
    "\n",
    "# indices of gams remaining \n",
    "keep_indices = np.sort(np.concatenate((undersample_indexes, minority_indices[0])))\n",
    "\n",
    "# reconstruct the data sets\n",
    "gam_train_undersampled = gam_train[keep_indices]\n",
    "gam_test_undersampled = gam_test\n",
    "y_train_categorical_undersampled = y_train_categorical[window_size-1:][keep_indices]\n",
    "y_train_encoded_undersampled = y_train_encoded[window_size-1:][keep_indices]\n",
    "y_test_categorical_undersampled = y_test_categorical[window_size-1:]\n",
    "y_test_encoded_undersampled = y_test_encoded[window_size-1:]\n",
    "\n",
    "\n",
    "# # for binary classification - classification performed on 'positive' & 'negative'\n",
    "# #  find indices where class is 'neutral' and remove from data and categories\n",
    "# keep_indices = np.where(y_train_labels[window_size:] != 'neutral')\n",
    "# keep_indices = np.where(y_test_labels[window_size:] != 'neutral')\n",
    "# gam_train_undersampled = gam_train[keep_indices]\n",
    "# gam_test_undersampled = gam_test[keep_indices]\n",
    "# y_train_categorical_undersampled = y_train_categorical[window_size:][keep_indices]\n",
    "# y_test_categorical_undersampled = y_test_categorical[window_size:][keep_indices]\n",
    "# y_train_encoded_undersampled = y_train_encoded[window_size:][keep_indices]\n",
    "# y_test_encoded_undersampled = y_test_encoded[window_size:][keep_indices]"
   ]
  },
  {
   "cell_type": "code",
   "execution_count": 96,
   "metadata": {
    "ExecuteTime": {
     "end_time": "2021-02-20T04:20:54.489445Z",
     "start_time": "2021-02-20T04:20:54.476888Z"
    }
   },
   "outputs": [
    {
     "data": {
      "text/plain": [
       "array([['negative', 6760],\n",
       "       ['neutral', 6780],\n",
       "       ['positive', 6780]], dtype=object)"
      ]
     },
     "execution_count": 96,
     "metadata": {},
     "output_type": "execute_result"
    }
   ],
   "source": [
    "# confirm the train dataset is 'balanced'\n",
    "y_train_labels = label_encoder.inverse_transform(y_train_encoded_undersampled)\n",
    "(unique, counts) = np.unique(y_train_labels, return_counts=True)\n",
    "np.asarray((unique, counts)).T"
   ]
  },
  {
   "cell_type": "code",
   "execution_count": 97,
   "metadata": {
    "ExecuteTime": {
     "end_time": "2021-02-20T04:20:54.500362Z",
     "start_time": "2021-02-20T04:20:54.491168Z"
    }
   },
   "outputs": [
    {
     "data": {
      "text/plain": [
       "array([['negative', 2323],\n",
       "       ['neutral', 7871],\n",
       "       ['positive', 2297]], dtype=object)"
      ]
     },
     "execution_count": 97,
     "metadata": {},
     "output_type": "execute_result"
    }
   ],
   "source": [
    "# review the test dataset category counts\n",
    "y_test_labels = label_encoder.inverse_transform(y_test_encoded_undersampled)\n",
    "(unique, counts) = np.unique(y_test_labels, return_counts=True)\n",
    "np.asarray((unique, counts)).T"
   ]
  },
  {
   "cell_type": "code",
   "execution_count": 98,
   "metadata": {
    "ExecuteTime": {
     "end_time": "2021-02-20T04:20:54.651519Z",
     "start_time": "2021-02-20T04:20:54.503251Z"
    }
   },
   "outputs": [
    {
     "name": "stdout",
     "output_type": "stream",
     "text": [
      "Model: \"sequential_4\"\n",
      "_________________________________________________________________\n",
      "Layer (type)                 Output Shape              Param #   \n",
      "=================================================================\n",
      "conv2d_8 (Conv2D)            (None, 8, 8, 16)          304       \n",
      "_________________________________________________________________\n",
      "max_pooling2d_8 (MaxPooling2 (None, 4, 4, 16)          0         \n",
      "_________________________________________________________________\n",
      "conv2d_9 (Conv2D)            (None, 2, 2, 32)          4640      \n",
      "_________________________________________________________________\n",
      "max_pooling2d_9 (MaxPooling2 (None, 1, 1, 32)          0         \n",
      "_________________________________________________________________\n",
      "dropout_8 (Dropout)          (None, 1, 1, 32)          0         \n",
      "_________________________________________________________________\n",
      "flatten_4 (Flatten)          (None, 32)                0         \n",
      "_________________________________________________________________\n",
      "dense_12 (Dense)             (None, 64)                2112      \n",
      "_________________________________________________________________\n",
      "dropout_9 (Dropout)          (None, 64)                0         \n",
      "_________________________________________________________________\n",
      "dense_13 (Dense)             (None, 32)                2080      \n",
      "_________________________________________________________________\n",
      "dense_14 (Dense)             (None, 3)                 99        \n",
      "=================================================================\n",
      "Total params: 9,235\n",
      "Trainable params: 9,235\n",
      "Non-trainable params: 0\n",
      "_________________________________________________________________\n"
     ]
    }
   ],
   "source": [
    "# model architecture\n",
    "\n",
    "# model type\n",
    "model = Sequential()\n",
    "\n",
    "# image shape and numbe rof channels\n",
    "model.add(Input(shape=(window_size, window_size, 2)))  # gam images\n",
    "\n",
    "# first convolutional layer\n",
    "model.add(Conv2D(16, 3, activation='relu', data_format='channels_last'))\n",
    "model.add(MaxPooling2D(pool_size=(2, 2)))\n",
    "\n",
    "# second convolutional layer\n",
    "model.add(Conv2D(32, 3, activation='relu', data_format='channels_last'))\n",
    "model.add(MaxPooling2D(pool_size=(2, 2)))\n",
    "\n",
    "# fully connected layers\n",
    "model.add(Dropout(0.25))\n",
    "model.add(Flatten())\n",
    "model.add(Dense(64, activation='relu'))\n",
    "model.add(Dropout(0.5))\n",
    "model.add(Dense(32, activation='relu'))\n",
    "\n",
    "# output layer\n",
    "model.add(Dense(len(unique_train), activation='softmax'))  # classification layer.\n",
    "model.summary()\n"
   ]
  },
  {
   "cell_type": "code",
   "execution_count": 99,
   "metadata": {
    "ExecuteTime": {
     "end_time": "2021-02-20T04:20:54.695290Z",
     "start_time": "2021-02-20T04:20:54.653632Z"
    }
   },
   "outputs": [],
   "source": [
    "# compile the model\n",
    "opt = Adam(learning_rate=0.0001, beta_1=0.9, beta_2=0.999)\n",
    "\n",
    "# categorical classification\n",
    "model.compile(loss='categorical_crossentropy', optimizer=opt, metrics=['accuracy'])\n",
    "\n",
    "# binary classification\n",
    "# model.compile(loss='binary_crossentropy', optimizer=opt, metrics=['accuracy'])"
   ]
  },
  {
   "cell_type": "code",
   "execution_count": 100,
   "metadata": {
    "ExecuteTime": {
     "end_time": "2021-02-20T04:23:46.630478Z",
     "start_time": "2021-02-20T04:20:54.697129Z"
    },
    "scrolled": true
   },
   "outputs": [
    {
     "name": "stdout",
     "output_type": "stream",
     "text": [
      "Train on 15240 samples, validate on 5080 samples\n",
      "Epoch 1/300\n",
      "15240/15240 - 3s - loss: 1.0686 - accuracy: 0.4102 - val_loss: 0.9587 - val_accuracy: 0.6242\n",
      "Epoch 2/300\n",
      "15240/15240 - 2s - loss: 0.8608 - accuracy: 0.6049 - val_loss: 0.6929 - val_accuracy: 0.6746\n",
      "Epoch 3/300\n",
      "15240/15240 - 2s - loss: 0.7070 - accuracy: 0.6781 - val_loss: 0.5756 - val_accuracy: 0.7380\n",
      "Epoch 4/300\n",
      "15240/15240 - 2s - loss: 0.6191 - accuracy: 0.7301 - val_loss: 0.5008 - val_accuracy: 0.7807\n",
      "Epoch 5/300\n",
      "15240/15240 - 2s - loss: 0.5596 - accuracy: 0.7589 - val_loss: 0.4489 - val_accuracy: 0.8026\n",
      "Epoch 6/300\n",
      "15240/15240 - 2s - loss: 0.5195 - accuracy: 0.7787 - val_loss: 0.4198 - val_accuracy: 0.8185\n",
      "Epoch 7/300\n",
      "15240/15240 - 2s - loss: 0.4882 - accuracy: 0.7982 - val_loss: 0.3888 - val_accuracy: 0.8356\n",
      "Epoch 8/300\n",
      "15240/15240 - 2s - loss: 0.4641 - accuracy: 0.8075 - val_loss: 0.3740 - val_accuracy: 0.8409\n",
      "Epoch 9/300\n",
      "15240/15240 - 2s - loss: 0.4442 - accuracy: 0.8173 - val_loss: 0.3515 - val_accuracy: 0.8494\n",
      "Epoch 10/300\n",
      "15240/15240 - 2s - loss: 0.4214 - accuracy: 0.8278 - val_loss: 0.3366 - val_accuracy: 0.8575\n",
      "Epoch 11/300\n",
      "15240/15240 - 2s - loss: 0.4049 - accuracy: 0.8354 - val_loss: 0.3250 - val_accuracy: 0.8640\n",
      "Epoch 12/300\n",
      "15240/15240 - 2s - loss: 0.3969 - accuracy: 0.8373 - val_loss: 0.3052 - val_accuracy: 0.8750\n",
      "Epoch 13/300\n",
      "15240/15240 - 2s - loss: 0.3769 - accuracy: 0.8491 - val_loss: 0.2946 - val_accuracy: 0.8803\n",
      "Epoch 14/300\n",
      "15240/15240 - 2s - loss: 0.3708 - accuracy: 0.8527 - val_loss: 0.2899 - val_accuracy: 0.8795\n",
      "Epoch 15/300\n",
      "15240/15240 - 2s - loss: 0.3591 - accuracy: 0.8560 - val_loss: 0.2795 - val_accuracy: 0.8833\n",
      "Epoch 16/300\n",
      "15240/15240 - 2s - loss: 0.3500 - accuracy: 0.8599 - val_loss: 0.2725 - val_accuracy: 0.8900\n",
      "Epoch 17/300\n",
      "15240/15240 - 2s - loss: 0.3372 - accuracy: 0.8665 - val_loss: 0.2691 - val_accuracy: 0.8913\n",
      "Epoch 18/300\n",
      "15240/15240 - 2s - loss: 0.3365 - accuracy: 0.8655 - val_loss: 0.2589 - val_accuracy: 0.8972\n",
      "Epoch 19/300\n",
      "15240/15240 - 2s - loss: 0.3258 - accuracy: 0.8695 - val_loss: 0.2565 - val_accuracy: 0.8967\n",
      "Epoch 20/300\n",
      "15240/15240 - 2s - loss: 0.3205 - accuracy: 0.8711 - val_loss: 0.2500 - val_accuracy: 0.8998\n",
      "Epoch 21/300\n",
      "15240/15240 - 2s - loss: 0.3198 - accuracy: 0.8704 - val_loss: 0.2453 - val_accuracy: 0.9022\n",
      "Epoch 22/300\n",
      "15240/15240 - 2s - loss: 0.3117 - accuracy: 0.8766 - val_loss: 0.2452 - val_accuracy: 0.9039\n",
      "Epoch 23/300\n",
      "15240/15240 - 2s - loss: 0.3056 - accuracy: 0.8822 - val_loss: 0.2384 - val_accuracy: 0.9049\n",
      "Epoch 24/300\n",
      "15240/15240 - 2s - loss: 0.2992 - accuracy: 0.8827 - val_loss: 0.2312 - val_accuracy: 0.9061\n",
      "Epoch 25/300\n",
      "15240/15240 - 2s - loss: 0.2960 - accuracy: 0.8817 - val_loss: 0.2319 - val_accuracy: 0.9100\n",
      "Epoch 26/300\n",
      "15240/15240 - 2s - loss: 0.2948 - accuracy: 0.8829 - val_loss: 0.2286 - val_accuracy: 0.9089\n",
      "Epoch 27/300\n",
      "15240/15240 - 2s - loss: 0.2882 - accuracy: 0.8871 - val_loss: 0.2260 - val_accuracy: 0.9065\n",
      "Epoch 28/300\n",
      "15240/15240 - 2s - loss: 0.2825 - accuracy: 0.8906 - val_loss: 0.2197 - val_accuracy: 0.9093\n",
      "Epoch 29/300\n",
      "15240/15240 - 2s - loss: 0.2788 - accuracy: 0.8900 - val_loss: 0.2178 - val_accuracy: 0.9134\n",
      "Epoch 30/300\n",
      "15240/15240 - 2s - loss: 0.2759 - accuracy: 0.8924 - val_loss: 0.2190 - val_accuracy: 0.9120\n",
      "Epoch 31/300\n",
      "15240/15240 - 2s - loss: 0.2703 - accuracy: 0.8941 - val_loss: 0.2129 - val_accuracy: 0.9126\n",
      "Epoch 32/300\n",
      "15240/15240 - 2s - loss: 0.2710 - accuracy: 0.8921 - val_loss: 0.2086 - val_accuracy: 0.9154\n",
      "Epoch 33/300\n",
      "15240/15240 - 2s - loss: 0.2672 - accuracy: 0.8955 - val_loss: 0.2085 - val_accuracy: 0.9175\n",
      "Epoch 34/300\n",
      "15240/15240 - 2s - loss: 0.2670 - accuracy: 0.8954 - val_loss: 0.2069 - val_accuracy: 0.9161\n",
      "Epoch 35/300\n",
      "15240/15240 - 2s - loss: 0.2606 - accuracy: 0.8980 - val_loss: 0.2097 - val_accuracy: 0.9157\n",
      "Epoch 36/300\n",
      "15240/15240 - 2s - loss: 0.2570 - accuracy: 0.8979 - val_loss: 0.2060 - val_accuracy: 0.9183\n",
      "Epoch 37/300\n",
      "15240/15240 - 2s - loss: 0.2580 - accuracy: 0.8981 - val_loss: 0.1999 - val_accuracy: 0.9205\n",
      "Epoch 38/300\n",
      "15240/15240 - 2s - loss: 0.2529 - accuracy: 0.9005 - val_loss: 0.2008 - val_accuracy: 0.9211\n",
      "Epoch 39/300\n",
      "15240/15240 - 2s - loss: 0.2479 - accuracy: 0.9043 - val_loss: 0.1973 - val_accuracy: 0.9201\n",
      "Epoch 40/300\n",
      "15240/15240 - 2s - loss: 0.2474 - accuracy: 0.9015 - val_loss: 0.1963 - val_accuracy: 0.9228\n",
      "Epoch 41/300\n",
      "15240/15240 - 2s - loss: 0.2458 - accuracy: 0.9053 - val_loss: 0.1946 - val_accuracy: 0.9207\n",
      "Epoch 42/300\n",
      "15240/15240 - 2s - loss: 0.2465 - accuracy: 0.9033 - val_loss: 0.1909 - val_accuracy: 0.9236\n",
      "Epoch 43/300\n",
      "15240/15240 - 2s - loss: 0.2394 - accuracy: 0.9051 - val_loss: 0.1980 - val_accuracy: 0.9224\n",
      "Epoch 44/300\n",
      "15240/15240 - 2s - loss: 0.2422 - accuracy: 0.9047 - val_loss: 0.1938 - val_accuracy: 0.9250\n",
      "Epoch 45/300\n",
      "15240/15240 - 2s - loss: 0.2390 - accuracy: 0.9073 - val_loss: 0.1883 - val_accuracy: 0.9256\n",
      "Epoch 46/300\n",
      "15240/15240 - 2s - loss: 0.2384 - accuracy: 0.9094 - val_loss: 0.1865 - val_accuracy: 0.9274\n",
      "Epoch 47/300\n",
      "15240/15240 - 2s - loss: 0.2373 - accuracy: 0.9081 - val_loss: 0.1895 - val_accuracy: 0.9260\n",
      "Epoch 48/300\n",
      "15240/15240 - 2s - loss: 0.2299 - accuracy: 0.9124 - val_loss: 0.1889 - val_accuracy: 0.9252\n",
      "Epoch 49/300\n",
      "15240/15240 - 2s - loss: 0.2313 - accuracy: 0.9085 - val_loss: 0.1846 - val_accuracy: 0.9256\n",
      "Epoch 50/300\n",
      "15240/15240 - 2s - loss: 0.2243 - accuracy: 0.9132 - val_loss: 0.1847 - val_accuracy: 0.9258\n",
      "Epoch 51/300\n",
      "15240/15240 - 2s - loss: 0.2284 - accuracy: 0.9109 - val_loss: 0.1809 - val_accuracy: 0.9289\n",
      "Epoch 52/300\n",
      "15240/15240 - 2s - loss: 0.2229 - accuracy: 0.9127 - val_loss: 0.1853 - val_accuracy: 0.9262\n",
      "Epoch 53/300\n",
      "15240/15240 - 2s - loss: 0.2229 - accuracy: 0.9135 - val_loss: 0.1789 - val_accuracy: 0.9287\n",
      "Epoch 54/300\n",
      "15240/15240 - 2s - loss: 0.2216 - accuracy: 0.9144 - val_loss: 0.1833 - val_accuracy: 0.9278\n",
      "Epoch 55/300\n",
      "15240/15240 - 2s - loss: 0.2278 - accuracy: 0.9143 - val_loss: 0.1788 - val_accuracy: 0.9287\n",
      "Epoch 56/300\n",
      "15240/15240 - 2s - loss: 0.2212 - accuracy: 0.9163 - val_loss: 0.1759 - val_accuracy: 0.9301\n",
      "Epoch 57/300\n",
      "15240/15240 - 2s - loss: 0.2153 - accuracy: 0.9156 - val_loss: 0.1744 - val_accuracy: 0.9307\n",
      "Epoch 58/300\n",
      "15240/15240 - 2s - loss: 0.2180 - accuracy: 0.9152 - val_loss: 0.1759 - val_accuracy: 0.9289\n",
      "Epoch 59/300\n",
      "15240/15240 - 2s - loss: 0.2158 - accuracy: 0.9191 - val_loss: 0.1736 - val_accuracy: 0.9311\n",
      "Epoch 60/300\n",
      "15240/15240 - 2s - loss: 0.2100 - accuracy: 0.9180 - val_loss: 0.1702 - val_accuracy: 0.9331\n",
      "Epoch 61/300\n",
      "15240/15240 - 2s - loss: 0.2124 - accuracy: 0.9176 - val_loss: 0.1690 - val_accuracy: 0.9325\n",
      "Epoch 62/300\n",
      "15240/15240 - 2s - loss: 0.2109 - accuracy: 0.9179 - val_loss: 0.1695 - val_accuracy: 0.9317\n",
      "Epoch 63/300\n",
      "15240/15240 - 2s - loss: 0.2080 - accuracy: 0.9209 - val_loss: 0.1743 - val_accuracy: 0.9283\n",
      "Epoch 64/300\n",
      "15240/15240 - 2s - loss: 0.2067 - accuracy: 0.9197 - val_loss: 0.1672 - val_accuracy: 0.9339\n",
      "Epoch 65/300\n",
      "15240/15240 - 2s - loss: 0.2061 - accuracy: 0.9194 - val_loss: 0.1686 - val_accuracy: 0.9317\n",
      "Epoch 66/300\n",
      "15240/15240 - 2s - loss: 0.2036 - accuracy: 0.9211 - val_loss: 0.1673 - val_accuracy: 0.9315\n",
      "Epoch 67/300\n",
      "15240/15240 - 2s - loss: 0.2046 - accuracy: 0.9181 - val_loss: 0.1690 - val_accuracy: 0.9309\n",
      "Epoch 68/300\n",
      "15240/15240 - 2s - loss: 0.1982 - accuracy: 0.9228 - val_loss: 0.1667 - val_accuracy: 0.9301\n",
      "Epoch 69/300\n",
      "15240/15240 - 2s - loss: 0.2035 - accuracy: 0.9205 - val_loss: 0.1645 - val_accuracy: 0.9344\n",
      "Epoch 70/300\n",
      "15240/15240 - 2s - loss: 0.2018 - accuracy: 0.9236 - val_loss: 0.1649 - val_accuracy: 0.9325\n",
      "Epoch 71/300\n",
      "15240/15240 - 2s - loss: 0.2013 - accuracy: 0.9190 - val_loss: 0.1646 - val_accuracy: 0.9325\n",
      "Epoch 72/300\n",
      "15240/15240 - 2s - loss: 0.1980 - accuracy: 0.9249 - val_loss: 0.1674 - val_accuracy: 0.9321\n",
      "Epoch 73/300\n",
      "15240/15240 - 2s - loss: 0.2004 - accuracy: 0.9215 - val_loss: 0.1613 - val_accuracy: 0.9352\n",
      "Epoch 74/300\n",
      "15240/15240 - 2s - loss: 0.1932 - accuracy: 0.9251 - val_loss: 0.1617 - val_accuracy: 0.9366\n",
      "Epoch 75/300\n",
      "15240/15240 - 2s - loss: 0.1954 - accuracy: 0.9246 - val_loss: 0.1620 - val_accuracy: 0.9343\n",
      "Epoch 76/300\n",
      "15240/15240 - 2s - loss: 0.1970 - accuracy: 0.9232 - val_loss: 0.1661 - val_accuracy: 0.9339\n",
      "Epoch 77/300\n",
      "15240/15240 - 2s - loss: 0.1980 - accuracy: 0.9223 - val_loss: 0.1693 - val_accuracy: 0.9321\n"
     ]
    },
    {
     "name": "stdout",
     "output_type": "stream",
     "text": [
      "Epoch 78/300\n",
      "15240/15240 - 2s - loss: 0.1896 - accuracy: 0.9239 - val_loss: 0.1596 - val_accuracy: 0.9317\n",
      "Epoch 79/300\n",
      "15240/15240 - 2s - loss: 0.1953 - accuracy: 0.9248 - val_loss: 0.1671 - val_accuracy: 0.9344\n",
      "Epoch 80/300\n",
      "15240/15240 - 2s - loss: 0.1915 - accuracy: 0.9247 - val_loss: 0.1575 - val_accuracy: 0.9346\n",
      "Epoch 81/300\n",
      "15240/15240 - 2s - loss: 0.1899 - accuracy: 0.9257 - val_loss: 0.1605 - val_accuracy: 0.9352\n",
      "Epoch 82/300\n",
      "15240/15240 - 2s - loss: 0.1888 - accuracy: 0.9285 - val_loss: 0.1562 - val_accuracy: 0.9372\n",
      "Epoch 83/300\n",
      "15240/15240 - 2s - loss: 0.1852 - accuracy: 0.9293 - val_loss: 0.1593 - val_accuracy: 0.9358\n",
      "Epoch 84/300\n",
      "15240/15240 - 2s - loss: 0.1882 - accuracy: 0.9270 - val_loss: 0.1603 - val_accuracy: 0.9368\n",
      "Epoch 85/300\n",
      "15240/15240 - 2s - loss: 0.1840 - accuracy: 0.9280 - val_loss: 0.1568 - val_accuracy: 0.9376\n",
      "Epoch 86/300\n",
      "15240/15240 - 2s - loss: 0.1857 - accuracy: 0.9276 - val_loss: 0.1543 - val_accuracy: 0.9392\n",
      "Epoch 87/300\n",
      "15240/15240 - 2s - loss: 0.1762 - accuracy: 0.9305 - val_loss: 0.1562 - val_accuracy: 0.9364\n",
      "Epoch 88/300\n",
      "15240/15240 - 2s - loss: 0.1834 - accuracy: 0.9284 - val_loss: 0.1555 - val_accuracy: 0.9376\n",
      "Epoch 89/300\n",
      "15240/15240 - 2s - loss: 0.1789 - accuracy: 0.9323 - val_loss: 0.1548 - val_accuracy: 0.9374\n",
      "Epoch 90/300\n",
      "15240/15240 - 2s - loss: 0.1826 - accuracy: 0.9278 - val_loss: 0.1607 - val_accuracy: 0.9372\n",
      "Epoch 91/300\n",
      "15240/15240 - 2s - loss: 0.1806 - accuracy: 0.9301 - val_loss: 0.1577 - val_accuracy: 0.9352\n",
      "Epoch 00091: early stopping\n"
     ]
    }
   ],
   "source": [
    "# train the model\n",
    "history = model.fit(\n",
    "    x=gam_train_undersampled, \n",
    "    y=y_train_categorical_undersampled, \n",
    "    epochs=300, \n",
    "    batch_size=64,\n",
    "    validation_split=0.25, \n",
    "    verbose=2,\n",
    "    callbacks=[EarlyStopping(monitor='val_loss', mode='min', verbose=1, patience=5)]\n",
    ")"
   ]
  },
  {
   "cell_type": "code",
   "execution_count": 101,
   "metadata": {
    "ExecuteTime": {
     "end_time": "2021-02-20T04:23:46.809399Z",
     "start_time": "2021-02-20T04:23:46.632746Z"
    }
   },
   "outputs": [
    {
     "data": {
      "image/png": "[encoded data removed]",
      "text/plain": [
       "<Figure size 576x288 with 1 Axes>"
      ]
     },
     "metadata": {
      "needs_background": "light"
     },
     "output_type": "display_data"
    }
   ],
   "source": [
    "# review the model convergence - 'loss'\n",
    "metric1 = 'loss'\n",
    "plt.figure(figsize=(8,4))\n",
    "plt.plot(history.history[metric1])\n",
    "plt.plot(history.history['val_' + metric1])\n",
    "plt.title('model ' + metric1)\n",
    "plt.ylabel(metric1, fontsize='large')\n",
    "plt.xlabel('epoch', fontsize='large')\n",
    "plt.legend(['train', 'validate'], loc='upper right')\n",
    "plt.show()\n",
    "plt.close()"
   ]
  },
  {
   "cell_type": "code",
   "execution_count": 102,
   "metadata": {
    "ExecuteTime": {
     "end_time": "2021-02-20T04:23:46.973463Z",
     "start_time": "2021-02-20T04:23:46.811996Z"
    }
   },
   "outputs": [
    {
     "data": {
      "image/png": "[encoded data removed]",
      "text/plain": [
       "<Figure size 576x288 with 1 Axes>"
      ]
     },
     "metadata": {
      "needs_background": "light"
     },
     "output_type": "display_data"
    }
   ],
   "source": [
    "# review the model convergence - 'accuracy'\n",
    "metric2 = 'accuracy'\n",
    "plt.figure(figsize=(8,4))\n",
    "plt.plot(history.history[metric2])\n",
    "plt.plot(history.history['val_' + metric2])\n",
    "plt.title('model ' + metric2)\n",
    "plt.ylabel(metric2, fontsize='large')\n",
    "plt.xlabel('epoch', fontsize='large')\n",
    "plt.legend(['train', 'validate'], loc='lower right')\n",
    "plt.show()\n",
    "plt.close()"
   ]
  },
  {
   "cell_type": "code",
   "execution_count": 103,
   "metadata": {
    "ExecuteTime": {
     "end_time": "2021-02-20T04:23:48.014386Z",
     "start_time": "2021-02-20T04:23:46.975008Z"
    },
    "scrolled": true
   },
   "outputs": [
    {
     "name": "stdout",
     "output_type": "stream",
     "text": [
      "Test accuracy 0.9201825\n",
      "Test loss 0.19192980843628296\n"
     ]
    }
   ],
   "source": [
    "# evaluate the trained model with the test data\n",
    "test_loss, test_acc = model.evaluate(gam_test_undersampled, y_test_categorical_undersampled, verbose=0)\n",
    "print(\"Test accuracy\", test_acc)\n",
    "print(\"Test loss\", test_loss)"
   ]
  },
  {
   "cell_type": "code",
   "execution_count": 104,
   "metadata": {
    "ExecuteTime": {
     "end_time": "2021-02-20T04:23:48.981005Z",
     "start_time": "2021-02-20T04:23:48.017142Z"
    }
   },
   "outputs": [
    {
     "name": "stdout",
     "output_type": "stream",
     "text": [
      "              precision    recall  f1-score   support\n",
      "\n",
      "    negative       0.86      0.95      0.90      2323\n",
      "     neutral       0.98      0.90      0.93      7871\n",
      "    positive       0.83      0.97      0.89      2297\n",
      "\n",
      "    accuracy                           0.92     12491\n",
      "   macro avg       0.89      0.94      0.91     12491\n",
      "weighted avg       0.93      0.92      0.92     12491\n",
      "\n"
     ]
    }
   ],
   "source": [
    "# review the classification report\n",
    "y_pred = model.predict(gam_test_undersampled).argmax(axis=1)\n",
    "y_true = y_test_categorical_undersampled.argmax(axis=1)\n",
    "print(classification_report(y_true, y_pred, target_names=label_encoder.classes_)) "
   ]
  },
  {
   "cell_type": "code",
   "execution_count": 105,
   "metadata": {
    "ExecuteTime": {
     "end_time": "2021-02-20T04:23:49.159288Z",
     "start_time": "2021-02-20T04:23:48.982806Z"
    }
   },
   "outputs": [
    {
     "data": {
      "image/png": "[encoded data removed]",
      "text/plain": [
       "<Figure size 432x288 with 2 Axes>"
      ]
     },
     "metadata": {
      "needs_background": "light"
     },
     "output_type": "display_data"
    }
   ],
   "source": [
    "# review confusion matrix\n",
    "cm = confusion_matrix(y_true, y_pred)\n",
    "disp = ConfusionMatrixDisplay(confusion_matrix=cm, display_labels=label_encoder.classes_)\n",
    "disp.plot(cmap='Blues');"
   ]
  },
  {
   "cell_type": "code",
   "execution_count": 106,
   "metadata": {
    "ExecuteTime": {
     "end_time": "2021-02-20T04:23:49.199817Z",
     "start_time": "2021-02-20T04:23:49.161557Z"
    }
   },
   "outputs": [],
   "source": [
    "# save the model\n",
    "model.save('./analysis/eurusd_hour_real_model.h5')"
   ]
  },
  {
   "cell_type": "code",
   "execution_count": null,
   "metadata": {},
   "outputs": [],
   "source": []
  }
 ],
 "metadata": {
  "hide_input": false,
  "kernelspec": {
   "display_name": "Python 3",
   "language": "python",
   "name": "python3"
  },
  "language_info": {
   "codemirror_mode": {
    "name": "ipython",
    "version": 3
   },
   "file_extension": ".py",
   "mimetype": "text/x-python",
   "name": "python",
   "nbconvert_exporter": "python",
   "pygments_lexer": "ipython3",
   "version": "3.7.7"
  }
 },
 "nbformat": 4,
 "nbformat_minor": 4
}
