{
 "cells": [
  {
   "cell_type": "code",
   "execution_count": 1,
   "metadata": {
    "ExecuteTime": {
     "end_time": "2021-02-19T08:18:28.922544Z",
     "start_time": "2021-02-19T08:18:25.544681Z"
    }
   },
   "outputs": [],
   "source": [
    "# dependencies\n",
    "import pandas as pd\n",
    "import numpy as np\n",
    "import matplotlib.pyplot as plt\n",
    "import plotly.graph_objs as go\n",
    "import tensorflow as tf\n",
    "from tensorflow.keras.callbacks import EarlyStopping\n",
    "from tensorflow.keras.models import Sequential\n",
    "from tensorflow.keras.layers import Input, Dense, Dropout, Flatten, Conv2D, MaxPooling2D\n",
    "from tensorflow.keras.optimizers import Adam\n",
    "from tensorflow.keras.utils import to_categorical\n",
    "from sklearn.preprocessing import LabelEncoder\n",
    "from sklearn.metrics import confusion_matrix, classification_report, ConfusionMatrixDisplay\n",
    "from tqdm import tqdm, trange"
   ]
  },
  {
   "cell_type": "code",
   "execution_count": 2,
   "metadata": {
    "ExecuteTime": {
     "end_time": "2021-02-19T08:18:28.927344Z",
     "start_time": "2021-02-19T08:18:28.925013Z"
    }
   },
   "outputs": [],
   "source": [
    "# seed value for the notebook\n",
    "np.random.seed(42)"
   ]
  },
  {
   "cell_type": "code",
   "execution_count": 3,
   "metadata": {
    "ExecuteTime": {
     "end_time": "2021-02-19T08:18:29.039828Z",
     "start_time": "2021-02-19T08:18:28.930809Z"
    }
   },
   "outputs": [
    {
     "data": {
      "text/html": [
       "<div>\n",
       "<style scoped>\n",
       "    .dataframe tbody tr th:only-of-type {\n",
       "        vertical-align: middle;\n",
       "    }\n",
       "\n",
       "    .dataframe tbody tr th {\n",
       "        vertical-align: top;\n",
       "    }\n",
       "\n",
       "    .dataframe thead th {\n",
       "        text-align: right;\n",
       "    }\n",
       "</style>\n",
       "<table border=\"1\" class=\"dataframe\">\n",
       "  <thead>\n",
       "    <tr style=\"text-align: right;\">\n",
       "      <th></th>\n",
       "      <th>open</th>\n",
       "      <th>high</th>\n",
       "      <th>low</th>\n",
       "      <th>close</th>\n",
       "      <th>upper_shadow</th>\n",
       "      <th>lower_shadow</th>\n",
       "      <th>real_body</th>\n",
       "      <th>slope</th>\n",
       "      <th>indicator</th>\n",
       "    </tr>\n",
       "    <tr>\n",
       "      <th>date</th>\n",
       "      <th></th>\n",
       "      <th></th>\n",
       "      <th></th>\n",
       "      <th></th>\n",
       "      <th></th>\n",
       "      <th></th>\n",
       "      <th></th>\n",
       "      <th></th>\n",
       "      <th></th>\n",
       "    </tr>\n",
       "  </thead>\n",
       "  <tbody>\n",
       "    <tr>\n",
       "      <th>2012-03-28 02:00:00</th>\n",
       "      <td>1.33221</td>\n",
       "      <td>1.33319</td>\n",
       "      <td>1.33204</td>\n",
       "      <td>1.33304</td>\n",
       "      <td>0.00015</td>\n",
       "      <td>0.00017</td>\n",
       "      <td>0.00083</td>\n",
       "      <td>neutral</td>\n",
       "      <td>neutral</td>\n",
       "    </tr>\n",
       "    <tr>\n",
       "      <th>2012-03-28 03:00:00</th>\n",
       "      <td>1.33301</td>\n",
       "      <td>1.33304</td>\n",
       "      <td>1.33256</td>\n",
       "      <td>1.33287</td>\n",
       "      <td>-0.00003</td>\n",
       "      <td>-0.00031</td>\n",
       "      <td>-0.00014</td>\n",
       "      <td>neutral</td>\n",
       "      <td>neutral</td>\n",
       "    </tr>\n",
       "    <tr>\n",
       "      <th>2012-03-28 04:00:00</th>\n",
       "      <td>1.33290</td>\n",
       "      <td>1.33338</td>\n",
       "      <td>1.33255</td>\n",
       "      <td>1.33255</td>\n",
       "      <td>-0.00048</td>\n",
       "      <td>0.00000</td>\n",
       "      <td>-0.00035</td>\n",
       "      <td>neutral</td>\n",
       "      <td>neutral</td>\n",
       "    </tr>\n",
       "    <tr>\n",
       "      <th>2012-03-28 05:00:00</th>\n",
       "      <td>1.33257</td>\n",
       "      <td>1.33348</td>\n",
       "      <td>1.33255</td>\n",
       "      <td>1.33322</td>\n",
       "      <td>0.00026</td>\n",
       "      <td>0.00002</td>\n",
       "      <td>0.00065</td>\n",
       "      <td>neutral</td>\n",
       "      <td>neutral</td>\n",
       "    </tr>\n",
       "    <tr>\n",
       "      <th>2012-03-28 06:00:00</th>\n",
       "      <td>1.33325</td>\n",
       "      <td>1.33353</td>\n",
       "      <td>1.33154</td>\n",
       "      <td>1.33250</td>\n",
       "      <td>-0.00028</td>\n",
       "      <td>-0.00096</td>\n",
       "      <td>-0.00075</td>\n",
       "      <td>neutral</td>\n",
       "      <td>neutral</td>\n",
       "    </tr>\n",
       "    <tr>\n",
       "      <th>...</th>\n",
       "      <td>...</td>\n",
       "      <td>...</td>\n",
       "      <td>...</td>\n",
       "      <td>...</td>\n",
       "      <td>...</td>\n",
       "      <td>...</td>\n",
       "      <td>...</td>\n",
       "      <td>...</td>\n",
       "      <td>...</td>\n",
       "    </tr>\n",
       "    <tr>\n",
       "      <th>2020-04-29 18:00:00</th>\n",
       "      <td>1.08620</td>\n",
       "      <td>1.08851</td>\n",
       "      <td>1.08611</td>\n",
       "      <td>1.08713</td>\n",
       "      <td>0.00138</td>\n",
       "      <td>0.00009</td>\n",
       "      <td>0.00093</td>\n",
       "      <td>neutral</td>\n",
       "      <td>neutral</td>\n",
       "    </tr>\n",
       "    <tr>\n",
       "      <th>2020-04-29 19:00:00</th>\n",
       "      <td>1.08711</td>\n",
       "      <td>1.08823</td>\n",
       "      <td>1.08659</td>\n",
       "      <td>1.08748</td>\n",
       "      <td>0.00075</td>\n",
       "      <td>0.00052</td>\n",
       "      <td>0.00037</td>\n",
       "      <td>positive</td>\n",
       "      <td>neutral</td>\n",
       "    </tr>\n",
       "    <tr>\n",
       "      <th>2020-04-29 20:00:00</th>\n",
       "      <td>1.08747</td>\n",
       "      <td>1.08788</td>\n",
       "      <td>1.08691</td>\n",
       "      <td>1.08708</td>\n",
       "      <td>-0.00041</td>\n",
       "      <td>-0.00017</td>\n",
       "      <td>-0.00039</td>\n",
       "      <td>positive</td>\n",
       "      <td>neutral</td>\n",
       "    </tr>\n",
       "    <tr>\n",
       "      <th>2020-04-29 21:00:00</th>\n",
       "      <td>1.08708</td>\n",
       "      <td>1.08740</td>\n",
       "      <td>1.08699</td>\n",
       "      <td>1.08714</td>\n",
       "      <td>0.00026</td>\n",
       "      <td>0.00009</td>\n",
       "      <td>0.00006</td>\n",
       "      <td>positive</td>\n",
       "      <td>neutral</td>\n",
       "    </tr>\n",
       "    <tr>\n",
       "      <th>2020-04-29 22:00:00</th>\n",
       "      <td>1.08728</td>\n",
       "      <td>1.08760</td>\n",
       "      <td>1.08727</td>\n",
       "      <td>1.08743</td>\n",
       "      <td>0.00017</td>\n",
       "      <td>0.00001</td>\n",
       "      <td>0.00015</td>\n",
       "      <td>neutral</td>\n",
       "      <td>neutral</td>\n",
       "    </tr>\n",
       "  </tbody>\n",
       "</table>\n",
       "<p>50000 rows × 9 columns</p>\n",
       "</div>"
      ],
      "text/plain": [
       "                        open     high      low    close  upper_shadow  \\\n",
       "date                                                                    \n",
       "2012-03-28 02:00:00  1.33221  1.33319  1.33204  1.33304       0.00015   \n",
       "2012-03-28 03:00:00  1.33301  1.33304  1.33256  1.33287      -0.00003   \n",
       "2012-03-28 04:00:00  1.33290  1.33338  1.33255  1.33255      -0.00048   \n",
       "2012-03-28 05:00:00  1.33257  1.33348  1.33255  1.33322       0.00026   \n",
       "2012-03-28 06:00:00  1.33325  1.33353  1.33154  1.33250      -0.00028   \n",
       "...                      ...      ...      ...      ...           ...   \n",
       "2020-04-29 18:00:00  1.08620  1.08851  1.08611  1.08713       0.00138   \n",
       "2020-04-29 19:00:00  1.08711  1.08823  1.08659  1.08748       0.00075   \n",
       "2020-04-29 20:00:00  1.08747  1.08788  1.08691  1.08708      -0.00041   \n",
       "2020-04-29 21:00:00  1.08708  1.08740  1.08699  1.08714       0.00026   \n",
       "2020-04-29 22:00:00  1.08728  1.08760  1.08727  1.08743       0.00017   \n",
       "\n",
       "                     lower_shadow  real_body     slope indicator  \n",
       "date                                                              \n",
       "2012-03-28 02:00:00       0.00017    0.00083   neutral   neutral  \n",
       "2012-03-28 03:00:00      -0.00031   -0.00014   neutral   neutral  \n",
       "2012-03-28 04:00:00       0.00000   -0.00035   neutral   neutral  \n",
       "2012-03-28 05:00:00       0.00002    0.00065   neutral   neutral  \n",
       "2012-03-28 06:00:00      -0.00096   -0.00075   neutral   neutral  \n",
       "...                           ...        ...       ...       ...  \n",
       "2020-04-29 18:00:00       0.00009    0.00093   neutral   neutral  \n",
       "2020-04-29 19:00:00       0.00052    0.00037  positive   neutral  \n",
       "2020-04-29 20:00:00      -0.00017   -0.00039  positive   neutral  \n",
       "2020-04-29 21:00:00       0.00009    0.00006  positive   neutral  \n",
       "2020-04-29 22:00:00       0.00001    0.00015   neutral   neutral  \n",
       "\n",
       "[50000 rows x 9 columns]"
      ]
     },
     "execution_count": 3,
     "metadata": {},
     "output_type": "execute_result"
    }
   ],
   "source": [
    "# read data from labelling notebook\n",
    "#  'tspattern_data_label.ipynb'\n",
    "df = pd.read_csv('./resources/eurusd_hour_real_labelled.csv', index_col=0,parse_dates=True)\n",
    "df"
   ]
  },
  {
   "cell_type": "code",
   "execution_count": 4,
   "metadata": {
    "ExecuteTime": {
     "end_time": "2021-02-19T08:18:29.047924Z",
     "start_time": "2021-02-19T08:18:29.042668Z"
    }
   },
   "outputs": [
    {
     "name": "stdout",
     "output_type": "stream",
     "text": [
      "(50000, 7) (50000,)\n"
     ]
    }
   ],
   "source": [
    "# create the feature (X) and category (y) data sets\n",
    "X = df.drop(['slope', 'indicator'], axis=1)\n",
    "y = df['slope']\n",
    "print(X.shape, y.shape)"
   ]
  },
  {
   "cell_type": "code",
   "execution_count": 5,
   "metadata": {
    "ExecuteTime": {
     "end_time": "2021-02-19T08:18:29.055179Z",
     "start_time": "2021-02-19T08:18:29.049853Z"
    }
   },
   "outputs": [
    {
     "name": "stdout",
     "output_type": "stream",
     "text": [
      "| X_train: (37500, 7) | y_train: (37500,) |\n",
      "| X_test:  (12500, 7) | y_test:  (12500,) |\n"
     ]
    }
   ],
   "source": [
    "# split 75/25 (train/test)\n",
    "#  for timeseries keep data in continuous form (not random)\n",
    "# calculate the number of train data points\n",
    "train_pct_index = int(0.75 * len(X))\n",
    "\n",
    "# slice the data frames\n",
    "X_train, X_test = X[:train_pct_index], X[train_pct_index:]\n",
    "y_train, y_test = y[:train_pct_index], y[train_pct_index:]\n",
    "\n",
    "# summarise the results\n",
    "print(f'| X_train: {X_train.shape} | y_train: {y_train.shape} |\\n'\n",
    "      f'| X_test:  {X_test.shape} | y_test:  {y_test.shape} |')"
   ]
  },
  {
   "cell_type": "code",
   "execution_count": 6,
   "metadata": {
    "ExecuteTime": {
     "end_time": "2021-02-19T08:18:29.067090Z",
     "start_time": "2021-02-19T08:18:29.056848Z"
    }
   },
   "outputs": [
    {
     "name": "stdout",
     "output_type": "stream",
     "text": [
      "| y_train: (37500, 3) | y_test: (12500, 3) |\n",
      "| classes: ['negative', 'neutral', 'positive'] |\n"
     ]
    }
   ],
   "source": [
    "# target category encoding\n",
    "label_encoder = LabelEncoder()\n",
    "label_encoder.fit(y_train)\n",
    "\n",
    "# encoding\n",
    "y_train_encoded = label_encoder.transform(y_train)\n",
    "y_test_encoded = label_encoder.transform(y_test)\n",
    "\n",
    "# categories\n",
    "y_train_categorical = to_categorical(y_train_encoded)\n",
    "y_test_categorical = to_categorical(y_test_encoded)\n",
    "\n",
    "# summarise the results\n",
    "print(f'| y_train: {y_train_categorical.shape} | y_test: {y_test_categorical.shape} |')\n",
    "\n",
    "# confirm the categories\n",
    "print(f'| classes: {list(label_encoder.classes_)} |')"
   ]
  },
  {
   "cell_type": "code",
   "execution_count": 7,
   "metadata": {
    "ExecuteTime": {
     "end_time": "2021-02-19T08:18:44.833452Z",
     "start_time": "2021-02-19T08:18:29.068596Z"
    }
   },
   "outputs": [
    {
     "name": "stderr",
     "output_type": "stream",
     "text": [
      "Generating...: 100%|##########| 37491/37491 [00:05<00:00, 6341.13it/s]\n",
      "Generating...: 100%|##########| 37491/37491 [00:05<00:00, 6385.35it/s]\n",
      "Generating...: 100%|##########| 12491/12491 [00:01<00:00, 6513.22it/s]\n",
      "Generating...: 100%|##########| 12491/12491 [00:01<00:00, 6439.22it/s]"
     ]
    },
    {
     "name": "stdout",
     "output_type": "stream",
     "text": [
      "| gam_train: (37491, 10, 10, 2) | gam_test: (12491, 10, 10, 2) |\n"
     ]
    },
    {
     "name": "stderr",
     "output_type": "stream",
     "text": [
      "\n"
     ]
    }
   ],
   "source": [
    "# gramian angular matrices (gam):\n",
    "#  https://jfin-swufe.springeropen.com/articles/10.1186/s40854-020-00187-0\n",
    "#  https://www.aaai.org/ocs/index.php/WS/AAAIW15/paper/viewFile/10179/10251 \n",
    "#  https://github.com/pecu/Series2GAF/blob/master/cnn_example/series2gaf.py\n",
    "\n",
    "# datasets and features\n",
    "dataset_list = ['train', 'test']\n",
    "feature_list = ['close', 'real_body']\n",
    "\n",
    "# image size => window_size(rows) x window_size(cols)\n",
    "window_size = 10\n",
    "\n",
    "# loop through each dataset\n",
    "for this_dataset in dataset_list:\n",
    "    \n",
    "    # intialise the gam field for the dataset\n",
    "    gramian_field = []\n",
    "    \n",
    "    # number of data points\n",
    "    if this_dataset == 'train':\n",
    "        n = len(X_train['close'])\n",
    "    if this_dataset == 'test':\n",
    "        n = len(X_test['close'])\n",
    "    \n",
    "    # loop through each feature\n",
    "    for this_feature in feature_list:\n",
    "\n",
    "        # initialise the gam field for the feture\n",
    "        gam_feature_set = []\n",
    "\n",
    "        # loop through the data\n",
    "        for i_data in trange(window_size, n+1, desc=\"Generating...\", ascii=True):\n",
    "\n",
    "            # select the data points to convert frm timeseries to gam (image)\n",
    "            if this_dataset == 'train':\n",
    "                full_window_data =  list(X_train[this_feature][i_data-window_size : i_data])\n",
    "            if this_dataset == 'test':\n",
    "                full_window_data =  list(X_test[this_feature][i_data-window_size : i_data])\n",
    "\n",
    "            # scale the data\n",
    "            rescaled_ts = np.zeros((window_size, window_size), float)\n",
    "            min_ts = np.min(full_window_data)\n",
    "            max_ts = np.max(full_window_data)\n",
    "            diff = max_ts - min_ts\n",
    "            if diff != 0:\n",
    "                rescaled_ts = (full_window_data - min_ts) / diff\n",
    "\n",
    "            # initialise the image\n",
    "            this_gam = np.zeros((window_size, window_size), float)\n",
    "\n",
    "            # calculate a component of the gam\n",
    "            sin_ts = np.sqrt(np.clip(1 - rescaled_ts**2, 0, 1))\n",
    "\n",
    "            # calculate the gam - summation method\n",
    "            this_gam = np.outer(rescaled_ts, rescaled_ts) - np.outer(sin_ts, sin_ts)\n",
    "\n",
    "            # add the gam to the feature set\n",
    "            gam_feature_set.append(this_gam)\n",
    "\n",
    "            # clear the gam ready for next\n",
    "            del this_gam\n",
    "\n",
    "        # ass the gam field of the feature set to the dataset\n",
    "        gramian_field.append(gam_feature_set)\n",
    "\n",
    "        # clear the gam field of the feature set\n",
    "        del gam_feature_set\n",
    "  \n",
    "    # finalise the gam field for each dataset\n",
    "    if this_dataset == 'train':\n",
    "        gam_train = np.array(gramian_field)\n",
    "        gam_train = np.moveaxis(gam_train, 0, 3)\n",
    "    if this_dataset == 'test':\n",
    "        gam_test = np.array(gramian_field)\n",
    "        gam_test = np.moveaxis(gam_test, 0, 3)\n",
    "    \n",
    "# summarise the results\n",
    "print(f'| gam_train: {gam_train.shape} | gam_test: {gam_test.shape} |')"
   ]
  },
  {
   "cell_type": "code",
   "execution_count": 8,
   "metadata": {
    "ExecuteTime": {
     "end_time": "2021-02-19T08:18:44.856232Z",
     "start_time": "2021-02-19T08:18:44.836961Z"
    }
   },
   "outputs": [
    {
     "data": {
      "text/plain": [
       "array([['negative', 6760],\n",
       "       ['neutral', 23960],\n",
       "       ['positive', 6780]], dtype=object)"
      ]
     },
     "execution_count": 8,
     "metadata": {},
     "output_type": "execute_result"
    }
   ],
   "source": [
    "y_train_labels = label_encoder.inverse_transform(y_train_encoded)\n",
    "(unique_train, counts_train) = np.unique(y_train_labels, return_counts=True)\n",
    "np.asarray((unique_train, counts_train)).T"
   ]
  },
  {
   "cell_type": "code",
   "execution_count": 9,
   "metadata": {
    "ExecuteTime": {
     "end_time": "2021-02-19T08:18:44.869360Z",
     "start_time": "2021-02-19T08:18:44.859314Z"
    }
   },
   "outputs": [
    {
     "data": {
      "text/plain": [
       "array([['negative', 2326],\n",
       "       ['neutral', 7877],\n",
       "       ['positive', 2297]], dtype=object)"
      ]
     },
     "execution_count": 9,
     "metadata": {},
     "output_type": "execute_result"
    }
   ],
   "source": [
    "y_test_labels = label_encoder.inverse_transform(y_test_encoded)\n",
    "(unique_test, counts_test) = np.unique(y_test_labels, return_counts=True)\n",
    "np.asarray((unique_test, counts_test)).T"
   ]
  },
  {
   "cell_type": "code",
   "execution_count": 10,
   "metadata": {
    "ExecuteTime": {
     "end_time": "2021-02-19T08:18:44.902081Z",
     "start_time": "2021-02-19T08:18:44.871246Z"
    }
   },
   "outputs": [],
   "source": [
    "# balancing the training dataset by\n",
    "# randomised under-sampling gam fields of the majority class (neutral)\n",
    "# for categorical clasification where 'neutral' is majority\n",
    "\n",
    "# randome seed for the cell\n",
    "np.random.seed(42)\n",
    "\n",
    "# indices of gams that correspond to 'neutral' category\n",
    "minority_indices = np.where(y_train_labels[window_size-1:] != 'neutral')\n",
    "majority_indices = np.where(y_train_labels[window_size-1:] == 'neutral')\n",
    "\n",
    "# choose randomly which 'neutral' categofry gams to keep\n",
    "undersample_indexes = np.random.choice(majority_indices[0], size=np.max(np.sort(counts_train)[:-1]), replace=False)\n",
    "\n",
    "# indices of gams remaining \n",
    "keep_indices = np.sort(np.concatenate((undersample_indexes, minority_indices[0])))\n",
    "\n",
    "# reconstruct the data sets\n",
    "gam_train_undersampled = gam_train[keep_indices]\n",
    "gam_test_undersampled = gam_test\n",
    "y_train_categorical_undersampled = y_train_categorical[window_size-1:][keep_indices]\n",
    "y_train_encoded_undersampled = y_train_encoded[window_size-1:][keep_indices]\n",
    "y_test_categorical_undersampled = y_test_categorical[window_size-1:]\n",
    "y_test_encoded_undersampled = y_test_encoded[window_size-1:]\n",
    "\n",
    "\n",
    "# # for binary classification - classification performed on 'positive' & 'negative'\n",
    "# #  find indices where calss is 'neutral' and remove from data and categories\n",
    "# keep_indices = np.where(y_train_labels[window_size:] != 'neutral')\n",
    "# keep_indices = np.where(y_test_labels[window_size:] != 'neutral')\n",
    "# gam_train_undersampled = gam_train[keep_indices]\n",
    "# gam_test_undersampled = gam_test[keep_indices]\n",
    "# y_train_categorical_undersampled = y_train_categorical[window_size:][keep_indices]\n",
    "# y_test_categorical_undersampled = y_test_categorical[window_size:][keep_indices]\n",
    "# y_train_encoded_undersampled = y_train_encoded[window_size:][keep_indices]\n",
    "# y_test_encoded_undersampled = y_test_encoded[window_size:][keep_indices]"
   ]
  },
  {
   "cell_type": "code",
   "execution_count": 11,
   "metadata": {
    "ExecuteTime": {
     "end_time": "2021-02-19T08:18:44.915691Z",
     "start_time": "2021-02-19T08:18:44.903810Z"
    }
   },
   "outputs": [
    {
     "data": {
      "text/plain": [
       "array([['negative', 6760],\n",
       "       ['neutral', 6780],\n",
       "       ['positive', 6780]], dtype=object)"
      ]
     },
     "execution_count": 11,
     "metadata": {},
     "output_type": "execute_result"
    }
   ],
   "source": [
    "# confirm the train dataset is 'balanced'\n",
    "y_train_labels = label_encoder.inverse_transform(y_train_encoded_undersampled)\n",
    "(unique, counts) = np.unique(y_train_labels, return_counts=True)\n",
    "np.asarray((unique, counts)).T"
   ]
  },
  {
   "cell_type": "code",
   "execution_count": 12,
   "metadata": {
    "ExecuteTime": {
     "end_time": "2021-02-19T08:18:44.929618Z",
     "start_time": "2021-02-19T08:18:44.918663Z"
    }
   },
   "outputs": [
    {
     "data": {
      "text/plain": [
       "array([['negative', 2323],\n",
       "       ['neutral', 7871],\n",
       "       ['positive', 2297]], dtype=object)"
      ]
     },
     "execution_count": 12,
     "metadata": {},
     "output_type": "execute_result"
    }
   ],
   "source": [
    "# review the test dataset category counts\n",
    "y_test_labels = label_encoder.inverse_transform(y_test_encoded_undersampled)\n",
    "(unique, counts) = np.unique(y_test_labels, return_counts=True)\n",
    "np.asarray((unique, counts)).T"
   ]
  },
  {
   "cell_type": "code",
   "execution_count": 13,
   "metadata": {
    "ExecuteTime": {
     "end_time": "2021-02-19T08:18:45.078849Z",
     "start_time": "2021-02-19T08:18:44.932194Z"
    }
   },
   "outputs": [
    {
     "name": "stdout",
     "output_type": "stream",
     "text": [
      "Model: \"sequential\"\n",
      "_________________________________________________________________\n",
      "Layer (type)                 Output Shape              Param #   \n",
      "=================================================================\n",
      "conv2d (Conv2D)              (None, 8, 8, 16)          304       \n",
      "_________________________________________________________________\n",
      "max_pooling2d (MaxPooling2D) (None, 4, 4, 16)          0         \n",
      "_________________________________________________________________\n",
      "conv2d_1 (Conv2D)            (None, 2, 2, 32)          4640      \n",
      "_________________________________________________________________\n",
      "max_pooling2d_1 (MaxPooling2 (None, 1, 1, 32)          0         \n",
      "_________________________________________________________________\n",
      "dropout (Dropout)            (None, 1, 1, 32)          0         \n",
      "_________________________________________________________________\n",
      "flatten (Flatten)            (None, 32)                0         \n",
      "_________________________________________________________________\n",
      "dense (Dense)                (None, 64)                2112      \n",
      "_________________________________________________________________\n",
      "dropout_1 (Dropout)          (None, 64)                0         \n",
      "_________________________________________________________________\n",
      "dense_1 (Dense)              (None, 32)                2080      \n",
      "_________________________________________________________________\n",
      "dense_2 (Dense)              (None, 3)                 99        \n",
      "=================================================================\n",
      "Total params: 9,235\n",
      "Trainable params: 9,235\n",
      "Non-trainable params: 0\n",
      "_________________________________________________________________\n"
     ]
    }
   ],
   "source": [
    "# model architecture\n",
    "\n",
    "# model type\n",
    "model = Sequential()\n",
    "\n",
    "# image shape and numbe rof channels\n",
    "model.add(Input(shape=(window_size, window_size, 2)))  # gam images\n",
    "\n",
    "# first convolutional layer\n",
    "model.add(Conv2D(16, 3, activation='relu', data_format='channels_last'))\n",
    "model.add(MaxPooling2D(pool_size=(2, 2)))\n",
    "\n",
    "# second convolutional layer\n",
    "model.add(Conv2D(32, 3, activation='relu', data_format='channels_last'))\n",
    "model.add(MaxPooling2D(pool_size=(2, 2)))\n",
    "\n",
    "# fully connected layers\n",
    "model.add(Dropout(0.25))\n",
    "model.add(Flatten())\n",
    "model.add(Dense(64, activation='relu'))\n",
    "model.add(Dropout(0.5))\n",
    "model.add(Dense(32, activation='relu'))\n",
    "\n",
    "# output layer\n",
    "model.add(Dense(len(unique_train), activation='softmax'))  # classification layer.\n",
    "model.summary()\n"
   ]
  },
  {
   "cell_type": "code",
   "execution_count": 14,
   "metadata": {
    "ExecuteTime": {
     "end_time": "2021-02-19T08:18:45.124469Z",
     "start_time": "2021-02-19T08:18:45.080365Z"
    }
   },
   "outputs": [],
   "source": [
    "# compile the model\n",
    "opt = Adam(learning_rate=0.0001, beta_1=0.9, beta_2=0.999)\n",
    "\n",
    "# categorical classification\n",
    "model.compile(loss='categorical_crossentropy', optimizer=opt, metrics=['accuracy'])\n",
    "\n",
    "# binary classification\n",
    "# model.compile(loss='binary_crossentropy', optimizer=opt, metrics=['accuracy'])"
   ]
  },
  {
   "cell_type": "code",
   "execution_count": 15,
   "metadata": {
    "ExecuteTime": {
     "end_time": "2021-02-19T08:21:05.025946Z",
     "start_time": "2021-02-19T08:18:45.126668Z"
    },
    "scrolled": true
   },
   "outputs": [
    {
     "name": "stdout",
     "output_type": "stream",
     "text": [
      "Train on 15240 samples, validate on 5080 samples\n",
      "Epoch 1/300\n",
      "15240/15240 - 3s - loss: 1.0420 - accuracy: 0.4721 - val_loss: 0.8981 - val_accuracy: 0.6709\n",
      "Epoch 2/300\n",
      "15240/15240 - 2s - loss: 0.8065 - accuracy: 0.6387 - val_loss: 0.6283 - val_accuracy: 0.7142\n",
      "Epoch 3/300\n",
      "15240/15240 - 2s - loss: 0.6618 - accuracy: 0.7032 - val_loss: 0.5198 - val_accuracy: 0.7675\n",
      "Epoch 4/300\n",
      "15240/15240 - 2s - loss: 0.5755 - accuracy: 0.7504 - val_loss: 0.4463 - val_accuracy: 0.8150\n",
      "Epoch 5/300\n",
      "15240/15240 - 2s - loss: 0.5213 - accuracy: 0.7762 - val_loss: 0.4025 - val_accuracy: 0.8335\n",
      "Epoch 6/300\n",
      "15240/15240 - 2s - loss: 0.4790 - accuracy: 0.7988 - val_loss: 0.3671 - val_accuracy: 0.8486\n",
      "Epoch 7/300\n",
      "15240/15240 - 2s - loss: 0.4529 - accuracy: 0.8111 - val_loss: 0.3455 - val_accuracy: 0.8553\n",
      "Epoch 8/300\n",
      "15240/15240 - 2s - loss: 0.4266 - accuracy: 0.8260 - val_loss: 0.3238 - val_accuracy: 0.8638\n",
      "Epoch 9/300\n",
      "15240/15240 - 2s - loss: 0.4089 - accuracy: 0.8325 - val_loss: 0.3101 - val_accuracy: 0.8705\n",
      "Epoch 10/300\n",
      "15240/15240 - 2s - loss: 0.3918 - accuracy: 0.8430 - val_loss: 0.2976 - val_accuracy: 0.8762\n",
      "Epoch 11/300\n",
      "15240/15240 - 2s - loss: 0.3766 - accuracy: 0.8467 - val_loss: 0.2831 - val_accuracy: 0.8846\n",
      "Epoch 12/300\n",
      "15240/15240 - 2s - loss: 0.3687 - accuracy: 0.8502 - val_loss: 0.2734 - val_accuracy: 0.8878\n",
      "Epoch 13/300\n",
      "15240/15240 - 2s - loss: 0.3560 - accuracy: 0.8556 - val_loss: 0.2726 - val_accuracy: 0.8852\n",
      "Epoch 14/300\n",
      "15240/15240 - 2s - loss: 0.3404 - accuracy: 0.8638 - val_loss: 0.2588 - val_accuracy: 0.8943\n",
      "Epoch 15/300\n",
      "15240/15240 - 2s - loss: 0.3304 - accuracy: 0.8670 - val_loss: 0.2507 - val_accuracy: 0.9000\n",
      "Epoch 16/300\n",
      "15240/15240 - 2s - loss: 0.3285 - accuracy: 0.8686 - val_loss: 0.2606 - val_accuracy: 0.8917\n",
      "Epoch 17/300\n",
      "15240/15240 - 2s - loss: 0.3227 - accuracy: 0.8698 - val_loss: 0.2466 - val_accuracy: 0.8959\n",
      "Epoch 18/300\n",
      "15240/15240 - 2s - loss: 0.3164 - accuracy: 0.8762 - val_loss: 0.2389 - val_accuracy: 0.8994\n",
      "Epoch 19/300\n",
      "15240/15240 - 2s - loss: 0.3085 - accuracy: 0.8778 - val_loss: 0.2472 - val_accuracy: 0.8974\n",
      "Epoch 20/300\n",
      "15240/15240 - 2s - loss: 0.3030 - accuracy: 0.8781 - val_loss: 0.2331 - val_accuracy: 0.9031\n",
      "Epoch 21/300\n",
      "15240/15240 - 2s - loss: 0.2953 - accuracy: 0.8831 - val_loss: 0.2256 - val_accuracy: 0.9087\n",
      "Epoch 22/300\n",
      "15240/15240 - 2s - loss: 0.2962 - accuracy: 0.8815 - val_loss: 0.2221 - val_accuracy: 0.9091\n",
      "Epoch 23/300\n",
      "15240/15240 - 2s - loss: 0.2890 - accuracy: 0.8853 - val_loss: 0.2205 - val_accuracy: 0.9114\n",
      "Epoch 24/300\n",
      "15240/15240 - 2s - loss: 0.2850 - accuracy: 0.8880 - val_loss: 0.2262 - val_accuracy: 0.9075\n",
      "Epoch 25/300\n",
      "15240/15240 - 2s - loss: 0.2731 - accuracy: 0.8948 - val_loss: 0.2171 - val_accuracy: 0.9112\n",
      "Epoch 26/300\n",
      "15240/15240 - 2s - loss: 0.2782 - accuracy: 0.8907 - val_loss: 0.2136 - val_accuracy: 0.9126\n",
      "Epoch 27/300\n",
      "15240/15240 - 2s - loss: 0.2716 - accuracy: 0.8925 - val_loss: 0.2088 - val_accuracy: 0.9152\n",
      "Epoch 28/300\n",
      "15240/15240 - 2s - loss: 0.2693 - accuracy: 0.8941 - val_loss: 0.2063 - val_accuracy: 0.9183\n",
      "Epoch 29/300\n",
      "15240/15240 - 2s - loss: 0.2628 - accuracy: 0.8974 - val_loss: 0.2045 - val_accuracy: 0.9185\n",
      "Epoch 30/300\n",
      "15240/15240 - 2s - loss: 0.2616 - accuracy: 0.8977 - val_loss: 0.2105 - val_accuracy: 0.9136\n",
      "Epoch 31/300\n",
      "15240/15240 - 2s - loss: 0.2575 - accuracy: 0.8967 - val_loss: 0.2018 - val_accuracy: 0.9197\n",
      "Epoch 32/300\n",
      "15240/15240 - 2s - loss: 0.2603 - accuracy: 0.8977 - val_loss: 0.1970 - val_accuracy: 0.9211\n",
      "Epoch 33/300\n",
      "15240/15240 - 2s - loss: 0.2521 - accuracy: 0.8969 - val_loss: 0.1961 - val_accuracy: 0.9215\n",
      "Epoch 34/300\n",
      "15240/15240 - 2s - loss: 0.2439 - accuracy: 0.9030 - val_loss: 0.1948 - val_accuracy: 0.9226\n",
      "Epoch 35/300\n",
      "15240/15240 - 2s - loss: 0.2480 - accuracy: 0.9022 - val_loss: 0.1948 - val_accuracy: 0.9219\n",
      "Epoch 36/300\n",
      "15240/15240 - 2s - loss: 0.2466 - accuracy: 0.9049 - val_loss: 0.1925 - val_accuracy: 0.9220\n",
      "Epoch 37/300\n",
      "15240/15240 - 2s - loss: 0.2400 - accuracy: 0.9063 - val_loss: 0.1917 - val_accuracy: 0.9224\n",
      "Epoch 38/300\n",
      "15240/15240 - 2s - loss: 0.2397 - accuracy: 0.9061 - val_loss: 0.1873 - val_accuracy: 0.9268\n",
      "Epoch 39/300\n",
      "15240/15240 - 2s - loss: 0.2346 - accuracy: 0.9066 - val_loss: 0.1893 - val_accuracy: 0.9222\n",
      "Epoch 40/300\n",
      "15240/15240 - 2s - loss: 0.2335 - accuracy: 0.9088 - val_loss: 0.1842 - val_accuracy: 0.9293\n",
      "Epoch 41/300\n",
      "15240/15240 - 2s - loss: 0.2328 - accuracy: 0.9084 - val_loss: 0.1824 - val_accuracy: 0.9274\n",
      "Epoch 42/300\n",
      "15240/15240 - 2s - loss: 0.2273 - accuracy: 0.9134 - val_loss: 0.1815 - val_accuracy: 0.9264\n",
      "Epoch 43/300\n",
      "15240/15240 - 2s - loss: 0.2320 - accuracy: 0.9081 - val_loss: 0.1828 - val_accuracy: 0.9287\n",
      "Epoch 44/300\n",
      "15240/15240 - 2s - loss: 0.2280 - accuracy: 0.9114 - val_loss: 0.1808 - val_accuracy: 0.9270\n",
      "Epoch 45/300\n",
      "15240/15240 - 2s - loss: 0.2249 - accuracy: 0.9114 - val_loss: 0.1792 - val_accuracy: 0.9293\n",
      "Epoch 46/300\n",
      "15240/15240 - 2s - loss: 0.2191 - accuracy: 0.9132 - val_loss: 0.1753 - val_accuracy: 0.9301\n",
      "Epoch 47/300\n",
      "15240/15240 - 2s - loss: 0.2144 - accuracy: 0.9159 - val_loss: 0.1738 - val_accuracy: 0.9301\n",
      "Epoch 48/300\n",
      "15240/15240 - 2s - loss: 0.2187 - accuracy: 0.9124 - val_loss: 0.1729 - val_accuracy: 0.9280\n",
      "Epoch 49/300\n",
      "15240/15240 - 2s - loss: 0.2153 - accuracy: 0.9150 - val_loss: 0.1722 - val_accuracy: 0.9301\n",
      "Epoch 50/300\n",
      "15240/15240 - 2s - loss: 0.2158 - accuracy: 0.9156 - val_loss: 0.1681 - val_accuracy: 0.9341\n",
      "Epoch 51/300\n",
      "15240/15240 - 2s - loss: 0.2125 - accuracy: 0.9166 - val_loss: 0.1682 - val_accuracy: 0.9344\n",
      "Epoch 52/300\n",
      "15240/15240 - 2s - loss: 0.2071 - accuracy: 0.9182 - val_loss: 0.1695 - val_accuracy: 0.9301\n",
      "Epoch 53/300\n",
      "15240/15240 - 2s - loss: 0.2041 - accuracy: 0.9222 - val_loss: 0.1703 - val_accuracy: 0.9297\n",
      "Epoch 54/300\n",
      "15240/15240 - 2s - loss: 0.2080 - accuracy: 0.9184 - val_loss: 0.1653 - val_accuracy: 0.9321\n",
      "Epoch 55/300\n",
      "15240/15240 - 2s - loss: 0.2041 - accuracy: 0.9203 - val_loss: 0.1650 - val_accuracy: 0.9325\n",
      "Epoch 56/300\n",
      "15240/15240 - 2s - loss: 0.2026 - accuracy: 0.9247 - val_loss: 0.1660 - val_accuracy: 0.9327\n",
      "Epoch 57/300\n",
      "15240/15240 - 2s - loss: 0.2035 - accuracy: 0.9180 - val_loss: 0.1693 - val_accuracy: 0.9319\n",
      "Epoch 58/300\n",
      "15240/15240 - 2s - loss: 0.1971 - accuracy: 0.9233 - val_loss: 0.1627 - val_accuracy: 0.9354\n",
      "Epoch 59/300\n",
      "15240/15240 - 2s - loss: 0.1979 - accuracy: 0.9230 - val_loss: 0.1660 - val_accuracy: 0.9331\n",
      "Epoch 60/300\n",
      "15240/15240 - 2s - loss: 0.1991 - accuracy: 0.9214 - val_loss: 0.1629 - val_accuracy: 0.9327\n",
      "Epoch 61/300\n",
      "15240/15240 - 2s - loss: 0.1966 - accuracy: 0.9248 - val_loss: 0.1620 - val_accuracy: 0.9339\n",
      "Epoch 62/300\n",
      "15240/15240 - 2s - loss: 0.1949 - accuracy: 0.9215 - val_loss: 0.1620 - val_accuracy: 0.9327\n",
      "Epoch 63/300\n",
      "15240/15240 - 2s - loss: 0.1920 - accuracy: 0.9239 - val_loss: 0.1626 - val_accuracy: 0.9364\n",
      "Epoch 64/300\n",
      "15240/15240 - 2s - loss: 0.1919 - accuracy: 0.9265 - val_loss: 0.1611 - val_accuracy: 0.9329\n",
      "Epoch 65/300\n",
      "15240/15240 - 2s - loss: 0.1944 - accuracy: 0.9253 - val_loss: 0.1623 - val_accuracy: 0.9321\n",
      "Epoch 66/300\n",
      "15240/15240 - 2s - loss: 0.1933 - accuracy: 0.9232 - val_loss: 0.1568 - val_accuracy: 0.9360\n",
      "Epoch 67/300\n",
      "15240/15240 - 2s - loss: 0.1933 - accuracy: 0.9228 - val_loss: 0.1638 - val_accuracy: 0.9307\n",
      "Epoch 68/300\n",
      "15240/15240 - 2s - loss: 0.1861 - accuracy: 0.9297 - val_loss: 0.1543 - val_accuracy: 0.9376\n",
      "Epoch 69/300\n",
      "15240/15240 - 2s - loss: 0.1869 - accuracy: 0.9284 - val_loss: 0.1592 - val_accuracy: 0.9346\n",
      "Epoch 70/300\n",
      "15240/15240 - 2s - loss: 0.1914 - accuracy: 0.9256 - val_loss: 0.1572 - val_accuracy: 0.9343\n",
      "Epoch 71/300\n",
      "15240/15240 - 2s - loss: 0.1883 - accuracy: 0.9252 - val_loss: 0.1573 - val_accuracy: 0.9346\n",
      "Epoch 72/300\n",
      "15240/15240 - 2s - loss: 0.1851 - accuracy: 0.9291 - val_loss: 0.1585 - val_accuracy: 0.9343\n",
      "Epoch 73/300\n",
      "15240/15240 - 2s - loss: 0.1838 - accuracy: 0.9288 - val_loss: 0.1574 - val_accuracy: 0.9364\n",
      "Epoch 00073: early stopping\n"
     ]
    }
   ],
   "source": [
    "# train the model\n",
    "history = model.fit(\n",
    "    x=gam_train_undersampled, \n",
    "    y=y_train_categorical_undersampled, \n",
    "    epochs=300, \n",
    "    batch_size=64,\n",
    "    validation_split=0.25, \n",
    "    verbose=2,\n",
    "    callbacks=[EarlyStopping(monitor='val_loss', mode='min', verbose=1, patience=5)]\n",
    ")"
   ]
  },
  {
   "cell_type": "code",
   "execution_count": 16,
   "metadata": {
    "ExecuteTime": {
     "end_time": "2021-02-19T08:21:05.243274Z",
     "start_time": "2021-02-19T08:21:05.028328Z"
    }
   },
   "outputs": [
    {
     "data": {
      "image/png": "[encoded data removed]",
      "text/plain": [
       "<Figure size 432x288 with 1 Axes>"
      ]
     },
     "metadata": {
      "needs_background": "light"
     },
     "output_type": "display_data"
    }
   ],
   "source": [
    "# review the model convergence - 'loss'\n",
    "metric1 = 'loss'\n",
    "plt.figure()\n",
    "plt.plot(history.history[metric1])\n",
    "plt.plot(history.history['val_' + metric1])\n",
    "plt.title('model ' + metric1)\n",
    "plt.ylabel(metric1, fontsize='large')\n",
    "plt.xlabel('epoch', fontsize='large')\n",
    "plt.legend(['train', 'validate'], loc='best')\n",
    "plt.show()\n",
    "plt.close()"
   ]
  },
  {
   "cell_type": "code",
   "execution_count": 17,
   "metadata": {
    "ExecuteTime": {
     "end_time": "2021-02-19T08:21:05.490004Z",
     "start_time": "2021-02-19T08:21:05.245879Z"
    }
   },
   "outputs": [
    {
     "data": {
      "image/png": "[encoded data removed]",
      "text/plain": [
       "<Figure size 432x288 with 1 Axes>"
      ]
     },
     "metadata": {
      "needs_background": "light"
     },
     "output_type": "display_data"
    }
   ],
   "source": [
    "# review the model convergence - 'accuracy'\n",
    "metric2 = 'accuracy'\n",
    "plt.figure()\n",
    "plt.plot(history.history[metric2])\n",
    "plt.plot(history.history['val_' + metric2])\n",
    "plt.title('model ' + metric2)\n",
    "plt.ylabel(metric2, fontsize='large')\n",
    "plt.xlabel('epoch', fontsize='large')\n",
    "plt.legend(['train', 'validate'], loc='best')\n",
    "plt.show()\n",
    "plt.close()"
   ]
  },
  {
   "cell_type": "code",
   "execution_count": 18,
   "metadata": {
    "ExecuteTime": {
     "end_time": "2021-02-19T08:21:06.425694Z",
     "start_time": "2021-02-19T08:21:05.492148Z"
    },
    "scrolled": true
   },
   "outputs": [
    {
     "name": "stdout",
     "output_type": "stream",
     "text": [
      "Test accuracy 0.90489155\n",
      "Test loss 0.2227269381910417\n"
     ]
    }
   ],
   "source": [
    "# evaluate the trained model with the test data\n",
    "test_loss, test_acc = model.evaluate(gam_test_undersampled, y_test_categorical_undersampled, verbose=0)\n",
    "print(\"Test accuracy\", test_acc)\n",
    "print(\"Test loss\", test_loss)"
   ]
  },
  {
   "cell_type": "code",
   "execution_count": 19,
   "metadata": {
    "ExecuteTime": {
     "end_time": "2021-02-19T08:21:07.398292Z",
     "start_time": "2021-02-19T08:21:06.427362Z"
    }
   },
   "outputs": [
    {
     "name": "stdout",
     "output_type": "stream",
     "text": [
      "              precision    recall  f1-score   support\n",
      "\n",
      "    negative       0.79      0.98      0.88      2323\n",
      "     neutral       0.98      0.86      0.92      7871\n",
      "    positive       0.82      0.97      0.89      2297\n",
      "\n",
      "    accuracy                           0.90     12491\n",
      "   macro avg       0.87      0.94      0.90     12491\n",
      "weighted avg       0.92      0.90      0.91     12491\n",
      "\n"
     ]
    }
   ],
   "source": [
    "# review the classification report\n",
    "y_pred = model.predict(gam_test_undersampled).argmax(axis=1)\n",
    "y_true = y_test_categorical_undersampled.argmax(axis=1)\n",
    "print(classification_report(y_true, y_pred, target_names=label_encoder.classes_)) "
   ]
  },
  {
   "cell_type": "code",
   "execution_count": 20,
   "metadata": {
    "ExecuteTime": {
     "end_time": "2021-02-19T08:21:07.559106Z",
     "start_time": "2021-02-19T08:21:07.400197Z"
    }
   },
   "outputs": [
    {
     "data": {
      "image/png": "[encoded data removed]",
      "text/plain": [
       "<Figure size 432x288 with 2 Axes>"
      ]
     },
     "metadata": {
      "needs_background": "light"
     },
     "output_type": "display_data"
    }
   ],
   "source": [
    "# review confusion matrix\n",
    "cm = confusion_matrix(y_true, y_pred)\n",
    "disp = ConfusionMatrixDisplay(confusion_matrix=cm, display_labels=label_encoder.classes_)\n",
    "disp.plot(cmap='Blues');"
   ]
  },
  {
   "cell_type": "code",
   "execution_count": 21,
   "metadata": {
    "ExecuteTime": {
     "end_time": "2021-02-19T08:21:07.600721Z",
     "start_time": "2021-02-19T08:21:07.560831Z"
    }
   },
   "outputs": [],
   "source": [
    "# save the model\n",
    "model.save('./analysis/eurusd_hour_real_model.h5')"
   ]
  }
 ],
 "metadata": {
  "hide_input": false,
  "kernelspec": {
   "display_name": "Python 3",
   "language": "python",
   "name": "python3"
  },
  "language_info": {
   "codemirror_mode": {
    "name": "ipython",
    "version": 3
   },
   "file_extension": ".py",
   "mimetype": "text/x-python",
   "name": "python",
   "nbconvert_exporter": "python",
   "pygments_lexer": "ipython3",
   "version": "3.7.7"
  }
 },
 "nbformat": 4,
 "nbformat_minor": 4
}
