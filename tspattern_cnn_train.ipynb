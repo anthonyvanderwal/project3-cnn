{
 "cells": [
  {
   "cell_type": "code",
   "execution_count": 1,
   "metadata": {
    "ExecuteTime": {
     "end_time": "2021-02-20T01:07:16.172062Z",
     "start_time": "2021-02-20T01:07:13.844965Z"
    }
   },
   "outputs": [],
   "source": [
    "# dependencies\n",
    "import pandas as pd\n",
    "import numpy as np\n",
    "import matplotlib.pyplot as plt\n",
    "import plotly.graph_objs as go\n",
    "import tensorflow as tf\n",
    "from tensorflow.keras.callbacks import EarlyStopping\n",
    "from tensorflow.keras.models import Sequential\n",
    "from tensorflow.keras.layers import Input, Dense, Dropout, Flatten, Conv2D, MaxPooling2D\n",
    "from tensorflow.keras.optimizers import Adam\n",
    "from tensorflow.keras.utils import to_categorical\n",
    "from sklearn.preprocessing import LabelEncoder\n",
    "from sklearn.metrics import confusion_matrix, classification_report, ConfusionMatrixDisplay\n",
    "from tqdm import tqdm, trange"
   ]
  },
  {
   "cell_type": "code",
   "execution_count": 2,
   "metadata": {
    "ExecuteTime": {
     "end_time": "2021-02-20T01:07:16.177800Z",
     "start_time": "2021-02-20T01:07:16.175136Z"
    }
   },
   "outputs": [],
   "source": [
    "# seed value for the notebook\n",
    "np.random.seed(42)"
   ]
  },
  {
   "cell_type": "code",
   "execution_count": 3,
   "metadata": {
    "ExecuteTime": {
     "end_time": "2021-02-20T01:07:16.290095Z",
     "start_time": "2021-02-20T01:07:16.181439Z"
    }
   },
   "outputs": [
    {
     "data": {
      "text/html": [
       "<div>\n",
       "<style scoped>\n",
       "    .dataframe tbody tr th:only-of-type {\n",
       "        vertical-align: middle;\n",
       "    }\n",
       "\n",
       "    .dataframe tbody tr th {\n",
       "        vertical-align: top;\n",
       "    }\n",
       "\n",
       "    .dataframe thead th {\n",
       "        text-align: right;\n",
       "    }\n",
       "</style>\n",
       "<table border=\"1\" class=\"dataframe\">\n",
       "  <thead>\n",
       "    <tr style=\"text-align: right;\">\n",
       "      <th></th>\n",
       "      <th>open</th>\n",
       "      <th>high</th>\n",
       "      <th>low</th>\n",
       "      <th>close</th>\n",
       "      <th>upper_shadow</th>\n",
       "      <th>lower_shadow</th>\n",
       "      <th>real_body</th>\n",
       "      <th>slope</th>\n",
       "      <th>indicator</th>\n",
       "    </tr>\n",
       "    <tr>\n",
       "      <th>date</th>\n",
       "      <th></th>\n",
       "      <th></th>\n",
       "      <th></th>\n",
       "      <th></th>\n",
       "      <th></th>\n",
       "      <th></th>\n",
       "      <th></th>\n",
       "      <th></th>\n",
       "      <th></th>\n",
       "    </tr>\n",
       "  </thead>\n",
       "  <tbody>\n",
       "    <tr>\n",
       "      <th>2012-03-28 02:00:00</th>\n",
       "      <td>1.33221</td>\n",
       "      <td>1.33319</td>\n",
       "      <td>1.33204</td>\n",
       "      <td>1.33304</td>\n",
       "      <td>0.00015</td>\n",
       "      <td>0.00017</td>\n",
       "      <td>0.00083</td>\n",
       "      <td>neutral</td>\n",
       "      <td>neutral</td>\n",
       "    </tr>\n",
       "    <tr>\n",
       "      <th>2012-03-28 03:00:00</th>\n",
       "      <td>1.33301</td>\n",
       "      <td>1.33304</td>\n",
       "      <td>1.33256</td>\n",
       "      <td>1.33287</td>\n",
       "      <td>-0.00003</td>\n",
       "      <td>-0.00031</td>\n",
       "      <td>-0.00014</td>\n",
       "      <td>neutral</td>\n",
       "      <td>neutral</td>\n",
       "    </tr>\n",
       "    <tr>\n",
       "      <th>2012-03-28 04:00:00</th>\n",
       "      <td>1.33290</td>\n",
       "      <td>1.33338</td>\n",
       "      <td>1.33255</td>\n",
       "      <td>1.33255</td>\n",
       "      <td>-0.00048</td>\n",
       "      <td>0.00000</td>\n",
       "      <td>-0.00035</td>\n",
       "      <td>neutral</td>\n",
       "      <td>neutral</td>\n",
       "    </tr>\n",
       "    <tr>\n",
       "      <th>2012-03-28 05:00:00</th>\n",
       "      <td>1.33257</td>\n",
       "      <td>1.33348</td>\n",
       "      <td>1.33255</td>\n",
       "      <td>1.33322</td>\n",
       "      <td>0.00026</td>\n",
       "      <td>0.00002</td>\n",
       "      <td>0.00065</td>\n",
       "      <td>neutral</td>\n",
       "      <td>neutral</td>\n",
       "    </tr>\n",
       "    <tr>\n",
       "      <th>2012-03-28 06:00:00</th>\n",
       "      <td>1.33325</td>\n",
       "      <td>1.33353</td>\n",
       "      <td>1.33154</td>\n",
       "      <td>1.33250</td>\n",
       "      <td>-0.00028</td>\n",
       "      <td>-0.00096</td>\n",
       "      <td>-0.00075</td>\n",
       "      <td>neutral</td>\n",
       "      <td>neutral</td>\n",
       "    </tr>\n",
       "    <tr>\n",
       "      <th>...</th>\n",
       "      <td>...</td>\n",
       "      <td>...</td>\n",
       "      <td>...</td>\n",
       "      <td>...</td>\n",
       "      <td>...</td>\n",
       "      <td>...</td>\n",
       "      <td>...</td>\n",
       "      <td>...</td>\n",
       "      <td>...</td>\n",
       "    </tr>\n",
       "    <tr>\n",
       "      <th>2020-04-29 18:00:00</th>\n",
       "      <td>1.08620</td>\n",
       "      <td>1.08851</td>\n",
       "      <td>1.08611</td>\n",
       "      <td>1.08713</td>\n",
       "      <td>0.00138</td>\n",
       "      <td>0.00009</td>\n",
       "      <td>0.00093</td>\n",
       "      <td>neutral</td>\n",
       "      <td>neutral</td>\n",
       "    </tr>\n",
       "    <tr>\n",
       "      <th>2020-04-29 19:00:00</th>\n",
       "      <td>1.08711</td>\n",
       "      <td>1.08823</td>\n",
       "      <td>1.08659</td>\n",
       "      <td>1.08748</td>\n",
       "      <td>0.00075</td>\n",
       "      <td>0.00052</td>\n",
       "      <td>0.00037</td>\n",
       "      <td>positive</td>\n",
       "      <td>neutral</td>\n",
       "    </tr>\n",
       "    <tr>\n",
       "      <th>2020-04-29 20:00:00</th>\n",
       "      <td>1.08747</td>\n",
       "      <td>1.08788</td>\n",
       "      <td>1.08691</td>\n",
       "      <td>1.08708</td>\n",
       "      <td>-0.00041</td>\n",
       "      <td>-0.00017</td>\n",
       "      <td>-0.00039</td>\n",
       "      <td>positive</td>\n",
       "      <td>neutral</td>\n",
       "    </tr>\n",
       "    <tr>\n",
       "      <th>2020-04-29 21:00:00</th>\n",
       "      <td>1.08708</td>\n",
       "      <td>1.08740</td>\n",
       "      <td>1.08699</td>\n",
       "      <td>1.08714</td>\n",
       "      <td>0.00026</td>\n",
       "      <td>0.00009</td>\n",
       "      <td>0.00006</td>\n",
       "      <td>positive</td>\n",
       "      <td>neutral</td>\n",
       "    </tr>\n",
       "    <tr>\n",
       "      <th>2020-04-29 22:00:00</th>\n",
       "      <td>1.08728</td>\n",
       "      <td>1.08760</td>\n",
       "      <td>1.08727</td>\n",
       "      <td>1.08743</td>\n",
       "      <td>0.00017</td>\n",
       "      <td>0.00001</td>\n",
       "      <td>0.00015</td>\n",
       "      <td>neutral</td>\n",
       "      <td>neutral</td>\n",
       "    </tr>\n",
       "  </tbody>\n",
       "</table>\n",
       "<p>50000 rows × 9 columns</p>\n",
       "</div>"
      ],
      "text/plain": [
       "                        open     high      low    close  upper_shadow  \\\n",
       "date                                                                    \n",
       "2012-03-28 02:00:00  1.33221  1.33319  1.33204  1.33304       0.00015   \n",
       "2012-03-28 03:00:00  1.33301  1.33304  1.33256  1.33287      -0.00003   \n",
       "2012-03-28 04:00:00  1.33290  1.33338  1.33255  1.33255      -0.00048   \n",
       "2012-03-28 05:00:00  1.33257  1.33348  1.33255  1.33322       0.00026   \n",
       "2012-03-28 06:00:00  1.33325  1.33353  1.33154  1.33250      -0.00028   \n",
       "...                      ...      ...      ...      ...           ...   \n",
       "2020-04-29 18:00:00  1.08620  1.08851  1.08611  1.08713       0.00138   \n",
       "2020-04-29 19:00:00  1.08711  1.08823  1.08659  1.08748       0.00075   \n",
       "2020-04-29 20:00:00  1.08747  1.08788  1.08691  1.08708      -0.00041   \n",
       "2020-04-29 21:00:00  1.08708  1.08740  1.08699  1.08714       0.00026   \n",
       "2020-04-29 22:00:00  1.08728  1.08760  1.08727  1.08743       0.00017   \n",
       "\n",
       "                     lower_shadow  real_body     slope indicator  \n",
       "date                                                              \n",
       "2012-03-28 02:00:00       0.00017    0.00083   neutral   neutral  \n",
       "2012-03-28 03:00:00      -0.00031   -0.00014   neutral   neutral  \n",
       "2012-03-28 04:00:00       0.00000   -0.00035   neutral   neutral  \n",
       "2012-03-28 05:00:00       0.00002    0.00065   neutral   neutral  \n",
       "2012-03-28 06:00:00      -0.00096   -0.00075   neutral   neutral  \n",
       "...                           ...        ...       ...       ...  \n",
       "2020-04-29 18:00:00       0.00009    0.00093   neutral   neutral  \n",
       "2020-04-29 19:00:00       0.00052    0.00037  positive   neutral  \n",
       "2020-04-29 20:00:00      -0.00017   -0.00039  positive   neutral  \n",
       "2020-04-29 21:00:00       0.00009    0.00006  positive   neutral  \n",
       "2020-04-29 22:00:00       0.00001    0.00015   neutral   neutral  \n",
       "\n",
       "[50000 rows x 9 columns]"
      ]
     },
     "execution_count": 3,
     "metadata": {},
     "output_type": "execute_result"
    }
   ],
   "source": [
    "# read data from labelling notebook\n",
    "#  'tspattern_data_label.ipynb'\n",
    "df = pd.read_csv('./resources/eurusd_hour_real_labelled.csv', index_col=0,parse_dates=True)\n",
    "df"
   ]
  },
  {
   "cell_type": "code",
   "execution_count": 4,
   "metadata": {
    "ExecuteTime": {
     "end_time": "2021-02-20T01:07:16.297796Z",
     "start_time": "2021-02-20T01:07:16.292544Z"
    }
   },
   "outputs": [
    {
     "name": "stdout",
     "output_type": "stream",
     "text": [
      "(50000, 7) (50000,)\n"
     ]
    }
   ],
   "source": [
    "# create the feature (X) and category (y) data sets\n",
    "X = df.drop(['slope', 'indicator'], axis=1)\n",
    "y = df['slope']\n",
    "print(X.shape, y.shape)"
   ]
  },
  {
   "cell_type": "code",
   "execution_count": 5,
   "metadata": {
    "ExecuteTime": {
     "end_time": "2021-02-20T01:07:16.304283Z",
     "start_time": "2021-02-20T01:07:16.299428Z"
    }
   },
   "outputs": [
    {
     "name": "stdout",
     "output_type": "stream",
     "text": [
      "| X_train: (37500, 7) | y_train: (37500,) |\n",
      "| X_test:  (12500, 7) | y_test:  (12500,) |\n"
     ]
    }
   ],
   "source": [
    "# split 75/25 (train/test)\n",
    "#  for timeseries keep data in continuous form (not random)\n",
    "# calculate the number of train data points\n",
    "train_pct_index = int(0.75 * len(X))\n",
    "\n",
    "# slice the data frames\n",
    "X_train, X_test = X[:train_pct_index], X[train_pct_index:]\n",
    "y_train, y_test = y[:train_pct_index], y[train_pct_index:]\n",
    "\n",
    "# summarise the results\n",
    "print(f'| X_train: {X_train.shape} | y_train: {y_train.shape} |\\n'\n",
    "      f'| X_test:  {X_test.shape} | y_test:  {y_test.shape} |')"
   ]
  },
  {
   "cell_type": "code",
   "execution_count": 6,
   "metadata": {
    "ExecuteTime": {
     "end_time": "2021-02-20T01:07:16.316845Z",
     "start_time": "2021-02-20T01:07:16.306019Z"
    }
   },
   "outputs": [
    {
     "name": "stdout",
     "output_type": "stream",
     "text": [
      "| y_train: (37500, 3) | y_test: (12500, 3) |\n",
      "| classes: ['negative', 'neutral', 'positive'] |\n"
     ]
    }
   ],
   "source": [
    "# target category encoding\n",
    "label_encoder = LabelEncoder()\n",
    "label_encoder.fit(y_train)\n",
    "\n",
    "# encoding\n",
    "y_train_encoded = label_encoder.transform(y_train)\n",
    "y_test_encoded = label_encoder.transform(y_test)\n",
    "\n",
    "# categories\n",
    "y_train_categorical = to_categorical(y_train_encoded)\n",
    "y_test_categorical = to_categorical(y_test_encoded)\n",
    "\n",
    "# summarise the results\n",
    "print(f'| y_train: {y_train_categorical.shape} | y_test: {y_test_categorical.shape} |')\n",
    "\n",
    "# confirm the categories\n",
    "print(f'| classes: {list(label_encoder.classes_)} |')"
   ]
  },
  {
   "cell_type": "code",
   "execution_count": 7,
   "metadata": {
    "ExecuteTime": {
     "end_time": "2021-02-20T01:07:31.714980Z",
     "start_time": "2021-02-20T01:07:16.318395Z"
    }
   },
   "outputs": [
    {
     "name": "stderr",
     "output_type": "stream",
     "text": [
      "Generating...: 100%|##########| 37491/37491 [00:05<00:00, 6518.83it/s]\n",
      "Generating...: 100%|##########| 37491/37491 [00:05<00:00, 6555.69it/s]\n",
      "Generating...: 100%|##########| 12491/12491 [00:01<00:00, 6607.16it/s]\n",
      "Generating...: 100%|##########| 12491/12491 [00:01<00:00, 6499.47it/s]\n"
     ]
    },
    {
     "name": "stdout",
     "output_type": "stream",
     "text": [
      "| gam_train: (37491, 10, 10, 2) | gam_test: (12491, 10, 10, 2) |\n"
     ]
    }
   ],
   "source": [
    "# gramian angular matrices (gam):\n",
    "#  https://jfin-swufe.springeropen.com/articles/10.1186/s40854-020-00187-0\n",
    "#  https://www.aaai.org/ocs/index.php/WS/AAAIW15/paper/viewFile/10179/10251 \n",
    "#  https://github.com/pecu/Series2GAF/blob/master/cnn_example/series2gaf.py\n",
    "\n",
    "# datasets and features\n",
    "dataset_list = ['train', 'test']\n",
    "feature_list = ['close', 'real_body']\n",
    "\n",
    "# image size => window_size(rows) x window_size(cols)\n",
    "window_size = 10\n",
    "\n",
    "# loop through each dataset\n",
    "for this_dataset in dataset_list:\n",
    "    \n",
    "    # intialise the gam field for the dataset\n",
    "    gramian_field = []\n",
    "    \n",
    "    # number of data points\n",
    "    if this_dataset == 'train':\n",
    "        n = len(X_train['close'])\n",
    "    if this_dataset == 'test':\n",
    "        n = len(X_test['close'])\n",
    "    \n",
    "    # loop through each feature\n",
    "    for this_feature in feature_list:\n",
    "\n",
    "        # initialise the gam field for the feture\n",
    "        gam_feature_set = []\n",
    "\n",
    "        # loop through the data\n",
    "        for i_data in trange(window_size, n+1, desc=\"Generating...\", ascii=True):\n",
    "\n",
    "            # select the data points to convert frm timeseries to gam (image)\n",
    "            if this_dataset == 'train':\n",
    "                full_window_data =  list(X_train[this_feature][i_data-window_size : i_data])\n",
    "            if this_dataset == 'test':\n",
    "                full_window_data =  list(X_test[this_feature][i_data-window_size : i_data])\n",
    "\n",
    "            # scale the data\n",
    "            rescaled_ts = np.zeros((window_size, window_size), float)\n",
    "            min_ts = np.min(full_window_data)\n",
    "            max_ts = np.max(full_window_data)\n",
    "            diff = max_ts - min_ts\n",
    "            if diff != 0:\n",
    "                rescaled_ts = (full_window_data - min_ts) / diff\n",
    "\n",
    "            # initialise the image\n",
    "            this_gam = np.zeros((window_size, window_size), float)\n",
    "\n",
    "            # calculate a component of the gam\n",
    "            sin_ts = np.sqrt(np.clip(1 - rescaled_ts**2, 0, 1))\n",
    "\n",
    "            # calculate the gam - summation method\n",
    "            this_gam = np.outer(rescaled_ts, rescaled_ts) - np.outer(sin_ts, sin_ts)\n",
    "\n",
    "            # add the gam to the feature set\n",
    "            gam_feature_set.append(this_gam)\n",
    "\n",
    "            # clear the gam ready for next\n",
    "            del this_gam\n",
    "\n",
    "        # ass the gam field of the feature set to the dataset\n",
    "        gramian_field.append(gam_feature_set)\n",
    "\n",
    "        # clear the gam field of the feature set\n",
    "        del gam_feature_set\n",
    "  \n",
    "    # finalise the gam field for each dataset\n",
    "    if this_dataset == 'train':\n",
    "        gam_train = np.array(gramian_field)\n",
    "        gam_train = np.moveaxis(gam_train, 0, 3)\n",
    "    if this_dataset == 'test':\n",
    "        gam_test = np.array(gramian_field)\n",
    "        gam_test = np.moveaxis(gam_test, 0, 3)\n",
    "    \n",
    "# summarise the results\n",
    "print(f'| gam_train: {gam_train.shape} | gam_test: {gam_test.shape} |')"
   ]
  },
  {
   "cell_type": "code",
   "execution_count": 8,
   "metadata": {
    "ExecuteTime": {
     "end_time": "2021-02-20T01:07:31.738840Z",
     "start_time": "2021-02-20T01:07:31.718331Z"
    }
   },
   "outputs": [
    {
     "data": {
      "text/plain": [
       "array([['negative', 6760],\n",
       "       ['neutral', 23960],\n",
       "       ['positive', 6780]], dtype=object)"
      ]
     },
     "execution_count": 8,
     "metadata": {},
     "output_type": "execute_result"
    }
   ],
   "source": [
    "y_train_labels = label_encoder.inverse_transform(y_train_encoded)\n",
    "(unique_train, counts_train) = np.unique(y_train_labels, return_counts=True)\n",
    "np.asarray((unique_train, counts_train)).T"
   ]
  },
  {
   "cell_type": "code",
   "execution_count": 9,
   "metadata": {
    "ExecuteTime": {
     "end_time": "2021-02-20T01:07:31.757971Z",
     "start_time": "2021-02-20T01:07:31.744387Z"
    }
   },
   "outputs": [
    {
     "data": {
      "text/plain": [
       "array([['negative', 2326],\n",
       "       ['neutral', 7877],\n",
       "       ['positive', 2297]], dtype=object)"
      ]
     },
     "execution_count": 9,
     "metadata": {},
     "output_type": "execute_result"
    }
   ],
   "source": [
    "y_test_labels = label_encoder.inverse_transform(y_test_encoded)\n",
    "(unique_test, counts_test) = np.unique(y_test_labels, return_counts=True)\n",
    "np.asarray((unique_test, counts_test)).T"
   ]
  },
  {
   "cell_type": "code",
   "execution_count": 10,
   "metadata": {
    "ExecuteTime": {
     "end_time": "2021-02-20T01:07:31.790233Z",
     "start_time": "2021-02-20T01:07:31.760031Z"
    }
   },
   "outputs": [],
   "source": [
    "# balancing the training dataset by\n",
    "#  randomised under-sampling gam fields of the majority class (neutral)\n",
    "#  for categorical clasification where 'neutral' is majority\n",
    "\n",
    "# randome seed for the cell\n",
    "np.random.seed(42)\n",
    "\n",
    "# indices of gams that correspond to 'neutral' category\n",
    "minority_indices = np.where(y_train_labels[window_size-1:] != 'neutral')\n",
    "majority_indices = np.where(y_train_labels[window_size-1:] == 'neutral')\n",
    "\n",
    "# choose randomly which 'neutral' categofry gams to keep\n",
    "undersample_indexes = np.random.choice(majority_indices[0], size=np.max(np.sort(counts_train)[:-1]), replace=False)\n",
    "\n",
    "# indices of gams remaining \n",
    "keep_indices = np.sort(np.concatenate((undersample_indexes, minority_indices[0])))\n",
    "\n",
    "# reconstruct the data sets\n",
    "gam_train_undersampled = gam_train[keep_indices]\n",
    "gam_test_undersampled = gam_test\n",
    "y_train_categorical_undersampled = y_train_categorical[window_size-1:][keep_indices]\n",
    "y_train_encoded_undersampled = y_train_encoded[window_size-1:][keep_indices]\n",
    "y_test_categorical_undersampled = y_test_categorical[window_size-1:]\n",
    "y_test_encoded_undersampled = y_test_encoded[window_size-1:]\n",
    "\n",
    "\n",
    "# # for binary classification - classification performed on 'positive' & 'negative'\n",
    "# #  find indices where class is 'neutral' and remove from data and categories\n",
    "# keep_indices = np.where(y_train_labels[window_size:] != 'neutral')\n",
    "# keep_indices = np.where(y_test_labels[window_size:] != 'neutral')\n",
    "# gam_train_undersampled = gam_train[keep_indices]\n",
    "# gam_test_undersampled = gam_test[keep_indices]\n",
    "# y_train_categorical_undersampled = y_train_categorical[window_size:][keep_indices]\n",
    "# y_test_categorical_undersampled = y_test_categorical[window_size:][keep_indices]\n",
    "# y_train_encoded_undersampled = y_train_encoded[window_size:][keep_indices]\n",
    "# y_test_encoded_undersampled = y_test_encoded[window_size:][keep_indices]"
   ]
  },
  {
   "cell_type": "code",
   "execution_count": 11,
   "metadata": {
    "ExecuteTime": {
     "end_time": "2021-02-20T01:07:31.808214Z",
     "start_time": "2021-02-20T01:07:31.793424Z"
    }
   },
   "outputs": [
    {
     "data": {
      "text/plain": [
       "array([['negative', 6760],\n",
       "       ['neutral', 6780],\n",
       "       ['positive', 6780]], dtype=object)"
      ]
     },
     "execution_count": 11,
     "metadata": {},
     "output_type": "execute_result"
    }
   ],
   "source": [
    "# confirm the train dataset is 'balanced'\n",
    "y_train_labels = label_encoder.inverse_transform(y_train_encoded_undersampled)\n",
    "(unique, counts) = np.unique(y_train_labels, return_counts=True)\n",
    "np.asarray((unique, counts)).T"
   ]
  },
  {
   "cell_type": "code",
   "execution_count": 12,
   "metadata": {
    "ExecuteTime": {
     "end_time": "2021-02-20T01:07:31.820746Z",
     "start_time": "2021-02-20T01:07:31.810009Z"
    }
   },
   "outputs": [
    {
     "data": {
      "text/plain": [
       "array([['negative', 2323],\n",
       "       ['neutral', 7871],\n",
       "       ['positive', 2297]], dtype=object)"
      ]
     },
     "execution_count": 12,
     "metadata": {},
     "output_type": "execute_result"
    }
   ],
   "source": [
    "# review the test dataset category counts\n",
    "y_test_labels = label_encoder.inverse_transform(y_test_encoded_undersampled)\n",
    "(unique, counts) = np.unique(y_test_labels, return_counts=True)\n",
    "np.asarray((unique, counts)).T"
   ]
  },
  {
   "cell_type": "code",
   "execution_count": 13,
   "metadata": {
    "ExecuteTime": {
     "end_time": "2021-02-20T01:07:31.978144Z",
     "start_time": "2021-02-20T01:07:31.823130Z"
    }
   },
   "outputs": [
    {
     "name": "stdout",
     "output_type": "stream",
     "text": [
      "Model: \"sequential\"\n",
      "_________________________________________________________________\n",
      "Layer (type)                 Output Shape              Param #   \n",
      "=================================================================\n",
      "conv2d (Conv2D)              (None, 8, 8, 16)          304       \n",
      "_________________________________________________________________\n",
      "max_pooling2d (MaxPooling2D) (None, 4, 4, 16)          0         \n",
      "_________________________________________________________________\n",
      "conv2d_1 (Conv2D)            (None, 2, 2, 32)          4640      \n",
      "_________________________________________________________________\n",
      "max_pooling2d_1 (MaxPooling2 (None, 1, 1, 32)          0         \n",
      "_________________________________________________________________\n",
      "dropout (Dropout)            (None, 1, 1, 32)          0         \n",
      "_________________________________________________________________\n",
      "flatten (Flatten)            (None, 32)                0         \n",
      "_________________________________________________________________\n",
      "dense (Dense)                (None, 64)                2112      \n",
      "_________________________________________________________________\n",
      "dropout_1 (Dropout)          (None, 64)                0         \n",
      "_________________________________________________________________\n",
      "dense_1 (Dense)              (None, 32)                2080      \n",
      "_________________________________________________________________\n",
      "dense_2 (Dense)              (None, 3)                 99        \n",
      "=================================================================\n",
      "Total params: 9,235\n",
      "Trainable params: 9,235\n",
      "Non-trainable params: 0\n",
      "_________________________________________________________________\n"
     ]
    }
   ],
   "source": [
    "# model architecture\n",
    "\n",
    "# model type\n",
    "model = Sequential()\n",
    "\n",
    "# image shape and numbe rof channels\n",
    "model.add(Input(shape=(window_size, window_size, 2)))  # gam images\n",
    "\n",
    "# first convolutional layer\n",
    "model.add(Conv2D(16, 3, activation='relu', data_format='channels_last'))\n",
    "model.add(MaxPooling2D(pool_size=(2, 2)))\n",
    "\n",
    "# second convolutional layer\n",
    "model.add(Conv2D(32, 3, activation='relu', data_format='channels_last'))\n",
    "model.add(MaxPooling2D(pool_size=(2, 2)))\n",
    "\n",
    "# fully connected layers\n",
    "model.add(Dropout(0.25))\n",
    "model.add(Flatten())\n",
    "model.add(Dense(64, activation='relu'))\n",
    "model.add(Dropout(0.5))\n",
    "model.add(Dense(32, activation='relu'))\n",
    "\n",
    "# output layer\n",
    "model.add(Dense(len(unique_train), activation='softmax'))  # classification layer.\n",
    "model.summary()\n"
   ]
  },
  {
   "cell_type": "code",
   "execution_count": 14,
   "metadata": {
    "ExecuteTime": {
     "end_time": "2021-02-20T01:07:32.029800Z",
     "start_time": "2021-02-20T01:07:31.979997Z"
    }
   },
   "outputs": [],
   "source": [
    "# compile the model\n",
    "opt = Adam(learning_rate=0.0001, beta_1=0.9, beta_2=0.999)\n",
    "\n",
    "# categorical classification\n",
    "model.compile(loss='categorical_crossentropy', optimizer=opt, metrics=['accuracy'])\n",
    "\n",
    "# binary classification\n",
    "# model.compile(loss='binary_crossentropy', optimizer=opt, metrics=['accuracy'])"
   ]
  },
  {
   "cell_type": "code",
   "execution_count": 15,
   "metadata": {
    "ExecuteTime": {
     "end_time": "2021-02-20T01:08:44.152886Z",
     "start_time": "2021-02-20T01:07:32.031726Z"
    },
    "scrolled": false
   },
   "outputs": [
    {
     "name": "stdout",
     "output_type": "stream",
     "text": [
      "Train on 15240 samples, validate on 5080 samples\n",
      "Epoch 1/300\n",
      "15240/15240 - 3s - loss: 1.0262 - accuracy: 0.4648 - val_loss: 0.8734 - val_accuracy: 0.6341\n",
      "Epoch 2/300\n",
      "15240/15240 - 2s - loss: 0.8156 - accuracy: 0.6164 - val_loss: 0.6654 - val_accuracy: 0.6902\n",
      "Epoch 3/300\n",
      "15240/15240 - 2s - loss: 0.6886 - accuracy: 0.6880 - val_loss: 0.5668 - val_accuracy: 0.7390\n",
      "Epoch 4/300\n",
      "15240/15240 - 2s - loss: 0.6096 - accuracy: 0.7270 - val_loss: 0.4949 - val_accuracy: 0.7778\n",
      "Epoch 5/300\n",
      "15240/15240 - 2s - loss: 0.5512 - accuracy: 0.7581 - val_loss: 0.4440 - val_accuracy: 0.8063\n",
      "Epoch 6/300\n",
      "15240/15240 - 2s - loss: 0.5077 - accuracy: 0.7825 - val_loss: 0.4123 - val_accuracy: 0.8183\n",
      "Epoch 7/300\n",
      "15240/15240 - 2s - loss: 0.4778 - accuracy: 0.7944 - val_loss: 0.3763 - val_accuracy: 0.8404\n",
      "Epoch 8/300\n",
      "15240/15240 - 2s - loss: 0.4518 - accuracy: 0.8093 - val_loss: 0.3555 - val_accuracy: 0.8439\n",
      "Epoch 9/300\n",
      "15240/15240 - 2s - loss: 0.4290 - accuracy: 0.8210 - val_loss: 0.3381 - val_accuracy: 0.8547\n",
      "Epoch 10/300\n",
      "15240/15240 - 2s - loss: 0.4125 - accuracy: 0.8293 - val_loss: 0.3275 - val_accuracy: 0.8545\n",
      "Epoch 11/300\n",
      "15240/15240 - 2s - loss: 0.3970 - accuracy: 0.8359 - val_loss: 0.3161 - val_accuracy: 0.8642\n",
      "Epoch 12/300\n",
      "15240/15240 - 2s - loss: 0.3879 - accuracy: 0.8444 - val_loss: 0.3048 - val_accuracy: 0.8717\n",
      "Epoch 13/300\n",
      "15240/15240 - 2s - loss: 0.3804 - accuracy: 0.8438 - val_loss: 0.2895 - val_accuracy: 0.8762\n",
      "Epoch 14/300\n",
      "15240/15240 - 2s - loss: 0.3613 - accuracy: 0.8539 - val_loss: 0.2790 - val_accuracy: 0.8787\n",
      "Epoch 15/300\n",
      "15240/15240 - 2s - loss: 0.3503 - accuracy: 0.8575 - val_loss: 0.2701 - val_accuracy: 0.8831\n",
      "Epoch 16/300\n",
      "15240/15240 - 2s - loss: 0.3401 - accuracy: 0.8604 - val_loss: 0.2676 - val_accuracy: 0.8860\n",
      "Epoch 17/300\n",
      "15240/15240 - 2s - loss: 0.3301 - accuracy: 0.8657 - val_loss: 0.2565 - val_accuracy: 0.8896\n",
      "Epoch 18/300\n",
      "15240/15240 - 2s - loss: 0.3225 - accuracy: 0.8743 - val_loss: 0.2486 - val_accuracy: 0.8939\n",
      "Epoch 19/300\n",
      "15240/15240 - 2s - loss: 0.3156 - accuracy: 0.8761 - val_loss: 0.2473 - val_accuracy: 0.8976\n",
      "Epoch 20/300\n",
      "15240/15240 - 2s - loss: 0.3051 - accuracy: 0.8789 - val_loss: 0.2406 - val_accuracy: 0.8976\n",
      "Epoch 21/300\n",
      "15240/15240 - 2s - loss: 0.3008 - accuracy: 0.8818 - val_loss: 0.2395 - val_accuracy: 0.9000\n",
      "Epoch 22/300\n",
      "15240/15240 - 2s - loss: 0.2984 - accuracy: 0.8823 - val_loss: 0.2292 - val_accuracy: 0.9024\n",
      "Epoch 23/300\n",
      "15240/15240 - 2s - loss: 0.2948 - accuracy: 0.8841 - val_loss: 0.2340 - val_accuracy: 0.9041\n",
      "Epoch 24/300\n",
      "15240/15240 - 2s - loss: 0.2859 - accuracy: 0.8852 - val_loss: 0.2237 - val_accuracy: 0.9071\n",
      "Epoch 25/300\n",
      "15240/15240 - 2s - loss: 0.2807 - accuracy: 0.8890 - val_loss: 0.2230 - val_accuracy: 0.9081\n",
      "Epoch 26/300\n",
      "15240/15240 - 2s - loss: 0.2715 - accuracy: 0.8926 - val_loss: 0.2147 - val_accuracy: 0.9100\n",
      "Epoch 27/300\n",
      "15240/15240 - 2s - loss: 0.2724 - accuracy: 0.8917 - val_loss: 0.2135 - val_accuracy: 0.9114\n",
      "Epoch 28/300\n",
      "15240/15240 - 2s - loss: 0.2736 - accuracy: 0.8937 - val_loss: 0.2172 - val_accuracy: 0.9128\n",
      "Epoch 29/300\n",
      "15240/15240 - 2s - loss: 0.2637 - accuracy: 0.8938 - val_loss: 0.2135 - val_accuracy: 0.9126\n",
      "Epoch 30/300\n",
      "15240/15240 - 2s - loss: 0.2598 - accuracy: 0.8953 - val_loss: 0.2053 - val_accuracy: 0.9183\n",
      "Epoch 31/300\n",
      "15240/15240 - 2s - loss: 0.2634 - accuracy: 0.8951 - val_loss: 0.2065 - val_accuracy: 0.9183\n",
      "Epoch 32/300\n",
      "15240/15240 - 2s - loss: 0.2560 - accuracy: 0.9006 - val_loss: 0.2021 - val_accuracy: 0.9179\n",
      "Epoch 33/300\n",
      "15240/15240 - 2s - loss: 0.2589 - accuracy: 0.8991 - val_loss: 0.2056 - val_accuracy: 0.9183\n",
      "Epoch 34/300\n",
      "15240/15240 - 2s - loss: 0.2518 - accuracy: 0.9006 - val_loss: 0.1965 - val_accuracy: 0.9181\n",
      "Epoch 35/300\n",
      "15240/15240 - 2s - loss: 0.2496 - accuracy: 0.9013 - val_loss: 0.1951 - val_accuracy: 0.9203\n",
      "Epoch 36/300\n",
      "15240/15240 - 2s - loss: 0.2488 - accuracy: 0.9039 - val_loss: 0.2024 - val_accuracy: 0.9183\n",
      "Epoch 37/300\n",
      "15240/15240 - 2s - loss: 0.2421 - accuracy: 0.9058 - val_loss: 0.2064 - val_accuracy: 0.9181\n",
      "Epoch 38/300\n",
      "15240/15240 - 2s - loss: 0.2361 - accuracy: 0.9081 - val_loss: 0.1990 - val_accuracy: 0.9201\n",
      "Epoch 39/300\n",
      "15240/15240 - 2s - loss: 0.2389 - accuracy: 0.9054 - val_loss: 0.1957 - val_accuracy: 0.9238\n",
      "Epoch 40/300\n",
      "15240/15240 - 2s - loss: 0.2307 - accuracy: 0.9091 - val_loss: 0.1954 - val_accuracy: 0.9236\n",
      "Epoch 00040: early stopping\n"
     ]
    }
   ],
   "source": [
    "# train the model\n",
    "history = model.fit(\n",
    "    x=gam_train_undersampled, \n",
    "    y=y_train_categorical_undersampled, \n",
    "    epochs=300, \n",
    "    batch_size=64,\n",
    "    validation_split=0.25, \n",
    "    verbose=2,\n",
    "    callbacks=[EarlyStopping(monitor='val_loss', mode='min', verbose=1, patience=5)]\n",
    ")"
   ]
  },
  {
   "cell_type": "code",
   "execution_count": 16,
   "metadata": {
    "ExecuteTime": {
     "end_time": "2021-02-20T01:08:44.346296Z",
     "start_time": "2021-02-20T01:08:44.155086Z"
    }
   },
   "outputs": [
    {
     "data": {
      "image/png": "[encoded data removed]",
      "text/plain": [
       "<Figure size 432x288 with 1 Axes>"
      ]
     },
     "metadata": {
      "needs_background": "light"
     },
     "output_type": "display_data"
    }
   ],
   "source": [
    "# review the model convergence - 'loss'\n",
    "metric1 = 'loss'\n",
    "plt.figure()\n",
    "plt.plot(history.history[metric1])\n",
    "plt.plot(history.history['val_' + metric1])\n",
    "plt.title('model ' + metric1)\n",
    "plt.ylabel(metric1, fontsize='large')\n",
    "plt.xlabel('epoch', fontsize='large')\n",
    "plt.legend(['train', 'validate'], loc='best')\n",
    "plt.show()\n",
    "plt.close()"
   ]
  },
  {
   "cell_type": "code",
   "execution_count": 17,
   "metadata": {
    "ExecuteTime": {
     "end_time": "2021-02-20T01:08:44.568224Z",
     "start_time": "2021-02-20T01:08:44.348368Z"
    }
   },
   "outputs": [
    {
     "data": {
      "image/png": "[encoded data removed]",
      "text/plain": [
       "<Figure size 432x288 with 1 Axes>"
      ]
     },
     "metadata": {
      "needs_background": "light"
     },
     "output_type": "display_data"
    }
   ],
   "source": [
    "# review the model convergence - 'accuracy'\n",
    "metric2 = 'accuracy'\n",
    "plt.figure()\n",
    "plt.plot(history.history[metric2])\n",
    "plt.plot(history.history['val_' + metric2])\n",
    "plt.title('model ' + metric2)\n",
    "plt.ylabel(metric2, fontsize='large')\n",
    "plt.xlabel('epoch', fontsize='large')\n",
    "plt.legend(['train', 'validate'], loc='best')\n",
    "plt.show()\n",
    "plt.close()"
   ]
  },
  {
   "cell_type": "code",
   "execution_count": 18,
   "metadata": {
    "ExecuteTime": {
     "end_time": "2021-02-20T01:08:45.358953Z",
     "start_time": "2021-02-20T01:08:44.570278Z"
    },
    "scrolled": true
   },
   "outputs": [
    {
     "name": "stdout",
     "output_type": "stream",
     "text": [
      "Test accuracy 0.8920022\n",
      "Test loss 0.25241966478239686\n"
     ]
    }
   ],
   "source": [
    "# evaluate the trained model with the test data\n",
    "test_loss, test_acc = model.evaluate(gam_test_undersampled, y_test_categorical_undersampled, verbose=0)\n",
    "print(\"Test accuracy\", test_acc)\n",
    "print(\"Test loss\", test_loss)"
   ]
  },
  {
   "cell_type": "code",
   "execution_count": 19,
   "metadata": {
    "ExecuteTime": {
     "end_time": "2021-02-20T01:08:46.275520Z",
     "start_time": "2021-02-20T01:08:45.360860Z"
    }
   },
   "outputs": [
    {
     "name": "stdout",
     "output_type": "stream",
     "text": [
      "              precision    recall  f1-score   support\n",
      "\n",
      "    negative       0.83      0.95      0.89      2323\n",
      "     neutral       0.97      0.85      0.91      7871\n",
      "    positive       0.76      0.97      0.85      2297\n",
      "\n",
      "    accuracy                           0.89     12491\n",
      "   macro avg       0.85      0.92      0.88     12491\n",
      "weighted avg       0.91      0.89      0.89     12491\n",
      "\n"
     ]
    }
   ],
   "source": [
    "# review the classification report\n",
    "y_pred = model.predict(gam_test_undersampled).argmax(axis=1)\n",
    "y_true = y_test_categorical_undersampled.argmax(axis=1)\n",
    "print(classification_report(y_true, y_pred, target_names=label_encoder.classes_)) "
   ]
  },
  {
   "cell_type": "code",
   "execution_count": 20,
   "metadata": {
    "ExecuteTime": {
     "end_time": "2021-02-20T01:08:46.426354Z",
     "start_time": "2021-02-20T01:08:46.277233Z"
    }
   },
   "outputs": [
    {
     "data": {
      "image/png": "[encoded data removed]",
      "text/plain": [
       "<Figure size 432x288 with 2 Axes>"
      ]
     },
     "metadata": {
      "needs_background": "light"
     },
     "output_type": "display_data"
    }
   ],
   "source": [
    "# review confusion matrix\n",
    "cm = confusion_matrix(y_true, y_pred)\n",
    "disp = ConfusionMatrixDisplay(confusion_matrix=cm, display_labels=label_encoder.classes_)\n",
    "disp.plot(cmap='Blues');"
   ]
  },
  {
   "cell_type": "code",
   "execution_count": 21,
   "metadata": {
    "ExecuteTime": {
     "end_time": "2021-02-20T01:08:46.462935Z",
     "start_time": "2021-02-20T01:08:46.428425Z"
    }
   },
   "outputs": [],
   "source": [
    "# save the model\n",
    "model.save('./analysis/eurusd_hour_real_model.h5')"
   ]
  }
 ],
 "metadata": {
  "hide_input": false,
  "kernelspec": {
   "display_name": "Python 3",
   "language": "python",
   "name": "python3"
  },
  "language_info": {
   "codemirror_mode": {
    "name": "ipython",
    "version": 3
   },
   "file_extension": ".py",
   "mimetype": "text/x-python",
   "name": "python",
   "nbconvert_exporter": "python",
   "pygments_lexer": "ipython3",
   "version": "3.7.7"
  }
 },
 "nbformat": 4,
 "nbformat_minor": 4
}
