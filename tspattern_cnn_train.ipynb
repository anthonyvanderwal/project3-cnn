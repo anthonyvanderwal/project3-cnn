{
 "cells": [
  {
   "cell_type": "code",
   "execution_count": 1,
   "metadata": {
    "ExecuteTime": {
     "end_time": "2021-02-20T06:53:44.624885Z",
     "start_time": "2021-02-20T06:53:41.651904Z"
    }
   },
   "outputs": [],
   "source": [
    "# dependencies\n",
    "import pandas as pd\n",
    "import numpy as np\n",
    "import matplotlib.pyplot as plt\n",
    "import plotly.graph_objs as go\n",
    "import tensorflow as tf\n",
    "from tensorflow.keras.callbacks import EarlyStopping\n",
    "from tensorflow.keras.models import Sequential\n",
    "from tensorflow.keras.layers import Input, Dense, Dropout, Flatten, Conv2D, MaxPooling2D\n",
    "from tensorflow.keras.optimizers import Adam\n",
    "from tensorflow.keras.utils import to_categorical\n",
    "from sklearn.preprocessing import LabelEncoder\n",
    "from sklearn.metrics import confusion_matrix, classification_report, ConfusionMatrixDisplay\n",
    "from tqdm import tqdm, trange"
   ]
  },
  {
   "cell_type": "code",
   "execution_count": 2,
   "metadata": {
    "ExecuteTime": {
     "end_time": "2021-02-20T06:53:44.630464Z",
     "start_time": "2021-02-20T06:53:44.627681Z"
    }
   },
   "outputs": [],
   "source": [
    "# # seed value for tensorflow\n",
    "tf.random.set_seed(1)"
   ]
  },
  {
   "cell_type": "code",
   "execution_count": 3,
   "metadata": {
    "ExecuteTime": {
     "end_time": "2021-02-20T06:53:44.747989Z",
     "start_time": "2021-02-20T06:53:44.634305Z"
    }
   },
   "outputs": [
    {
     "data": {
      "text/html": [
       "<div>\n",
       "<style scoped>\n",
       "    .dataframe tbody tr th:only-of-type {\n",
       "        vertical-align: middle;\n",
       "    }\n",
       "\n",
       "    .dataframe tbody tr th {\n",
       "        vertical-align: top;\n",
       "    }\n",
       "\n",
       "    .dataframe thead th {\n",
       "        text-align: right;\n",
       "    }\n",
       "</style>\n",
       "<table border=\"1\" class=\"dataframe\">\n",
       "  <thead>\n",
       "    <tr style=\"text-align: right;\">\n",
       "      <th></th>\n",
       "      <th>open</th>\n",
       "      <th>high</th>\n",
       "      <th>low</th>\n",
       "      <th>close</th>\n",
       "      <th>upper_shadow</th>\n",
       "      <th>lower_shadow</th>\n",
       "      <th>real_body</th>\n",
       "      <th>slope</th>\n",
       "      <th>indicator</th>\n",
       "    </tr>\n",
       "    <tr>\n",
       "      <th>date</th>\n",
       "      <th></th>\n",
       "      <th></th>\n",
       "      <th></th>\n",
       "      <th></th>\n",
       "      <th></th>\n",
       "      <th></th>\n",
       "      <th></th>\n",
       "      <th></th>\n",
       "      <th></th>\n",
       "    </tr>\n",
       "  </thead>\n",
       "  <tbody>\n",
       "    <tr>\n",
       "      <th>2012-03-28 02:00:00</th>\n",
       "      <td>1.33221</td>\n",
       "      <td>1.33319</td>\n",
       "      <td>1.33204</td>\n",
       "      <td>1.33304</td>\n",
       "      <td>0.00015</td>\n",
       "      <td>0.00017</td>\n",
       "      <td>0.00083</td>\n",
       "      <td>neutral</td>\n",
       "      <td>neutral</td>\n",
       "    </tr>\n",
       "    <tr>\n",
       "      <th>2012-03-28 03:00:00</th>\n",
       "      <td>1.33301</td>\n",
       "      <td>1.33304</td>\n",
       "      <td>1.33256</td>\n",
       "      <td>1.33287</td>\n",
       "      <td>-0.00003</td>\n",
       "      <td>-0.00031</td>\n",
       "      <td>-0.00014</td>\n",
       "      <td>neutral</td>\n",
       "      <td>neutral</td>\n",
       "    </tr>\n",
       "    <tr>\n",
       "      <th>2012-03-28 04:00:00</th>\n",
       "      <td>1.33290</td>\n",
       "      <td>1.33338</td>\n",
       "      <td>1.33255</td>\n",
       "      <td>1.33255</td>\n",
       "      <td>-0.00048</td>\n",
       "      <td>0.00000</td>\n",
       "      <td>-0.00035</td>\n",
       "      <td>neutral</td>\n",
       "      <td>neutral</td>\n",
       "    </tr>\n",
       "    <tr>\n",
       "      <th>2012-03-28 05:00:00</th>\n",
       "      <td>1.33257</td>\n",
       "      <td>1.33348</td>\n",
       "      <td>1.33255</td>\n",
       "      <td>1.33322</td>\n",
       "      <td>0.00026</td>\n",
       "      <td>0.00002</td>\n",
       "      <td>0.00065</td>\n",
       "      <td>neutral</td>\n",
       "      <td>neutral</td>\n",
       "    </tr>\n",
       "    <tr>\n",
       "      <th>2012-03-28 06:00:00</th>\n",
       "      <td>1.33325</td>\n",
       "      <td>1.33353</td>\n",
       "      <td>1.33154</td>\n",
       "      <td>1.33250</td>\n",
       "      <td>-0.00028</td>\n",
       "      <td>-0.00096</td>\n",
       "      <td>-0.00075</td>\n",
       "      <td>neutral</td>\n",
       "      <td>neutral</td>\n",
       "    </tr>\n",
       "    <tr>\n",
       "      <th>...</th>\n",
       "      <td>...</td>\n",
       "      <td>...</td>\n",
       "      <td>...</td>\n",
       "      <td>...</td>\n",
       "      <td>...</td>\n",
       "      <td>...</td>\n",
       "      <td>...</td>\n",
       "      <td>...</td>\n",
       "      <td>...</td>\n",
       "    </tr>\n",
       "    <tr>\n",
       "      <th>2020-04-29 18:00:00</th>\n",
       "      <td>1.08620</td>\n",
       "      <td>1.08851</td>\n",
       "      <td>1.08611</td>\n",
       "      <td>1.08713</td>\n",
       "      <td>0.00138</td>\n",
       "      <td>0.00009</td>\n",
       "      <td>0.00093</td>\n",
       "      <td>neutral</td>\n",
       "      <td>neutral</td>\n",
       "    </tr>\n",
       "    <tr>\n",
       "      <th>2020-04-29 19:00:00</th>\n",
       "      <td>1.08711</td>\n",
       "      <td>1.08823</td>\n",
       "      <td>1.08659</td>\n",
       "      <td>1.08748</td>\n",
       "      <td>0.00075</td>\n",
       "      <td>0.00052</td>\n",
       "      <td>0.00037</td>\n",
       "      <td>neutral</td>\n",
       "      <td>neutral</td>\n",
       "    </tr>\n",
       "    <tr>\n",
       "      <th>2020-04-29 20:00:00</th>\n",
       "      <td>1.08747</td>\n",
       "      <td>1.08788</td>\n",
       "      <td>1.08691</td>\n",
       "      <td>1.08708</td>\n",
       "      <td>-0.00041</td>\n",
       "      <td>-0.00017</td>\n",
       "      <td>-0.00039</td>\n",
       "      <td>positive</td>\n",
       "      <td>neutral</td>\n",
       "    </tr>\n",
       "    <tr>\n",
       "      <th>2020-04-29 21:00:00</th>\n",
       "      <td>1.08708</td>\n",
       "      <td>1.08740</td>\n",
       "      <td>1.08699</td>\n",
       "      <td>1.08714</td>\n",
       "      <td>0.00026</td>\n",
       "      <td>0.00009</td>\n",
       "      <td>0.00006</td>\n",
       "      <td>positive</td>\n",
       "      <td>neutral</td>\n",
       "    </tr>\n",
       "    <tr>\n",
       "      <th>2020-04-29 22:00:00</th>\n",
       "      <td>1.08728</td>\n",
       "      <td>1.08760</td>\n",
       "      <td>1.08727</td>\n",
       "      <td>1.08743</td>\n",
       "      <td>0.00017</td>\n",
       "      <td>0.00001</td>\n",
       "      <td>0.00015</td>\n",
       "      <td>neutral</td>\n",
       "      <td>neutral</td>\n",
       "    </tr>\n",
       "  </tbody>\n",
       "</table>\n",
       "<p>50000 rows × 9 columns</p>\n",
       "</div>"
      ],
      "text/plain": [
       "                        open     high      low    close  upper_shadow  \\\n",
       "date                                                                    \n",
       "2012-03-28 02:00:00  1.33221  1.33319  1.33204  1.33304       0.00015   \n",
       "2012-03-28 03:00:00  1.33301  1.33304  1.33256  1.33287      -0.00003   \n",
       "2012-03-28 04:00:00  1.33290  1.33338  1.33255  1.33255      -0.00048   \n",
       "2012-03-28 05:00:00  1.33257  1.33348  1.33255  1.33322       0.00026   \n",
       "2012-03-28 06:00:00  1.33325  1.33353  1.33154  1.33250      -0.00028   \n",
       "...                      ...      ...      ...      ...           ...   \n",
       "2020-04-29 18:00:00  1.08620  1.08851  1.08611  1.08713       0.00138   \n",
       "2020-04-29 19:00:00  1.08711  1.08823  1.08659  1.08748       0.00075   \n",
       "2020-04-29 20:00:00  1.08747  1.08788  1.08691  1.08708      -0.00041   \n",
       "2020-04-29 21:00:00  1.08708  1.08740  1.08699  1.08714       0.00026   \n",
       "2020-04-29 22:00:00  1.08728  1.08760  1.08727  1.08743       0.00017   \n",
       "\n",
       "                     lower_shadow  real_body     slope indicator  \n",
       "date                                                              \n",
       "2012-03-28 02:00:00       0.00017    0.00083   neutral   neutral  \n",
       "2012-03-28 03:00:00      -0.00031   -0.00014   neutral   neutral  \n",
       "2012-03-28 04:00:00       0.00000   -0.00035   neutral   neutral  \n",
       "2012-03-28 05:00:00       0.00002    0.00065   neutral   neutral  \n",
       "2012-03-28 06:00:00      -0.00096   -0.00075   neutral   neutral  \n",
       "...                           ...        ...       ...       ...  \n",
       "2020-04-29 18:00:00       0.00009    0.00093   neutral   neutral  \n",
       "2020-04-29 19:00:00       0.00052    0.00037   neutral   neutral  \n",
       "2020-04-29 20:00:00      -0.00017   -0.00039  positive   neutral  \n",
       "2020-04-29 21:00:00       0.00009    0.00006  positive   neutral  \n",
       "2020-04-29 22:00:00       0.00001    0.00015   neutral   neutral  \n",
       "\n",
       "[50000 rows x 9 columns]"
      ]
     },
     "execution_count": 3,
     "metadata": {},
     "output_type": "execute_result"
    }
   ],
   "source": [
    "# read data from labelling notebook\n",
    "#  'tspattern_data_label.ipynb'\n",
    "df = pd.read_csv('./resources/eurusd_hour_real_labelled.csv', index_col=0,parse_dates=True)\n",
    "df"
   ]
  },
  {
   "cell_type": "code",
   "execution_count": 4,
   "metadata": {
    "ExecuteTime": {
     "end_time": "2021-02-20T06:53:44.755485Z",
     "start_time": "2021-02-20T06:53:44.750264Z"
    }
   },
   "outputs": [
    {
     "name": "stdout",
     "output_type": "stream",
     "text": [
      "(50000, 7) (50000,)\n"
     ]
    }
   ],
   "source": [
    "# create the feature (X) and category (y) data sets\n",
    "X = df.drop(['slope', 'indicator'], axis=1)\n",
    "y = df['slope']\n",
    "print(X.shape, y.shape)"
   ]
  },
  {
   "cell_type": "code",
   "execution_count": 5,
   "metadata": {
    "ExecuteTime": {
     "end_time": "2021-02-20T06:53:44.761995Z",
     "start_time": "2021-02-20T06:53:44.757385Z"
    }
   },
   "outputs": [
    {
     "name": "stdout",
     "output_type": "stream",
     "text": [
      "| X_train: (37500, 7) | y_train: (37500,) |\n",
      "| X_test:  (12500, 7) | y_test:  (12500,) |\n"
     ]
    }
   ],
   "source": [
    "# split 75/25 (train/test)\n",
    "#  for timeseries keep data in continuous form (not random)\n",
    "\n",
    "# calculate the number of train data points\n",
    "train_pct_index = int(0.75 * len(X))\n",
    "\n",
    "# slice the data frames\n",
    "X_train, X_test = X[:train_pct_index], X[train_pct_index:]\n",
    "y_train, y_test = y[:train_pct_index], y[train_pct_index:]\n",
    "\n",
    "# summarise the results\n",
    "print(f'| X_train: {X_train.shape} | y_train: {y_train.shape} |\\n'\n",
    "      f'| X_test:  {X_test.shape} | y_test:  {y_test.shape} |')"
   ]
  },
  {
   "cell_type": "code",
   "execution_count": 6,
   "metadata": {
    "ExecuteTime": {
     "end_time": "2021-02-20T06:53:44.775900Z",
     "start_time": "2021-02-20T06:53:44.763454Z"
    }
   },
   "outputs": [
    {
     "name": "stdout",
     "output_type": "stream",
     "text": [
      "| y_train: (37500, 3) | y_test: (12500, 3) |\n",
      "| categories: ['negative', 'neutral', 'positive'] |\n"
     ]
    }
   ],
   "source": [
    "# target category encoding\n",
    "label_encoder = LabelEncoder()\n",
    "label_encoder.fit(y_train)\n",
    "\n",
    "# encoding\n",
    "y_train_encoded = label_encoder.transform(y_train)\n",
    "y_test_encoded = label_encoder.transform(y_test)\n",
    "\n",
    "# categories\n",
    "y_train_categorical = to_categorical(y_train_encoded)\n",
    "y_test_categorical = to_categorical(y_test_encoded)\n",
    "\n",
    "# summarise the results\n",
    "print(f'| y_train: {y_train_categorical.shape} | y_test: {y_test_categorical.shape} |')\n",
    "\n",
    "# confirm the categories\n",
    "print(f'| categories: {list(label_encoder.classes_)} |')"
   ]
  },
  {
   "cell_type": "code",
   "execution_count": 7,
   "metadata": {
    "ExecuteTime": {
     "end_time": "2021-02-20T06:54:07.781632Z",
     "start_time": "2021-02-20T06:53:44.778667Z"
    }
   },
   "outputs": [
    {
     "name": "stderr",
     "output_type": "stream",
     "text": [
      "Generating...: 100%|##########| 37491/37491 [00:05<00:00, 6501.13it/s]\n",
      "Generating...: 100%|##########| 37491/37491 [00:05<00:00, 6555.06it/s]\n",
      "Generating...: 100%|##########| 37491/37491 [00:05<00:00, 6600.21it/s]\n",
      "Generating...: 100%|##########| 12491/12491 [00:01<00:00, 6696.10it/s]\n",
      "Generating...: 100%|##########| 12491/12491 [00:01<00:00, 6573.28it/s]\n",
      "Generating...: 100%|##########| 12491/12491 [00:01<00:00, 6586.52it/s]\n"
     ]
    },
    {
     "name": "stdout",
     "output_type": "stream",
     "text": [
      "| gam_train: (37491, 10, 10, 3) | gam_test: (12491, 10, 10, 3) |\n"
     ]
    }
   ],
   "source": [
    "# gramian angular matrices (gam):\n",
    "#  https://jfin-swufe.springeropen.com/articles/10.1186/s40854-020-00187-0\n",
    "#  https://www.aaai.org/ocs/index.php/WS/AAAIW15/paper/viewFile/10179/10251 \n",
    "#  https://github.com/pecu/Series2GAF/blob/master/cnn_example/series2gaf.py\n",
    "\n",
    "# datasets and features\n",
    "dataset_list = ['train', 'test']\n",
    "feature_list = ['open', 'close', 'real_body']\n",
    "\n",
    "# image size => window_size(rows) x window_size(cols)\n",
    "window_size = 10\n",
    "\n",
    "# loop through each dataset\n",
    "for this_dataset in dataset_list:\n",
    "    \n",
    "    # intialise the gam field for the dataset\n",
    "    gramian_field = []\n",
    "    \n",
    "    # number of data points\n",
    "    if this_dataset == 'train':\n",
    "        n = len(X_train['close'])\n",
    "    if this_dataset == 'test':\n",
    "        n = len(X_test['close'])\n",
    "    \n",
    "    # loop through each feature\n",
    "    for this_feature in feature_list:\n",
    "\n",
    "        # initialise the gam field for the feture\n",
    "        gam_feature_set = []\n",
    "\n",
    "        # loop through the data\n",
    "        for i_data in trange(window_size, n+1, desc=\"Generating...\", ascii=True):\n",
    "\n",
    "            # select the data points to convert frm timeseries to gam (image)\n",
    "            if this_dataset == 'train':\n",
    "                full_window_data =  list(X_train[this_feature][i_data-window_size : i_data])\n",
    "            if this_dataset == 'test':\n",
    "                full_window_data =  list(X_test[this_feature][i_data-window_size : i_data])\n",
    "\n",
    "            # scale the data\n",
    "            rescaled_ts = np.zeros((window_size, window_size), float)\n",
    "            min_ts = np.min(full_window_data)\n",
    "            max_ts = np.max(full_window_data)\n",
    "            diff = max_ts - min_ts\n",
    "            if diff != 0:\n",
    "                rescaled_ts = (full_window_data - min_ts) / diff\n",
    "\n",
    "            # initialise the image\n",
    "            this_gam = np.zeros((window_size, window_size), float)\n",
    "\n",
    "            # calculate a component of the gam\n",
    "            sin_ts = np.sqrt(np.clip(1 - rescaled_ts**2, 0, 1))\n",
    "\n",
    "            # calculate the gam - summation method\n",
    "            this_gam = np.outer(rescaled_ts, rescaled_ts) - np.outer(sin_ts, sin_ts)\n",
    "\n",
    "            # add the gam to the feature set\n",
    "            gam_feature_set.append(this_gam)\n",
    "\n",
    "            # clear the gam ready for next\n",
    "            del this_gam\n",
    "\n",
    "        # ass the gam field of the feature set to the dataset\n",
    "        gramian_field.append(gam_feature_set)\n",
    "\n",
    "        # clear the gam field of the feature set\n",
    "        del gam_feature_set\n",
    "  \n",
    "    # finalise the gam field for each dataset\n",
    "    if this_dataset == 'train':\n",
    "        gam_train = np.array(gramian_field)\n",
    "        gam_train = np.moveaxis(gam_train, 0, 3)\n",
    "    if this_dataset == 'test':\n",
    "        gam_test = np.array(gramian_field)\n",
    "        gam_test = np.moveaxis(gam_test, 0, 3)\n",
    "    \n",
    "# summarise the results\n",
    "print(f'| gam_train: {gam_train.shape} | gam_test: {gam_test.shape} |')"
   ]
  },
  {
   "cell_type": "code",
   "execution_count": 8,
   "metadata": {
    "ExecuteTime": {
     "end_time": "2021-02-20T06:54:07.805517Z",
     "start_time": "2021-02-20T06:54:07.786559Z"
    }
   },
   "outputs": [
    {
     "data": {
      "text/plain": [
       "array([['negative', 9868],\n",
       "       ['neutral', 17786],\n",
       "       ['positive', 9846]], dtype=object)"
      ]
     },
     "execution_count": 8,
     "metadata": {},
     "output_type": "execute_result"
    }
   ],
   "source": [
    "y_train_labels = label_encoder.inverse_transform(y_train_encoded)\n",
    "(unique_train, counts_train) = np.unique(y_train_labels, return_counts=True)\n",
    "np.asarray((unique_train, counts_train)).T"
   ]
  },
  {
   "cell_type": "code",
   "execution_count": 9,
   "metadata": {
    "ExecuteTime": {
     "end_time": "2021-02-20T06:54:07.817261Z",
     "start_time": "2021-02-20T06:54:07.808091Z"
    }
   },
   "outputs": [
    {
     "data": {
      "text/plain": [
       "array([['negative', 3320],\n",
       "       ['neutral', 5872],\n",
       "       ['positive', 3308]], dtype=object)"
      ]
     },
     "execution_count": 9,
     "metadata": {},
     "output_type": "execute_result"
    }
   ],
   "source": [
    "y_test_labels = label_encoder.inverse_transform(y_test_encoded)\n",
    "(unique_test, counts_test) = np.unique(y_test_labels, return_counts=True)\n",
    "np.asarray((unique_test, counts_test)).T"
   ]
  },
  {
   "cell_type": "code",
   "execution_count": 10,
   "metadata": {
    "ExecuteTime": {
     "end_time": "2021-02-20T06:54:07.867826Z",
     "start_time": "2021-02-20T06:54:07.819457Z"
    }
   },
   "outputs": [],
   "source": [
    "# balancing the training dataset by\n",
    "#  randomised under-sampling gam fields of the majority class (neutral)\n",
    "#  for categorical clasification where 'neutral' is majority\n",
    "\n",
    "# random seed for the cell\n",
    "np.random.seed(1)\n",
    "\n",
    "# indices of gams that correspond to 'neutral' category\n",
    "minority_indices = np.where(y_train_labels[window_size-1:] != 'neutral')\n",
    "majority_indices = np.where(y_train_labels[window_size-1:] == 'neutral')\n",
    "\n",
    "# choose randomly which 'neutral' categofry gams to keep\n",
    "undersample_indexes = np.random.choice(majority_indices[0], size=np.max(np.sort(counts_train)[:-1]), replace=False)\n",
    "\n",
    "# indices of gams remaining \n",
    "keep_indices = np.sort(np.concatenate((undersample_indexes, minority_indices[0])))\n",
    "\n",
    "# reconstruct the data sets\n",
    "gam_train_undersampled = gam_train[keep_indices]\n",
    "gam_test_undersampled = gam_test\n",
    "y_train_categorical_undersampled = y_train_categorical[window_size-1:][keep_indices]\n",
    "y_train_encoded_undersampled = y_train_encoded[window_size-1:][keep_indices]\n",
    "y_test_categorical_undersampled = y_test_categorical[window_size-1:]\n",
    "y_test_encoded_undersampled = y_test_encoded[window_size-1:]\n",
    "\n",
    "\n",
    "# # for binary classification - classification performed on 'positive' & 'negative'\n",
    "# #  find indices where class is 'neutral' and remove from data and categories\n",
    "# keep_indices = np.where(y_train_labels[window_size:] != 'neutral')\n",
    "# keep_indices = np.where(y_test_labels[window_size:] != 'neutral')\n",
    "# gam_train_undersampled = gam_train[keep_indices]\n",
    "# gam_test_undersampled = gam_test[keep_indices]\n",
    "# y_train_categorical_undersampled = y_train_categorical[window_size:][keep_indices]\n",
    "# y_test_categorical_undersampled = y_test_categorical[window_size:][keep_indices]\n",
    "# y_train_encoded_undersampled = y_train_encoded[window_size:][keep_indices]\n",
    "# y_test_encoded_undersampled = y_test_encoded[window_size:][keep_indices]"
   ]
  },
  {
   "cell_type": "code",
   "execution_count": 11,
   "metadata": {
    "ExecuteTime": {
     "end_time": "2021-02-20T06:54:07.885193Z",
     "start_time": "2021-02-20T06:54:07.869944Z"
    }
   },
   "outputs": [
    {
     "data": {
      "text/plain": [
       "array([['negative', 9868],\n",
       "       ['neutral', 9868],\n",
       "       ['positive', 9844]], dtype=object)"
      ]
     },
     "execution_count": 11,
     "metadata": {},
     "output_type": "execute_result"
    }
   ],
   "source": [
    "# confirm the train dataset is 'balanced'\n",
    "y_train_labels = label_encoder.inverse_transform(y_train_encoded_undersampled)\n",
    "(unique, counts) = np.unique(y_train_labels, return_counts=True)\n",
    "np.asarray((unique, counts)).T"
   ]
  },
  {
   "cell_type": "code",
   "execution_count": 12,
   "metadata": {
    "ExecuteTime": {
     "end_time": "2021-02-20T06:54:07.896056Z",
     "start_time": "2021-02-20T06:54:07.887258Z"
    }
   },
   "outputs": [
    {
     "data": {
      "text/plain": [
       "array([['negative', 3319],\n",
       "       ['neutral', 5864],\n",
       "       ['positive', 3308]], dtype=object)"
      ]
     },
     "execution_count": 12,
     "metadata": {},
     "output_type": "execute_result"
    }
   ],
   "source": [
    "# review the test dataset category counts\n",
    "y_test_labels = label_encoder.inverse_transform(y_test_encoded_undersampled)\n",
    "(unique, counts) = np.unique(y_test_labels, return_counts=True)\n",
    "np.asarray((unique, counts)).T"
   ]
  },
  {
   "cell_type": "code",
   "execution_count": 13,
   "metadata": {
    "ExecuteTime": {
     "end_time": "2021-02-20T06:54:08.064647Z",
     "start_time": "2021-02-20T06:54:07.897811Z"
    }
   },
   "outputs": [
    {
     "name": "stdout",
     "output_type": "stream",
     "text": [
      "Model: \"sequential\"\n",
      "_________________________________________________________________\n",
      "Layer (type)                 Output Shape              Param #   \n",
      "=================================================================\n",
      "conv2d (Conv2D)              (None, 8, 8, 16)          448       \n",
      "_________________________________________________________________\n",
      "max_pooling2d (MaxPooling2D) (None, 4, 4, 16)          0         \n",
      "_________________________________________________________________\n",
      "conv2d_1 (Conv2D)            (None, 2, 2, 32)          4640      \n",
      "_________________________________________________________________\n",
      "max_pooling2d_1 (MaxPooling2 (None, 1, 1, 32)          0         \n",
      "_________________________________________________________________\n",
      "dropout (Dropout)            (None, 1, 1, 32)          0         \n",
      "_________________________________________________________________\n",
      "flatten (Flatten)            (None, 32)                0         \n",
      "_________________________________________________________________\n",
      "dense (Dense)                (None, 64)                2112      \n",
      "_________________________________________________________________\n",
      "dropout_1 (Dropout)          (None, 64)                0         \n",
      "_________________________________________________________________\n",
      "dense_1 (Dense)              (None, 32)                2080      \n",
      "_________________________________________________________________\n",
      "dense_2 (Dense)              (None, 3)                 99        \n",
      "=================================================================\n",
      "Total params: 9,379\n",
      "Trainable params: 9,379\n",
      "Non-trainable params: 0\n",
      "_________________________________________________________________\n"
     ]
    }
   ],
   "source": [
    "# model architecture\n",
    "\n",
    "# model type\n",
    "model = Sequential()\n",
    "\n",
    "# image shape and numbe rof channels\n",
    "model.add(Input(shape=(window_size, window_size, len(feature_list))))  # gam images\n",
    "\n",
    "# first convolutional layer\n",
    "model.add(Conv2D(16, 3, activation='relu', data_format='channels_last'))\n",
    "model.add(MaxPooling2D(pool_size=(2, 2)))\n",
    "\n",
    "# second convolutional layer\n",
    "model.add(Conv2D(32, 3, activation='relu', data_format='channels_last'))\n",
    "model.add(MaxPooling2D(pool_size=(2, 2)))\n",
    "\n",
    "# fully connected layers\n",
    "model.add(Dropout(0.25))\n",
    "model.add(Flatten())\n",
    "model.add(Dense(64, activation='relu'))\n",
    "model.add(Dropout(0.5))\n",
    "model.add(Dense(32, activation='relu'))\n",
    "\n",
    "# output layer\n",
    "model.add(Dense(len(unique_train), activation='softmax'))  # classification layer.\n",
    "model.summary()\n"
   ]
  },
  {
   "cell_type": "code",
   "execution_count": 14,
   "metadata": {
    "ExecuteTime": {
     "end_time": "2021-02-20T06:54:08.071137Z",
     "start_time": "2021-02-20T06:54:08.067189Z"
    }
   },
   "outputs": [
    {
     "data": {
      "text/plain": [
       "3"
      ]
     },
     "execution_count": 14,
     "metadata": {},
     "output_type": "execute_result"
    }
   ],
   "source": [
    "len(feature_list)"
   ]
  },
  {
   "cell_type": "code",
   "execution_count": 15,
   "metadata": {
    "ExecuteTime": {
     "end_time": "2021-02-20T06:54:08.116949Z",
     "start_time": "2021-02-20T06:54:08.072903Z"
    }
   },
   "outputs": [],
   "source": [
    "# compile the model\n",
    "opt = Adam(learning_rate=0.0001, beta_1=0.9, beta_2=0.999)\n",
    "\n",
    "# categorical classification\n",
    "model.compile(loss='categorical_crossentropy', optimizer=opt, metrics=['accuracy'])\n",
    "\n",
    "# binary classification\n",
    "# model.compile(loss='binary_crossentropy', optimizer=opt, metrics=['accuracy'])"
   ]
  },
  {
   "cell_type": "code",
   "execution_count": 16,
   "metadata": {
    "ExecuteTime": {
     "end_time": "2021-02-20T06:56:24.496457Z",
     "start_time": "2021-02-20T06:54:08.118818Z"
    },
    "scrolled": false
   },
   "outputs": [
    {
     "name": "stdout",
     "output_type": "stream",
     "text": [
      "Train on 22185 samples, validate on 7395 samples\n",
      "Epoch 1/300\n",
      "22185/22185 - 3s - loss: 0.9470 - accuracy: 0.5320 - val_loss: 0.6929 - val_accuracy: 0.6796\n",
      "Epoch 2/300\n",
      "22185/22185 - 2s - loss: 0.6608 - accuracy: 0.7087 - val_loss: 0.4950 - val_accuracy: 0.7800\n",
      "Epoch 3/300\n",
      "22185/22185 - 2s - loss: 0.5279 - accuracy: 0.7753 - val_loss: 0.3895 - val_accuracy: 0.8364\n",
      "Epoch 4/300\n",
      "22185/22185 - 2s - loss: 0.4590 - accuracy: 0.8081 - val_loss: 0.3443 - val_accuracy: 0.8513\n",
      "Epoch 5/300\n",
      "22185/22185 - 2s - loss: 0.4113 - accuracy: 0.8312 - val_loss: 0.3017 - val_accuracy: 0.8702\n",
      "Epoch 6/300\n",
      "22185/22185 - 2s - loss: 0.3805 - accuracy: 0.8456 - val_loss: 0.2823 - val_accuracy: 0.8799\n",
      "Epoch 7/300\n",
      "22185/22185 - 2s - loss: 0.3564 - accuracy: 0.8541 - val_loss: 0.2611 - val_accuracy: 0.8905\n",
      "Epoch 8/300\n",
      "22185/22185 - 2s - loss: 0.3349 - accuracy: 0.8662 - val_loss: 0.2445 - val_accuracy: 0.8979\n",
      "Epoch 9/300\n",
      "22185/22185 - 2s - loss: 0.3199 - accuracy: 0.8697 - val_loss: 0.2414 - val_accuracy: 0.8984\n",
      "Epoch 10/300\n",
      "22185/22185 - 2s - loss: 0.3140 - accuracy: 0.8751 - val_loss: 0.2294 - val_accuracy: 0.9064\n",
      "Epoch 11/300\n",
      "22185/22185 - 2s - loss: 0.3000 - accuracy: 0.8798 - val_loss: 0.2175 - val_accuracy: 0.9114\n",
      "Epoch 12/300\n",
      "22185/22185 - 2s - loss: 0.2871 - accuracy: 0.8868 - val_loss: 0.2094 - val_accuracy: 0.9133\n",
      "Epoch 13/300\n",
      "22185/22185 - 2s - loss: 0.2770 - accuracy: 0.8878 - val_loss: 0.2068 - val_accuracy: 0.9126\n",
      "Epoch 14/300\n",
      "22185/22185 - 2s - loss: 0.2737 - accuracy: 0.8913 - val_loss: 0.2011 - val_accuracy: 0.9178\n",
      "Epoch 15/300\n",
      "22185/22185 - 2s - loss: 0.2667 - accuracy: 0.8963 - val_loss: 0.1948 - val_accuracy: 0.9186\n",
      "Epoch 16/300\n",
      "22185/22185 - 2s - loss: 0.2630 - accuracy: 0.8959 - val_loss: 0.1934 - val_accuracy: 0.9210\n",
      "Epoch 17/300\n",
      "22185/22185 - 2s - loss: 0.2582 - accuracy: 0.8995 - val_loss: 0.1872 - val_accuracy: 0.9228\n",
      "Epoch 18/300\n",
      "22185/22185 - 2s - loss: 0.2509 - accuracy: 0.9019 - val_loss: 0.1851 - val_accuracy: 0.9221\n",
      "Epoch 19/300\n",
      "22185/22185 - 2s - loss: 0.2464 - accuracy: 0.9050 - val_loss: 0.1825 - val_accuracy: 0.9262\n",
      "Epoch 20/300\n",
      "22185/22185 - 2s - loss: 0.2447 - accuracy: 0.9048 - val_loss: 0.1793 - val_accuracy: 0.9259\n",
      "Epoch 21/300\n",
      "22185/22185 - 2s - loss: 0.2360 - accuracy: 0.9090 - val_loss: 0.1791 - val_accuracy: 0.9244\n",
      "Epoch 22/300\n",
      "22185/22185 - 2s - loss: 0.2353 - accuracy: 0.9077 - val_loss: 0.1735 - val_accuracy: 0.9295\n",
      "Epoch 23/300\n",
      "22185/22185 - 2s - loss: 0.2316 - accuracy: 0.9077 - val_loss: 0.1725 - val_accuracy: 0.9291\n",
      "Epoch 24/300\n",
      "22185/22185 - 2s - loss: 0.2283 - accuracy: 0.9100 - val_loss: 0.1723 - val_accuracy: 0.9279\n",
      "Epoch 25/300\n",
      "22185/22185 - 2s - loss: 0.2207 - accuracy: 0.9133 - val_loss: 0.1683 - val_accuracy: 0.9294\n",
      "Epoch 26/300\n",
      "22185/22185 - 2s - loss: 0.2209 - accuracy: 0.9145 - val_loss: 0.1667 - val_accuracy: 0.9305\n",
      "Epoch 27/300\n",
      "22185/22185 - 2s - loss: 0.2152 - accuracy: 0.9133 - val_loss: 0.1619 - val_accuracy: 0.9331\n",
      "Epoch 28/300\n",
      "22185/22185 - 2s - loss: 0.2220 - accuracy: 0.9105 - val_loss: 0.1659 - val_accuracy: 0.9297\n",
      "Epoch 29/300\n",
      "22185/22185 - 2s - loss: 0.2144 - accuracy: 0.9153 - val_loss: 0.1632 - val_accuracy: 0.9327\n",
      "Epoch 30/300\n",
      "22185/22185 - 2s - loss: 0.2093 - accuracy: 0.9187 - val_loss: 0.1562 - val_accuracy: 0.9366\n",
      "Epoch 31/300\n",
      "22185/22185 - 2s - loss: 0.2081 - accuracy: 0.9196 - val_loss: 0.1601 - val_accuracy: 0.9331\n",
      "Epoch 32/300\n",
      "22185/22185 - 2s - loss: 0.2035 - accuracy: 0.9214 - val_loss: 0.1523 - val_accuracy: 0.9385\n",
      "Epoch 33/300\n",
      "22185/22185 - 2s - loss: 0.2029 - accuracy: 0.9217 - val_loss: 0.1540 - val_accuracy: 0.9381\n",
      "Epoch 34/300\n",
      "22185/22185 - 2s - loss: 0.2016 - accuracy: 0.9227 - val_loss: 0.1516 - val_accuracy: 0.9386\n",
      "Epoch 35/300\n",
      "22185/22185 - 2s - loss: 0.1994 - accuracy: 0.9208 - val_loss: 0.1493 - val_accuracy: 0.9385\n",
      "Epoch 36/300\n",
      "22185/22185 - 2s - loss: 0.1991 - accuracy: 0.9225 - val_loss: 0.1474 - val_accuracy: 0.9412\n",
      "Epoch 37/300\n",
      "22185/22185 - 2s - loss: 0.1921 - accuracy: 0.9251 - val_loss: 0.1495 - val_accuracy: 0.9375\n",
      "Epoch 38/300\n",
      "22185/22185 - 2s - loss: 0.1975 - accuracy: 0.9233 - val_loss: 0.1486 - val_accuracy: 0.9406\n",
      "Epoch 39/300\n",
      "22185/22185 - 2s - loss: 0.1918 - accuracy: 0.9261 - val_loss: 0.1455 - val_accuracy: 0.9408\n",
      "Epoch 40/300\n",
      "22185/22185 - 2s - loss: 0.1907 - accuracy: 0.9274 - val_loss: 0.1453 - val_accuracy: 0.9410\n",
      "Epoch 41/300\n",
      "22185/22185 - 2s - loss: 0.1855 - accuracy: 0.9279 - val_loss: 0.1423 - val_accuracy: 0.9431\n",
      "Epoch 42/300\n",
      "22185/22185 - 2s - loss: 0.1855 - accuracy: 0.9277 - val_loss: 0.1439 - val_accuracy: 0.9413\n",
      "Epoch 43/300\n",
      "22185/22185 - 2s - loss: 0.1822 - accuracy: 0.9308 - val_loss: 0.1415 - val_accuracy: 0.9435\n",
      "Epoch 44/300\n",
      "22185/22185 - 2s - loss: 0.1841 - accuracy: 0.9282 - val_loss: 0.1454 - val_accuracy: 0.9377\n",
      "Epoch 45/300\n",
      "22185/22185 - 2s - loss: 0.1828 - accuracy: 0.9309 - val_loss: 0.1409 - val_accuracy: 0.9437\n",
      "Epoch 46/300\n",
      "22185/22185 - 2s - loss: 0.1815 - accuracy: 0.9291 - val_loss: 0.1422 - val_accuracy: 0.9439\n",
      "Epoch 47/300\n",
      "22185/22185 - 2s - loss: 0.1783 - accuracy: 0.9304 - val_loss: 0.1403 - val_accuracy: 0.9409\n",
      "Epoch 48/300\n",
      "22185/22185 - 2s - loss: 0.1789 - accuracy: 0.9317 - val_loss: 0.1410 - val_accuracy: 0.9396\n",
      "Epoch 49/300\n",
      "22185/22185 - 2s - loss: 0.1742 - accuracy: 0.9335 - val_loss: 0.1408 - val_accuracy: 0.9427\n",
      "Epoch 50/300\n",
      "22185/22185 - 2s - loss: 0.1733 - accuracy: 0.9320 - val_loss: 0.1387 - val_accuracy: 0.9414\n",
      "Epoch 51/300\n",
      "22185/22185 - 2s - loss: 0.1748 - accuracy: 0.9313 - val_loss: 0.1382 - val_accuracy: 0.9417\n",
      "Epoch 52/300\n",
      "22185/22185 - 2s - loss: 0.1697 - accuracy: 0.9355 - val_loss: 0.1352 - val_accuracy: 0.9465\n",
      "Epoch 53/300\n",
      "22185/22185 - 2s - loss: 0.1736 - accuracy: 0.9326 - val_loss: 0.1364 - val_accuracy: 0.9444\n",
      "Epoch 54/300\n",
      "22185/22185 - 2s - loss: 0.1718 - accuracy: 0.9336 - val_loss: 0.1343 - val_accuracy: 0.9444\n",
      "Epoch 55/300\n",
      "22185/22185 - 2s - loss: 0.1664 - accuracy: 0.9350 - val_loss: 0.1447 - val_accuracy: 0.9405\n",
      "Epoch 56/300\n",
      "22185/22185 - 2s - loss: 0.1702 - accuracy: 0.9359 - val_loss: 0.1341 - val_accuracy: 0.9448\n",
      "Epoch 57/300\n",
      "22185/22185 - 2s - loss: 0.1665 - accuracy: 0.9353 - val_loss: 0.1356 - val_accuracy: 0.9458\n",
      "Epoch 58/300\n",
      "22185/22185 - 2s - loss: 0.1683 - accuracy: 0.9354 - val_loss: 0.1371 - val_accuracy: 0.9450\n",
      "Epoch 59/300\n",
      "22185/22185 - 2s - loss: 0.1675 - accuracy: 0.9354 - val_loss: 0.1311 - val_accuracy: 0.9478\n",
      "Epoch 60/300\n",
      "22185/22185 - 2s - loss: 0.1666 - accuracy: 0.9360 - val_loss: 0.1328 - val_accuracy: 0.9450\n",
      "Epoch 61/300\n",
      "22185/22185 - 2s - loss: 0.1672 - accuracy: 0.9363 - val_loss: 0.1347 - val_accuracy: 0.9435\n",
      "Epoch 62/300\n",
      "22185/22185 - 2s - loss: 0.1667 - accuracy: 0.9358 - val_loss: 0.1336 - val_accuracy: 0.9466\n",
      "Epoch 63/300\n",
      "22185/22185 - 2s - loss: 0.1627 - accuracy: 0.9376 - val_loss: 0.1454 - val_accuracy: 0.9364\n",
      "Epoch 64/300\n",
      "22185/22185 - 2s - loss: 0.1617 - accuracy: 0.9391 - val_loss: 0.1313 - val_accuracy: 0.9469\n",
      "Epoch 00064: early stopping\n"
     ]
    }
   ],
   "source": [
    "# train the model\n",
    "history = model.fit(\n",
    "    x=gam_train_undersampled, \n",
    "    y=y_train_categorical_undersampled, \n",
    "    epochs=300, \n",
    "    batch_size=64,\n",
    "    validation_split=0.25, \n",
    "    verbose=2,\n",
    "    callbacks=[EarlyStopping(monitor='val_loss', mode='min', verbose=1, patience=5)]\n",
    ")"
   ]
  },
  {
   "cell_type": "code",
   "execution_count": 17,
   "metadata": {
    "ExecuteTime": {
     "end_time": "2021-02-20T06:56:24.691158Z",
     "start_time": "2021-02-20T06:56:24.498534Z"
    }
   },
   "outputs": [
    {
     "data": {
      "image/png": "[encoded data removed]",
      "text/plain": [
       "<Figure size 576x288 with 1 Axes>"
      ]
     },
     "metadata": {
      "needs_background": "light"
     },
     "output_type": "display_data"
    }
   ],
   "source": [
    "# review the model convergence - 'loss'\n",
    "metric1 = 'loss'\n",
    "plt.figure(figsize=(8,4))\n",
    "plt.plot(history.history[metric1])\n",
    "plt.plot(history.history['val_' + metric1])\n",
    "plt.title('model ' + metric1)\n",
    "plt.ylabel(metric1, fontsize='large')\n",
    "plt.xlabel('epoch', fontsize='large')\n",
    "plt.legend(['train', 'validate'], loc='upper right')\n",
    "plt.show()\n",
    "plt.close()"
   ]
  },
  {
   "cell_type": "code",
   "execution_count": 18,
   "metadata": {
    "ExecuteTime": {
     "end_time": "2021-02-20T06:56:24.915492Z",
     "start_time": "2021-02-20T06:56:24.693270Z"
    }
   },
   "outputs": [
    {
     "data": {
      "image/png": "[encoded data removed]",
      "text/plain": [
       "<Figure size 576x288 with 1 Axes>"
      ]
     },
     "metadata": {
      "needs_background": "light"
     },
     "output_type": "display_data"
    }
   ],
   "source": [
    "# review the model convergence - 'accuracy'\n",
    "metric2 = 'accuracy'\n",
    "plt.figure(figsize=(8,4))\n",
    "plt.plot(history.history[metric2])\n",
    "plt.plot(history.history['val_' + metric2])\n",
    "plt.title('model ' + metric2)\n",
    "plt.ylabel(metric2, fontsize='large')\n",
    "plt.xlabel('epoch', fontsize='large')\n",
    "plt.legend(['train', 'validate'], loc='lower right')\n",
    "plt.show()\n",
    "plt.close()"
   ]
  },
  {
   "cell_type": "code",
   "execution_count": 19,
   "metadata": {
    "ExecuteTime": {
     "end_time": "2021-02-20T06:56:25.613178Z",
     "start_time": "2021-02-20T06:56:24.917646Z"
    },
    "scrolled": true
   },
   "outputs": [
    {
     "name": "stdout",
     "output_type": "stream",
     "text": [
      "Test accuracy 0.94227844\n",
      "Test loss 0.144216942658093\n"
     ]
    }
   ],
   "source": [
    "# evaluate the trained model with the test data\n",
    "test_loss, test_acc = model.evaluate(gam_test_undersampled, y_test_categorical_undersampled, verbose=0)\n",
    "print(\"Test accuracy\", test_acc)\n",
    "print(\"Test loss\", test_loss)"
   ]
  },
  {
   "cell_type": "code",
   "execution_count": 20,
   "metadata": {
    "ExecuteTime": {
     "end_time": "2021-02-20T06:56:26.454678Z",
     "start_time": "2021-02-20T06:56:25.614996Z"
    }
   },
   "outputs": [
    {
     "name": "stdout",
     "output_type": "stream",
     "text": [
      "              precision    recall  f1-score   support\n",
      "\n",
      "    negative       0.92      0.97      0.94      3319\n",
      "     neutral       0.96      0.92      0.94      5864\n",
      "    positive       0.94      0.95      0.95      3308\n",
      "\n",
      "    accuracy                           0.94     12491\n",
      "   macro avg       0.94      0.95      0.94     12491\n",
      "weighted avg       0.94      0.94      0.94     12491\n",
      "\n"
     ]
    }
   ],
   "source": [
    "# review the classification report\n",
    "y_pred = model.predict(gam_test_undersampled).argmax(axis=1)\n",
    "y_true = y_test_categorical_undersampled.argmax(axis=1)\n",
    "print(classification_report(y_true, y_pred, target_names=label_encoder.classes_)) "
   ]
  },
  {
   "cell_type": "code",
   "execution_count": 21,
   "metadata": {
    "ExecuteTime": {
     "end_time": "2021-02-20T06:56:26.622507Z",
     "start_time": "2021-02-20T06:56:26.456719Z"
    }
   },
   "outputs": [
    {
     "data": {
      "image/png": "[encoded data removed]",
      "text/plain": [
       "<Figure size 432x288 with 2 Axes>"
      ]
     },
     "metadata": {
      "needs_background": "light"
     },
     "output_type": "display_data"
    }
   ],
   "source": [
    "# review confusion matrix\n",
    "cm = confusion_matrix(y_true, y_pred)\n",
    "disp = ConfusionMatrixDisplay(confusion_matrix=cm, display_labels=label_encoder.classes_)\n",
    "disp.plot(cmap='Blues');"
   ]
  },
  {
   "cell_type": "code",
   "execution_count": 22,
   "metadata": {
    "ExecuteTime": {
     "end_time": "2021-02-20T06:56:26.660635Z",
     "start_time": "2021-02-20T06:56:26.624391Z"
    }
   },
   "outputs": [],
   "source": [
    "# save the model\n",
    "model.save('./analysis/eurusd_hour_real_model.h5')"
   ]
  },
  {
   "cell_type": "code",
   "execution_count": null,
   "metadata": {},
   "outputs": [],
   "source": []
  }
 ],
 "metadata": {
  "hide_input": false,
  "kernelspec": {
   "display_name": "Python 3",
   "language": "python",
   "name": "python3"
  },
  "language_info": {
   "codemirror_mode": {
    "name": "ipython",
    "version": 3
   },
   "file_extension": ".py",
   "mimetype": "text/x-python",
   "name": "python",
   "nbconvert_exporter": "python",
   "pygments_lexer": "ipython3",
   "version": "3.7.7"
  }
 },
 "nbformat": 4,
 "nbformat_minor": 4
}
