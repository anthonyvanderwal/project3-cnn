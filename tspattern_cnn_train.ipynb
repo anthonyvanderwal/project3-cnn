{
 "cells": [
  {
   "cell_type": "code",
   "execution_count": 1,
   "metadata": {
    "ExecuteTime": {
     "end_time": "2021-02-19T08:10:39.109645Z",
     "start_time": "2021-02-19T08:10:34.529063Z"
    }
   },
   "outputs": [],
   "source": [
    "# dependencies\n",
    "import pandas as pd\n",
    "import numpy as np\n",
    "import matplotlib.pyplot as plt\n",
    "import plotly.graph_objs as go\n",
    "import tensorflow as tf\n",
    "from tensorflow.keras.callbacks import EarlyStopping\n",
    "from tensorflow.keras.models import Sequential\n",
    "from tensorflow.keras.layers import Input, Dense, Dropout, Flatten, Conv2D, MaxPooling2D\n",
    "from tensorflow.keras.optimizers import Adam\n",
    "from tensorflow.keras.utils import to_categorical\n",
    "from sklearn.preprocessing import LabelEncoder\n",
    "from sklearn.metrics import confusion_matrix, classification_report, ConfusionMatrixDisplay\n",
    "from tqdm import tqdm, trange"
   ]
  },
  {
   "cell_type": "code",
   "execution_count": 2,
   "metadata": {
    "ExecuteTime": {
     "end_time": "2021-02-19T08:10:39.113542Z",
     "start_time": "2021-02-19T08:10:39.111241Z"
    }
   },
   "outputs": [],
   "source": [
    "# seed value for the notebook\n",
    "np.random.seed(42)"
   ]
  },
  {
   "cell_type": "code",
   "execution_count": 3,
   "metadata": {
    "ExecuteTime": {
     "end_time": "2021-02-19T08:10:39.232450Z",
     "start_time": "2021-02-19T08:10:39.117297Z"
    }
   },
   "outputs": [
    {
     "data": {
      "text/html": [
       "<div>\n",
       "<style scoped>\n",
       "    .dataframe tbody tr th:only-of-type {\n",
       "        vertical-align: middle;\n",
       "    }\n",
       "\n",
       "    .dataframe tbody tr th {\n",
       "        vertical-align: top;\n",
       "    }\n",
       "\n",
       "    .dataframe thead th {\n",
       "        text-align: right;\n",
       "    }\n",
       "</style>\n",
       "<table border=\"1\" class=\"dataframe\">\n",
       "  <thead>\n",
       "    <tr style=\"text-align: right;\">\n",
       "      <th></th>\n",
       "      <th>open</th>\n",
       "      <th>high</th>\n",
       "      <th>low</th>\n",
       "      <th>close</th>\n",
       "      <th>upper_shadow</th>\n",
       "      <th>lower_shadow</th>\n",
       "      <th>real_body</th>\n",
       "      <th>slope</th>\n",
       "      <th>indicator</th>\n",
       "    </tr>\n",
       "    <tr>\n",
       "      <th>date</th>\n",
       "      <th></th>\n",
       "      <th></th>\n",
       "      <th></th>\n",
       "      <th></th>\n",
       "      <th></th>\n",
       "      <th></th>\n",
       "      <th></th>\n",
       "      <th></th>\n",
       "      <th></th>\n",
       "    </tr>\n",
       "  </thead>\n",
       "  <tbody>\n",
       "    <tr>\n",
       "      <th>2012-03-28 02:00:00</th>\n",
       "      <td>1.33221</td>\n",
       "      <td>1.33319</td>\n",
       "      <td>1.33204</td>\n",
       "      <td>1.33304</td>\n",
       "      <td>0.00015</td>\n",
       "      <td>0.00017</td>\n",
       "      <td>0.00083</td>\n",
       "      <td>neutral</td>\n",
       "      <td>neutral</td>\n",
       "    </tr>\n",
       "    <tr>\n",
       "      <th>2012-03-28 03:00:00</th>\n",
       "      <td>1.33301</td>\n",
       "      <td>1.33304</td>\n",
       "      <td>1.33256</td>\n",
       "      <td>1.33287</td>\n",
       "      <td>-0.00003</td>\n",
       "      <td>-0.00031</td>\n",
       "      <td>-0.00014</td>\n",
       "      <td>neutral</td>\n",
       "      <td>neutral</td>\n",
       "    </tr>\n",
       "    <tr>\n",
       "      <th>2012-03-28 04:00:00</th>\n",
       "      <td>1.33290</td>\n",
       "      <td>1.33338</td>\n",
       "      <td>1.33255</td>\n",
       "      <td>1.33255</td>\n",
       "      <td>-0.00048</td>\n",
       "      <td>0.00000</td>\n",
       "      <td>-0.00035</td>\n",
       "      <td>neutral</td>\n",
       "      <td>neutral</td>\n",
       "    </tr>\n",
       "    <tr>\n",
       "      <th>2012-03-28 05:00:00</th>\n",
       "      <td>1.33257</td>\n",
       "      <td>1.33348</td>\n",
       "      <td>1.33255</td>\n",
       "      <td>1.33322</td>\n",
       "      <td>0.00026</td>\n",
       "      <td>0.00002</td>\n",
       "      <td>0.00065</td>\n",
       "      <td>neutral</td>\n",
       "      <td>neutral</td>\n",
       "    </tr>\n",
       "    <tr>\n",
       "      <th>2012-03-28 06:00:00</th>\n",
       "      <td>1.33325</td>\n",
       "      <td>1.33353</td>\n",
       "      <td>1.33154</td>\n",
       "      <td>1.33250</td>\n",
       "      <td>-0.00028</td>\n",
       "      <td>-0.00096</td>\n",
       "      <td>-0.00075</td>\n",
       "      <td>neutral</td>\n",
       "      <td>neutral</td>\n",
       "    </tr>\n",
       "    <tr>\n",
       "      <th>...</th>\n",
       "      <td>...</td>\n",
       "      <td>...</td>\n",
       "      <td>...</td>\n",
       "      <td>...</td>\n",
       "      <td>...</td>\n",
       "      <td>...</td>\n",
       "      <td>...</td>\n",
       "      <td>...</td>\n",
       "      <td>...</td>\n",
       "    </tr>\n",
       "    <tr>\n",
       "      <th>2020-04-29 18:00:00</th>\n",
       "      <td>1.08620</td>\n",
       "      <td>1.08851</td>\n",
       "      <td>1.08611</td>\n",
       "      <td>1.08713</td>\n",
       "      <td>0.00138</td>\n",
       "      <td>0.00009</td>\n",
       "      <td>0.00093</td>\n",
       "      <td>neutral</td>\n",
       "      <td>neutral</td>\n",
       "    </tr>\n",
       "    <tr>\n",
       "      <th>2020-04-29 19:00:00</th>\n",
       "      <td>1.08711</td>\n",
       "      <td>1.08823</td>\n",
       "      <td>1.08659</td>\n",
       "      <td>1.08748</td>\n",
       "      <td>0.00075</td>\n",
       "      <td>0.00052</td>\n",
       "      <td>0.00037</td>\n",
       "      <td>positive</td>\n",
       "      <td>neutral</td>\n",
       "    </tr>\n",
       "    <tr>\n",
       "      <th>2020-04-29 20:00:00</th>\n",
       "      <td>1.08747</td>\n",
       "      <td>1.08788</td>\n",
       "      <td>1.08691</td>\n",
       "      <td>1.08708</td>\n",
       "      <td>-0.00041</td>\n",
       "      <td>-0.00017</td>\n",
       "      <td>-0.00039</td>\n",
       "      <td>positive</td>\n",
       "      <td>neutral</td>\n",
       "    </tr>\n",
       "    <tr>\n",
       "      <th>2020-04-29 21:00:00</th>\n",
       "      <td>1.08708</td>\n",
       "      <td>1.08740</td>\n",
       "      <td>1.08699</td>\n",
       "      <td>1.08714</td>\n",
       "      <td>0.00026</td>\n",
       "      <td>0.00009</td>\n",
       "      <td>0.00006</td>\n",
       "      <td>positive</td>\n",
       "      <td>neutral</td>\n",
       "    </tr>\n",
       "    <tr>\n",
       "      <th>2020-04-29 22:00:00</th>\n",
       "      <td>1.08728</td>\n",
       "      <td>1.08760</td>\n",
       "      <td>1.08727</td>\n",
       "      <td>1.08743</td>\n",
       "      <td>0.00017</td>\n",
       "      <td>0.00001</td>\n",
       "      <td>0.00015</td>\n",
       "      <td>neutral</td>\n",
       "      <td>neutral</td>\n",
       "    </tr>\n",
       "  </tbody>\n",
       "</table>\n",
       "<p>50000 rows × 9 columns</p>\n",
       "</div>"
      ],
      "text/plain": [
       "                        open     high      low    close  upper_shadow  \\\n",
       "date                                                                    \n",
       "2012-03-28 02:00:00  1.33221  1.33319  1.33204  1.33304       0.00015   \n",
       "2012-03-28 03:00:00  1.33301  1.33304  1.33256  1.33287      -0.00003   \n",
       "2012-03-28 04:00:00  1.33290  1.33338  1.33255  1.33255      -0.00048   \n",
       "2012-03-28 05:00:00  1.33257  1.33348  1.33255  1.33322       0.00026   \n",
       "2012-03-28 06:00:00  1.33325  1.33353  1.33154  1.33250      -0.00028   \n",
       "...                      ...      ...      ...      ...           ...   \n",
       "2020-04-29 18:00:00  1.08620  1.08851  1.08611  1.08713       0.00138   \n",
       "2020-04-29 19:00:00  1.08711  1.08823  1.08659  1.08748       0.00075   \n",
       "2020-04-29 20:00:00  1.08747  1.08788  1.08691  1.08708      -0.00041   \n",
       "2020-04-29 21:00:00  1.08708  1.08740  1.08699  1.08714       0.00026   \n",
       "2020-04-29 22:00:00  1.08728  1.08760  1.08727  1.08743       0.00017   \n",
       "\n",
       "                     lower_shadow  real_body     slope indicator  \n",
       "date                                                              \n",
       "2012-03-28 02:00:00       0.00017    0.00083   neutral   neutral  \n",
       "2012-03-28 03:00:00      -0.00031   -0.00014   neutral   neutral  \n",
       "2012-03-28 04:00:00       0.00000   -0.00035   neutral   neutral  \n",
       "2012-03-28 05:00:00       0.00002    0.00065   neutral   neutral  \n",
       "2012-03-28 06:00:00      -0.00096   -0.00075   neutral   neutral  \n",
       "...                           ...        ...       ...       ...  \n",
       "2020-04-29 18:00:00       0.00009    0.00093   neutral   neutral  \n",
       "2020-04-29 19:00:00       0.00052    0.00037  positive   neutral  \n",
       "2020-04-29 20:00:00      -0.00017   -0.00039  positive   neutral  \n",
       "2020-04-29 21:00:00       0.00009    0.00006  positive   neutral  \n",
       "2020-04-29 22:00:00       0.00001    0.00015   neutral   neutral  \n",
       "\n",
       "[50000 rows x 9 columns]"
      ]
     },
     "execution_count": 3,
     "metadata": {},
     "output_type": "execute_result"
    }
   ],
   "source": [
    "# read data from labelling notebook\n",
    "#  'tspattern_data_label.ipynb'\n",
    "df = pd.read_csv('./resources/eurusd_hour_real_labelled.csv', index_col=0,parse_dates=True)\n",
    "df"
   ]
  },
  {
   "cell_type": "code",
   "execution_count": 4,
   "metadata": {
    "ExecuteTime": {
     "end_time": "2021-02-19T08:10:39.239829Z",
     "start_time": "2021-02-19T08:10:39.234778Z"
    }
   },
   "outputs": [
    {
     "name": "stdout",
     "output_type": "stream",
     "text": [
      "(50000, 7) (50000,)\n"
     ]
    }
   ],
   "source": [
    "# create the feature (X) and category (y) data sets\n",
    "X = df.drop(['slope', 'indicator'], axis=1)\n",
    "y = df['slope']\n",
    "print(X.shape, y.shape)"
   ]
  },
  {
   "cell_type": "code",
   "execution_count": 5,
   "metadata": {
    "ExecuteTime": {
     "end_time": "2021-02-19T08:10:39.246191Z",
     "start_time": "2021-02-19T08:10:39.241451Z"
    }
   },
   "outputs": [
    {
     "name": "stdout",
     "output_type": "stream",
     "text": [
      "| X_train: (37500, 7) | y_train: (37500,) |\n",
      "| X_test:  (12500, 7) | y_test:  (12500,) |\n"
     ]
    }
   ],
   "source": [
    "# split 75/25 (train/test)\n",
    "#  for timeseries keep data in continuous form (not random)\n",
    "# calculate the number of train data points\n",
    "train_pct_index = int(0.75 * len(X))\n",
    "\n",
    "# slice the data frames\n",
    "X_train, X_test = X[:train_pct_index], X[train_pct_index:]\n",
    "y_train, y_test = y[:train_pct_index], y[train_pct_index:]\n",
    "\n",
    "# summarise the results\n",
    "print(f'| X_train: {X_train.shape} | y_train: {y_train.shape} |\\n'\n",
    "      f'| X_test:  {X_test.shape} | y_test:  {y_test.shape} |')"
   ]
  },
  {
   "cell_type": "code",
   "execution_count": 6,
   "metadata": {
    "ExecuteTime": {
     "end_time": "2021-02-19T08:10:39.258467Z",
     "start_time": "2021-02-19T08:10:39.247850Z"
    }
   },
   "outputs": [
    {
     "name": "stdout",
     "output_type": "stream",
     "text": [
      "| y_train: (37500, 3) | y_test: (12500, 3) |\n",
      "| classes: ['negative', 'neutral', 'positive'] |\n"
     ]
    }
   ],
   "source": [
    "# target category encoding\n",
    "label_encoder = LabelEncoder()\n",
    "label_encoder.fit(y_train)\n",
    "\n",
    "# encoding\n",
    "y_train_encoded = label_encoder.transform(y_train)\n",
    "y_test_encoded = label_encoder.transform(y_test)\n",
    "\n",
    "# categories\n",
    "y_train_categorical = to_categorical(y_train_encoded)\n",
    "y_test_categorical = to_categorical(y_test_encoded)\n",
    "\n",
    "# summarise the results\n",
    "print(f'| y_train: {y_train_categorical.shape} | y_test: {y_test_categorical.shape} |')\n",
    "\n",
    "# confirm the categories\n",
    "print(f'| classes: {list(label_encoder.classes_)} |')"
   ]
  },
  {
   "cell_type": "code",
   "execution_count": 7,
   "metadata": {
    "ExecuteTime": {
     "end_time": "2021-02-19T08:10:54.625680Z",
     "start_time": "2021-02-19T08:10:39.259983Z"
    }
   },
   "outputs": [
    {
     "name": "stderr",
     "output_type": "stream",
     "text": [
      "Generating...: 100%|##########| 37491/37491 [00:05<00:00, 6474.24it/s]\n",
      "Generating...: 100%|##########| 37491/37491 [00:05<00:00, 6603.39it/s]\n",
      "Generating...: 100%|##########| 12491/12491 [00:01<00:00, 6631.10it/s]\n",
      "Generating...: 100%|##########| 12491/12491 [00:01<00:00, 6643.34it/s]"
     ]
    },
    {
     "name": "stdout",
     "output_type": "stream",
     "text": [
      "| gam_train: (37491, 10, 10, 2) | gam_test: (12491, 10, 10, 2) |\n"
     ]
    },
    {
     "name": "stderr",
     "output_type": "stream",
     "text": [
      "\n"
     ]
    }
   ],
   "source": [
    "# gramian angular matrices (gam):\n",
    "#  https://jfin-swufe.springeropen.com/articles/10.1186/s40854-020-00187-0\n",
    "#  https://www.aaai.org/ocs/index.php/WS/AAAIW15/paper/viewFile/10179/10251 \n",
    "#  https://github.com/pecu/Series2GAF/blob/master/cnn_example/series2gaf.py\n",
    "\n",
    "# datasets and features\n",
    "dataset_list = ['train', 'test']\n",
    "feature_list = ['close', 'real_body']\n",
    "\n",
    "# image size => window_size(rows) x window_size(cols)\n",
    "window_size = 10\n",
    "\n",
    "# loop through each dataset\n",
    "for this_dataset in dataset_list:\n",
    "    \n",
    "    # intialise the gam field for the dataset\n",
    "    gramian_field = []\n",
    "    \n",
    "    # number of data points\n",
    "    if this_dataset == 'train':\n",
    "        n = len(X_train['close'])\n",
    "    if this_dataset == 'test':\n",
    "        n = len(X_test['close'])\n",
    "    \n",
    "    # loop through each feature\n",
    "    for this_feature in feature_list:\n",
    "\n",
    "        # initialise the gam field for the feture\n",
    "        gam_feature_set = []\n",
    "\n",
    "        # loop through the data\n",
    "        for i_data in trange(window_size, n+1, desc=\"Generating...\", ascii=True):\n",
    "\n",
    "            # select the data points to convert frm timeseries to gam (image)\n",
    "            if this_dataset == 'train':\n",
    "                full_window_data =  list(X_train[this_feature][i_data-window_size : i_data])\n",
    "            if this_dataset == 'test':\n",
    "                full_window_data =  list(X_test[this_feature][i_data-window_size : i_data])\n",
    "\n",
    "            # scale the data\n",
    "            rescaled_ts = np.zeros((window_size, window_size), float)\n",
    "            min_ts = np.min(full_window_data)\n",
    "            max_ts = np.max(full_window_data)\n",
    "            diff = max_ts - min_ts\n",
    "            if diff != 0:\n",
    "                rescaled_ts = (full_window_data - min_ts) / diff\n",
    "\n",
    "            # initialise the image\n",
    "            this_gam = np.zeros((window_size, window_size), float)\n",
    "\n",
    "            # calculate a component of the gam\n",
    "            sin_ts = np.sqrt(np.clip(1 - rescaled_ts**2, 0, 1))\n",
    "\n",
    "            # calculate the gam - summation method\n",
    "            this_gam = np.outer(rescaled_ts, rescaled_ts) - np.outer(sin_ts, sin_ts)\n",
    "\n",
    "            # add the gam to the feature set\n",
    "            gam_feature_set.append(this_gam)\n",
    "\n",
    "            # clear the gam ready for next\n",
    "            del this_gam\n",
    "\n",
    "        # ass the gam field of the feature set to the dataset\n",
    "        gramian_field.append(gam_feature_set)\n",
    "\n",
    "        # clear the gam field of the feature set\n",
    "        del gam_feature_set\n",
    "  \n",
    "    # finalise the gam field for each dataset\n",
    "    if this_dataset == 'train':\n",
    "        gam_train = np.array(gramian_field)\n",
    "        gam_train = np.moveaxis(gam_train, 0, 3)\n",
    "    if this_dataset == 'test':\n",
    "        gam_test = np.array(gramian_field)\n",
    "        gam_test = np.moveaxis(gam_test, 0, 3)\n",
    "    \n",
    "# summarise the results\n",
    "print(f'| gam_train: {gam_train.shape} | gam_test: {gam_test.shape} |')"
   ]
  },
  {
   "cell_type": "code",
   "execution_count": 8,
   "metadata": {
    "ExecuteTime": {
     "end_time": "2021-02-19T08:10:54.645941Z",
     "start_time": "2021-02-19T08:10:54.628864Z"
    }
   },
   "outputs": [
    {
     "data": {
      "text/plain": [
       "array([['negative', 6760],\n",
       "       ['neutral', 23960],\n",
       "       ['positive', 6780]], dtype=object)"
      ]
     },
     "execution_count": 8,
     "metadata": {},
     "output_type": "execute_result"
    }
   ],
   "source": [
    "y_train_labels = label_encoder.inverse_transform(y_train_encoded)\n",
    "(unique_train, counts_train) = np.unique(y_train_labels, return_counts=True)\n",
    "np.asarray((unique_train, counts_train)).T"
   ]
  },
  {
   "cell_type": "code",
   "execution_count": 9,
   "metadata": {
    "ExecuteTime": {
     "end_time": "2021-02-19T08:10:54.656765Z",
     "start_time": "2021-02-19T08:10:54.648236Z"
    }
   },
   "outputs": [
    {
     "data": {
      "text/plain": [
       "array([['negative', 2326],\n",
       "       ['neutral', 7877],\n",
       "       ['positive', 2297]], dtype=object)"
      ]
     },
     "execution_count": 9,
     "metadata": {},
     "output_type": "execute_result"
    }
   ],
   "source": [
    "y_test_labels = label_encoder.inverse_transform(y_test_encoded)\n",
    "(unique_test, counts_test) = np.unique(y_test_labels, return_counts=True)\n",
    "np.asarray((unique_test, counts_test)).T"
   ]
  },
  {
   "cell_type": "code",
   "execution_count": 10,
   "metadata": {
    "ExecuteTime": {
     "end_time": "2021-02-19T08:10:54.691563Z",
     "start_time": "2021-02-19T08:10:54.659235Z"
    }
   },
   "outputs": [],
   "source": [
    "# balancing the training dataset by\n",
    "# randomised under-sampling gam fields of the majority class (neutral)\n",
    "# for categorical clasification where 'neutral' is majority\n",
    "\n",
    "# randome seed for the cell\n",
    "np.random.seed(42)\n",
    "\n",
    "# indices of gams that correspond to 'neutral' category\n",
    "minority_indices = np.where(y_train_labels[window_size-1:] != 'neutral')\n",
    "majority_indices = np.where(y_train_labels[window_size-1:] == 'neutral')\n",
    "\n",
    "# choose randomly which 'neutral' categofry gams to keep\n",
    "undersample_indexes = np.random.choice(majority_indices[0], size=np.max(np.sort(counts_train)[:-1]), replace=False)\n",
    "\n",
    "# indices of gams remaining \n",
    "keep_indices = np.sort(np.concatenate((undersample_indexes, minority_indices[0])))\n",
    "\n",
    "# reconstruct the data sets\n",
    "gam_train_undersampled = gam_train[keep_indices]\n",
    "gam_test_undersampled = gam_test\n",
    "y_train_categorical_undersampled = y_train_categorical[window_size-1:][keep_indices]\n",
    "y_train_encoded_undersampled = y_train_encoded[window_size-1:][keep_indices]\n",
    "y_test_categorical_undersampled = y_test_categorical[window_size-1:]\n",
    "y_test_encoded_undersampled = y_test_encoded[window_size-1:]\n",
    "\n",
    "\n",
    "# # for binary classification - classification performed on 'positive' & 'negative'\n",
    "# #  find indices where calss is 'neutral' and remove from data and categories\n",
    "# keep_indices = np.where(y_train_labels[window_size:] != 'neutral')\n",
    "# keep_indices = np.where(y_test_labels[window_size:] != 'neutral')\n",
    "# gam_train_undersampled = gam_train[keep_indices]\n",
    "# gam_test_undersampled = gam_test[keep_indices]\n",
    "# y_train_categorical_undersampled = y_train_categorical[window_size:][keep_indices]\n",
    "# y_test_categorical_undersampled = y_test_categorical[window_size:][keep_indices]\n",
    "# y_train_encoded_undersampled = y_train_encoded[window_size:][keep_indices]\n",
    "# y_test_encoded_undersampled = y_test_encoded[window_size:][keep_indices]"
   ]
  },
  {
   "cell_type": "code",
   "execution_count": 11,
   "metadata": {
    "ExecuteTime": {
     "end_time": "2021-02-19T08:10:54.706670Z",
     "start_time": "2021-02-19T08:10:54.694226Z"
    }
   },
   "outputs": [
    {
     "data": {
      "text/plain": [
       "array([['negative', 6760],\n",
       "       ['neutral', 6780],\n",
       "       ['positive', 6780]], dtype=object)"
      ]
     },
     "execution_count": 11,
     "metadata": {},
     "output_type": "execute_result"
    }
   ],
   "source": [
    "# confirm the train dataset is 'balanced'\n",
    "y_train_labels = label_encoder.inverse_transform(y_train_encoded_undersampled)\n",
    "(unique, counts) = np.unique(y_train_labels, return_counts=True)\n",
    "np.asarray((unique, counts)).T"
   ]
  },
  {
   "cell_type": "code",
   "execution_count": 12,
   "metadata": {
    "ExecuteTime": {
     "end_time": "2021-02-19T08:10:54.718183Z",
     "start_time": "2021-02-19T08:10:54.709051Z"
    }
   },
   "outputs": [
    {
     "data": {
      "text/plain": [
       "array([['negative', 2323],\n",
       "       ['neutral', 7871],\n",
       "       ['positive', 2297]], dtype=object)"
      ]
     },
     "execution_count": 12,
     "metadata": {},
     "output_type": "execute_result"
    }
   ],
   "source": [
    "# review the test dataset category counts\n",
    "y_test_labels = label_encoder.inverse_transform(y_test_encoded_undersampled)\n",
    "(unique, counts) = np.unique(y_test_labels, return_counts=True)\n",
    "np.asarray((unique, counts)).T"
   ]
  },
  {
   "cell_type": "code",
   "execution_count": 13,
   "metadata": {
    "ExecuteTime": {
     "end_time": "2021-02-19T08:10:54.904933Z",
     "start_time": "2021-02-19T08:10:54.719686Z"
    }
   },
   "outputs": [
    {
     "name": "stdout",
     "output_type": "stream",
     "text": [
      "Model: \"sequential\"\n",
      "_________________________________________________________________\n",
      "Layer (type)                 Output Shape              Param #   \n",
      "=================================================================\n",
      "conv2d (Conv2D)              (None, 8, 8, 16)          304       \n",
      "_________________________________________________________________\n",
      "max_pooling2d (MaxPooling2D) (None, 4, 4, 16)          0         \n",
      "_________________________________________________________________\n",
      "conv2d_1 (Conv2D)            (None, 2, 2, 32)          4640      \n",
      "_________________________________________________________________\n",
      "max_pooling2d_1 (MaxPooling2 (None, 1, 1, 32)          0         \n",
      "_________________________________________________________________\n",
      "dropout (Dropout)            (None, 1, 1, 32)          0         \n",
      "_________________________________________________________________\n",
      "flatten (Flatten)            (None, 32)                0         \n",
      "_________________________________________________________________\n",
      "dense (Dense)                (None, 64)                2112      \n",
      "_________________________________________________________________\n",
      "dropout_1 (Dropout)          (None, 64)                0         \n",
      "_________________________________________________________________\n",
      "dense_1 (Dense)              (None, 32)                2080      \n",
      "_________________________________________________________________\n",
      "dense_2 (Dense)              (None, 3)                 99        \n",
      "=================================================================\n",
      "Total params: 9,235\n",
      "Trainable params: 9,235\n",
      "Non-trainable params: 0\n",
      "_________________________________________________________________\n"
     ]
    }
   ],
   "source": [
    "# model architecture\n",
    "\n",
    "# model type\n",
    "model = Sequential()\n",
    "\n",
    "# image shape and numbe rof channels\n",
    "model.add(Input(shape=(window_size, window_size, 2)))  # gam images\n",
    "\n",
    "# first convolutional layer\n",
    "model.add(Conv2D(16, 3, activation='relu', data_format='channels_last'))\n",
    "model.add(MaxPooling2D(pool_size=(2, 2)))\n",
    "\n",
    "# second convolutional layer\n",
    "model.add(Conv2D(32, 3, activation='relu', data_format='channels_last'))\n",
    "model.add(MaxPooling2D(pool_size=(2, 2)))\n",
    "\n",
    "# fully connected layers\n",
    "model.add(Dropout(0.25))\n",
    "model.add(Flatten())\n",
    "model.add(Dense(64, activation='relu'))\n",
    "model.add(Dropout(0.5))\n",
    "model.add(Dense(32, activation='relu'))\n",
    "\n",
    "# output layer\n",
    "model.add(Dense(len(unique_train), activation='softmax'))  # classification layer.\n",
    "model.summary()\n",
    "\n",
    "# categorical classification\n",
    "opt = Adam(learning_rate=0.0001, beta_1=0.9, beta_2=0.999)\n",
    "model.compile(loss='categorical_crossentropy', optimizer=opt, metrics=['accuracy'])\n",
    "\n",
    "# binary classification\n",
    "# model.compile(loss='binary_crossentropy', optimizer=opt, metrics=['accuracy'])"
   ]
  },
  {
   "cell_type": "code",
   "execution_count": 14,
   "metadata": {
    "ExecuteTime": {
     "end_time": "2021-02-19T08:14:15.695254Z",
     "start_time": "2021-02-19T08:10:54.906619Z"
    },
    "scrolled": false
   },
   "outputs": [
    {
     "name": "stdout",
     "output_type": "stream",
     "text": [
      "Train on 15240 samples, validate on 5080 samples\n",
      "Epoch 1/300\n",
      "15240/15240 - 3s - loss: 1.0112 - accuracy: 0.5150 - val_loss: 0.8294 - val_accuracy: 0.6614\n",
      "Epoch 2/300\n",
      "15240/15240 - 2s - loss: 0.7961 - accuracy: 0.6380 - val_loss: 0.6574 - val_accuracy: 0.7100\n",
      "Epoch 3/300\n",
      "15240/15240 - 2s - loss: 0.6937 - accuracy: 0.6839 - val_loss: 0.5810 - val_accuracy: 0.7486\n",
      "Epoch 4/300\n",
      "15240/15240 - 2s - loss: 0.6300 - accuracy: 0.7189 - val_loss: 0.5234 - val_accuracy: 0.7801\n",
      "Epoch 5/300\n",
      "15240/15240 - 2s - loss: 0.5828 - accuracy: 0.7446 - val_loss: 0.4809 - val_accuracy: 0.7982\n",
      "Epoch 6/300\n",
      "15240/15240 - 2s - loss: 0.5437 - accuracy: 0.7651 - val_loss: 0.4501 - val_accuracy: 0.8156\n",
      "Epoch 7/300\n",
      "15240/15240 - 2s - loss: 0.5122 - accuracy: 0.7848 - val_loss: 0.4200 - val_accuracy: 0.8226\n",
      "Epoch 8/300\n",
      "15240/15240 - 2s - loss: 0.4844 - accuracy: 0.7933 - val_loss: 0.3948 - val_accuracy: 0.8346\n",
      "Epoch 9/300\n",
      "15240/15240 - 2s - loss: 0.4636 - accuracy: 0.8073 - val_loss: 0.3745 - val_accuracy: 0.8480\n",
      "Epoch 10/300\n",
      "15240/15240 - 2s - loss: 0.4353 - accuracy: 0.8202 - val_loss: 0.3542 - val_accuracy: 0.8537\n",
      "Epoch 11/300\n",
      "15240/15240 - 2s - loss: 0.4220 - accuracy: 0.8229 - val_loss: 0.3363 - val_accuracy: 0.8638\n",
      "Epoch 12/300\n",
      "15240/15240 - 2s - loss: 0.4035 - accuracy: 0.8357 - val_loss: 0.3208 - val_accuracy: 0.8695\n",
      "Epoch 13/300\n",
      "15240/15240 - 2s - loss: 0.3985 - accuracy: 0.8350 - val_loss: 0.3109 - val_accuracy: 0.8697\n",
      "Epoch 14/300\n",
      "15240/15240 - 2s - loss: 0.3812 - accuracy: 0.8447 - val_loss: 0.2992 - val_accuracy: 0.8758\n",
      "Epoch 15/300\n",
      "15240/15240 - 2s - loss: 0.3701 - accuracy: 0.8478 - val_loss: 0.2892 - val_accuracy: 0.8815\n",
      "Epoch 16/300\n",
      "15240/15240 - 2s - loss: 0.3629 - accuracy: 0.8522 - val_loss: 0.2835 - val_accuracy: 0.8835\n",
      "Epoch 17/300\n",
      "15240/15240 - 2s - loss: 0.3480 - accuracy: 0.8584 - val_loss: 0.2735 - val_accuracy: 0.8872\n",
      "Epoch 18/300\n",
      "15240/15240 - 2s - loss: 0.3431 - accuracy: 0.8633 - val_loss: 0.2669 - val_accuracy: 0.8896\n",
      "Epoch 19/300\n",
      "15240/15240 - 2s - loss: 0.3348 - accuracy: 0.8653 - val_loss: 0.2593 - val_accuracy: 0.8937\n",
      "Epoch 20/300\n",
      "15240/15240 - 2s - loss: 0.3344 - accuracy: 0.8665 - val_loss: 0.2558 - val_accuracy: 0.8965\n",
      "Epoch 21/300\n",
      "15240/15240 - 2s - loss: 0.3201 - accuracy: 0.8713 - val_loss: 0.2513 - val_accuracy: 0.8976\n",
      "Epoch 22/300\n",
      "15240/15240 - 2s - loss: 0.3214 - accuracy: 0.8711 - val_loss: 0.2451 - val_accuracy: 0.8990\n",
      "Epoch 23/300\n",
      "15240/15240 - 2s - loss: 0.3085 - accuracy: 0.8755 - val_loss: 0.2426 - val_accuracy: 0.8998\n",
      "Epoch 24/300\n",
      "15240/15240 - 2s - loss: 0.3062 - accuracy: 0.8791 - val_loss: 0.2379 - val_accuracy: 0.9020\n",
      "Epoch 25/300\n",
      "15240/15240 - 2s - loss: 0.2977 - accuracy: 0.8816 - val_loss: 0.2351 - val_accuracy: 0.9020\n",
      "Epoch 26/300\n",
      "15240/15240 - 2s - loss: 0.2967 - accuracy: 0.8805 - val_loss: 0.2323 - val_accuracy: 0.9022\n",
      "Epoch 27/300\n",
      "15240/15240 - 2s - loss: 0.2905 - accuracy: 0.8847 - val_loss: 0.2287 - val_accuracy: 0.9049\n",
      "Epoch 28/300\n",
      "15240/15240 - 2s - loss: 0.2863 - accuracy: 0.8833 - val_loss: 0.2239 - val_accuracy: 0.9077\n",
      "Epoch 29/300\n",
      "15240/15240 - 2s - loss: 0.2819 - accuracy: 0.8881 - val_loss: 0.2186 - val_accuracy: 0.9098\n",
      "Epoch 30/300\n",
      "15240/15240 - 2s - loss: 0.2733 - accuracy: 0.8918 - val_loss: 0.2172 - val_accuracy: 0.9118\n",
      "Epoch 31/300\n",
      "15240/15240 - 2s - loss: 0.2717 - accuracy: 0.8915 - val_loss: 0.2163 - val_accuracy: 0.9110\n",
      "Epoch 32/300\n",
      "15240/15240 - 2s - loss: 0.2684 - accuracy: 0.8935 - val_loss: 0.2111 - val_accuracy: 0.9102\n",
      "Epoch 33/300\n",
      "15240/15240 - 2s - loss: 0.2652 - accuracy: 0.8967 - val_loss: 0.2082 - val_accuracy: 0.9161\n",
      "Epoch 34/300\n",
      "15240/15240 - 2s - loss: 0.2616 - accuracy: 0.8983 - val_loss: 0.2065 - val_accuracy: 0.9157\n",
      "Epoch 35/300\n",
      "15240/15240 - 2s - loss: 0.2578 - accuracy: 0.8964 - val_loss: 0.2017 - val_accuracy: 0.9193\n",
      "Epoch 36/300\n",
      "15240/15240 - 2s - loss: 0.2608 - accuracy: 0.8965 - val_loss: 0.2020 - val_accuracy: 0.9189\n",
      "Epoch 37/300\n",
      "15240/15240 - 2s - loss: 0.2531 - accuracy: 0.9001 - val_loss: 0.1982 - val_accuracy: 0.9185\n",
      "Epoch 38/300\n",
      "15240/15240 - 2s - loss: 0.2519 - accuracy: 0.9016 - val_loss: 0.1933 - val_accuracy: 0.9217\n",
      "Epoch 39/300\n",
      "15240/15240 - 2s - loss: 0.2438 - accuracy: 0.9033 - val_loss: 0.1922 - val_accuracy: 0.9193\n",
      "Epoch 40/300\n",
      "15240/15240 - 2s - loss: 0.2479 - accuracy: 0.9010 - val_loss: 0.1895 - val_accuracy: 0.9230\n",
      "Epoch 41/300\n",
      "15240/15240 - 2s - loss: 0.2414 - accuracy: 0.9058 - val_loss: 0.1995 - val_accuracy: 0.9199\n",
      "Epoch 42/300\n",
      "15240/15240 - 2s - loss: 0.2413 - accuracy: 0.9046 - val_loss: 0.1917 - val_accuracy: 0.9213\n",
      "Epoch 43/300\n",
      "15240/15240 - 2s - loss: 0.2373 - accuracy: 0.9066 - val_loss: 0.1844 - val_accuracy: 0.9252\n",
      "Epoch 44/300\n",
      "15240/15240 - 2s - loss: 0.2316 - accuracy: 0.9096 - val_loss: 0.1797 - val_accuracy: 0.9278\n",
      "Epoch 45/300\n",
      "15240/15240 - 2s - loss: 0.2313 - accuracy: 0.9089 - val_loss: 0.1899 - val_accuracy: 0.9217\n",
      "Epoch 46/300\n",
      "15240/15240 - 2s - loss: 0.2264 - accuracy: 0.9107 - val_loss: 0.1802 - val_accuracy: 0.9281\n",
      "Epoch 47/300\n",
      "15240/15240 - 2s - loss: 0.2226 - accuracy: 0.9135 - val_loss: 0.1830 - val_accuracy: 0.9240\n",
      "Epoch 48/300\n",
      "15240/15240 - 2s - loss: 0.2238 - accuracy: 0.9102 - val_loss: 0.1729 - val_accuracy: 0.9307\n",
      "Epoch 49/300\n",
      "15240/15240 - 2s - loss: 0.2205 - accuracy: 0.9114 - val_loss: 0.1723 - val_accuracy: 0.9295\n",
      "Epoch 50/300\n",
      "15240/15240 - 2s - loss: 0.2190 - accuracy: 0.9167 - val_loss: 0.1740 - val_accuracy: 0.9285\n",
      "Epoch 51/300\n",
      "15240/15240 - 2s - loss: 0.2147 - accuracy: 0.9177 - val_loss: 0.1705 - val_accuracy: 0.9303\n",
      "Epoch 52/300\n",
      "15240/15240 - 2s - loss: 0.2158 - accuracy: 0.9168 - val_loss: 0.1673 - val_accuracy: 0.9339\n",
      "Epoch 53/300\n",
      "15240/15240 - 2s - loss: 0.2103 - accuracy: 0.9191 - val_loss: 0.1673 - val_accuracy: 0.9346\n",
      "Epoch 54/300\n",
      "15240/15240 - 2s - loss: 0.2107 - accuracy: 0.9163 - val_loss: 0.1625 - val_accuracy: 0.9366\n",
      "Epoch 55/300\n",
      "15240/15240 - 2s - loss: 0.2079 - accuracy: 0.9184 - val_loss: 0.1652 - val_accuracy: 0.9348\n",
      "Epoch 56/300\n",
      "15240/15240 - 2s - loss: 0.2092 - accuracy: 0.9186 - val_loss: 0.1746 - val_accuracy: 0.9291\n",
      "Epoch 57/300\n",
      "15240/15240 - 2s - loss: 0.2058 - accuracy: 0.9179 - val_loss: 0.1626 - val_accuracy: 0.9360\n",
      "Epoch 58/300\n",
      "15240/15240 - 2s - loss: 0.2023 - accuracy: 0.9201 - val_loss: 0.1597 - val_accuracy: 0.9346\n",
      "Epoch 59/300\n",
      "15240/15240 - 2s - loss: 0.2016 - accuracy: 0.9226 - val_loss: 0.1592 - val_accuracy: 0.9356\n",
      "Epoch 60/300\n",
      "15240/15240 - 2s - loss: 0.1974 - accuracy: 0.9207 - val_loss: 0.1562 - val_accuracy: 0.9360\n",
      "Epoch 61/300\n",
      "15240/15240 - 2s - loss: 0.2000 - accuracy: 0.9209 - val_loss: 0.1586 - val_accuracy: 0.9343\n",
      "Epoch 62/300\n",
      "15240/15240 - 2s - loss: 0.1993 - accuracy: 0.9211 - val_loss: 0.1560 - val_accuracy: 0.9352\n",
      "Epoch 63/300\n",
      "15240/15240 - 2s - loss: 0.2001 - accuracy: 0.9203 - val_loss: 0.1538 - val_accuracy: 0.9388\n",
      "Epoch 64/300\n",
      "15240/15240 - 2s - loss: 0.1937 - accuracy: 0.9234 - val_loss: 0.1527 - val_accuracy: 0.9384\n",
      "Epoch 65/300\n",
      "15240/15240 - 2s - loss: 0.1938 - accuracy: 0.9226 - val_loss: 0.1506 - val_accuracy: 0.9390\n",
      "Epoch 66/300\n",
      "15240/15240 - 2s - loss: 0.1971 - accuracy: 0.9220 - val_loss: 0.1541 - val_accuracy: 0.9384\n",
      "Epoch 67/300\n",
      "15240/15240 - 2s - loss: 0.1899 - accuracy: 0.9277 - val_loss: 0.1563 - val_accuracy: 0.9348\n",
      "Epoch 68/300\n",
      "15240/15240 - 2s - loss: 0.1891 - accuracy: 0.9266 - val_loss: 0.1501 - val_accuracy: 0.9378\n",
      "Epoch 69/300\n",
      "15240/15240 - 2s - loss: 0.1923 - accuracy: 0.9257 - val_loss: 0.1465 - val_accuracy: 0.9407\n",
      "Epoch 70/300\n",
      "15240/15240 - 2s - loss: 0.1851 - accuracy: 0.9279 - val_loss: 0.1485 - val_accuracy: 0.9384\n",
      "Epoch 71/300\n",
      "15240/15240 - 2s - loss: 0.1889 - accuracy: 0.9251 - val_loss: 0.1516 - val_accuracy: 0.9374\n",
      "Epoch 72/300\n",
      "15240/15240 - 2s - loss: 0.1774 - accuracy: 0.9301 - val_loss: 0.1476 - val_accuracy: 0.9398\n",
      "Epoch 73/300\n",
      "15240/15240 - 2s - loss: 0.1812 - accuracy: 0.9293 - val_loss: 0.1452 - val_accuracy: 0.9398\n",
      "Epoch 74/300\n",
      "15240/15240 - 2s - loss: 0.1839 - accuracy: 0.9275 - val_loss: 0.1444 - val_accuracy: 0.9415\n",
      "Epoch 75/300\n",
      "15240/15240 - 2s - loss: 0.1776 - accuracy: 0.9309 - val_loss: 0.1490 - val_accuracy: 0.9390\n",
      "Epoch 76/300\n",
      "15240/15240 - 2s - loss: 0.1824 - accuracy: 0.9288 - val_loss: 0.1426 - val_accuracy: 0.9421\n",
      "Epoch 77/300\n",
      "15240/15240 - 2s - loss: 0.1761 - accuracy: 0.9320 - val_loss: 0.1426 - val_accuracy: 0.9417\n"
     ]
    },
    {
     "name": "stdout",
     "output_type": "stream",
     "text": [
      "Epoch 78/300\n",
      "15240/15240 - 2s - loss: 0.1764 - accuracy: 0.9330 - val_loss: 0.1432 - val_accuracy: 0.9407\n",
      "Epoch 79/300\n",
      "15240/15240 - 2s - loss: 0.1767 - accuracy: 0.9315 - val_loss: 0.1475 - val_accuracy: 0.9402\n",
      "Epoch 80/300\n",
      "15240/15240 - 2s - loss: 0.1743 - accuracy: 0.9315 - val_loss: 0.1378 - val_accuracy: 0.9433\n",
      "Epoch 81/300\n",
      "15240/15240 - 2s - loss: 0.1721 - accuracy: 0.9320 - val_loss: 0.1407 - val_accuracy: 0.9417\n",
      "Epoch 82/300\n",
      "15240/15240 - 2s - loss: 0.1756 - accuracy: 0.9321 - val_loss: 0.1511 - val_accuracy: 0.9354\n",
      "Epoch 83/300\n",
      "15240/15240 - 2s - loss: 0.1797 - accuracy: 0.9276 - val_loss: 0.1368 - val_accuracy: 0.9445\n",
      "Epoch 84/300\n",
      "15240/15240 - 2s - loss: 0.1722 - accuracy: 0.9337 - val_loss: 0.1375 - val_accuracy: 0.9431\n",
      "Epoch 85/300\n",
      "15240/15240 - 2s - loss: 0.1671 - accuracy: 0.9339 - val_loss: 0.1411 - val_accuracy: 0.9429\n",
      "Epoch 86/300\n",
      "15240/15240 - 2s - loss: 0.1684 - accuracy: 0.9336 - val_loss: 0.1350 - val_accuracy: 0.9449\n",
      "Epoch 87/300\n",
      "15240/15240 - 2s - loss: 0.1674 - accuracy: 0.9325 - val_loss: 0.1395 - val_accuracy: 0.9449\n",
      "Epoch 88/300\n",
      "15240/15240 - 2s - loss: 0.1665 - accuracy: 0.9350 - val_loss: 0.1399 - val_accuracy: 0.9400\n",
      "Epoch 89/300\n",
      "15240/15240 - 2s - loss: 0.1641 - accuracy: 0.9345 - val_loss: 0.1347 - val_accuracy: 0.9453\n",
      "Epoch 90/300\n",
      "15240/15240 - 2s - loss: 0.1639 - accuracy: 0.9356 - val_loss: 0.1409 - val_accuracy: 0.9423\n",
      "Epoch 91/300\n",
      "15240/15240 - 2s - loss: 0.1655 - accuracy: 0.9358 - val_loss: 0.1350 - val_accuracy: 0.9451\n",
      "Epoch 92/300\n",
      "15240/15240 - 2s - loss: 0.1675 - accuracy: 0.9373 - val_loss: 0.1401 - val_accuracy: 0.9427\n",
      "Epoch 93/300\n",
      "15240/15240 - 2s - loss: 0.1664 - accuracy: 0.9325 - val_loss: 0.1344 - val_accuracy: 0.9455\n",
      "Epoch 94/300\n",
      "15240/15240 - 2s - loss: 0.1606 - accuracy: 0.9371 - val_loss: 0.1343 - val_accuracy: 0.9447\n",
      "Epoch 95/300\n",
      "15240/15240 - 2s - loss: 0.1627 - accuracy: 0.9366 - val_loss: 0.1348 - val_accuracy: 0.9461\n",
      "Epoch 96/300\n",
      "15240/15240 - 2s - loss: 0.1575 - accuracy: 0.9376 - val_loss: 0.1336 - val_accuracy: 0.9455\n",
      "Epoch 97/300\n",
      "15240/15240 - 2s - loss: 0.1620 - accuracy: 0.9373 - val_loss: 0.1345 - val_accuracy: 0.9457\n",
      "Epoch 98/300\n",
      "15240/15240 - 2s - loss: 0.1611 - accuracy: 0.9389 - val_loss: 0.1317 - val_accuracy: 0.9463\n",
      "Epoch 99/300\n",
      "15240/15240 - 2s - loss: 0.1610 - accuracy: 0.9360 - val_loss: 0.1309 - val_accuracy: 0.9474\n",
      "Epoch 100/300\n",
      "15240/15240 - 2s - loss: 0.1583 - accuracy: 0.9396 - val_loss: 0.1339 - val_accuracy: 0.9445\n",
      "Epoch 101/300\n",
      "15240/15240 - 2s - loss: 0.1596 - accuracy: 0.9394 - val_loss: 0.1302 - val_accuracy: 0.9465\n",
      "Epoch 102/300\n",
      "15240/15240 - 2s - loss: 0.1544 - accuracy: 0.9383 - val_loss: 0.1327 - val_accuracy: 0.9463\n",
      "Epoch 103/300\n",
      "15240/15240 - 2s - loss: 0.1576 - accuracy: 0.9400 - val_loss: 0.1317 - val_accuracy: 0.9453\n",
      "Epoch 104/300\n",
      "15240/15240 - 2s - loss: 0.1544 - accuracy: 0.9382 - val_loss: 0.1271 - val_accuracy: 0.9492\n",
      "Epoch 105/300\n",
      "15240/15240 - 2s - loss: 0.1557 - accuracy: 0.9399 - val_loss: 0.1377 - val_accuracy: 0.9419\n",
      "Epoch 106/300\n",
      "15240/15240 - 2s - loss: 0.1496 - accuracy: 0.9400 - val_loss: 0.1307 - val_accuracy: 0.9459\n",
      "Epoch 107/300\n",
      "15240/15240 - 2s - loss: 0.1494 - accuracy: 0.9410 - val_loss: 0.1276 - val_accuracy: 0.9469\n",
      "Epoch 108/300\n",
      "15240/15240 - 2s - loss: 0.1521 - accuracy: 0.9404 - val_loss: 0.1314 - val_accuracy: 0.9445\n",
      "Epoch 109/300\n",
      "15240/15240 - 2s - loss: 0.1513 - accuracy: 0.9397 - val_loss: 0.1276 - val_accuracy: 0.9482\n",
      "Epoch 00109: early stopping\n"
     ]
    }
   ],
   "source": [
    "# train the model\n",
    "history = model.fit(\n",
    "    x=gam_train_undersampled, \n",
    "    y=y_train_categorical_undersampled, \n",
    "    epochs=300, \n",
    "    batch_size=64,\n",
    "    validation_split=0.25, \n",
    "    verbose=2,\n",
    "    callbacks=[EarlyStopping(monitor='val_loss', mode='min', verbose=1, patience=5)]\n",
    ")"
   ]
  },
  {
   "cell_type": "code",
   "execution_count": 15,
   "metadata": {
    "ExecuteTime": {
     "end_time": "2021-02-19T08:14:15.878794Z",
     "start_time": "2021-02-19T08:14:15.697354Z"
    }
   },
   "outputs": [
    {
     "data": {
      "image/png": "[encoded data removed]",
      "text/plain": [
       "<Figure size 432x288 with 1 Axes>"
      ]
     },
     "metadata": {
      "needs_background": "light"
     },
     "output_type": "display_data"
    }
   ],
   "source": [
    "# review the model convergence - 'loss'\n",
    "metric1 = 'loss'\n",
    "plt.figure()\n",
    "plt.plot(history.history[metric1])\n",
    "plt.plot(history.history['val_' + metric1])\n",
    "plt.title('model ' + metric1)\n",
    "plt.ylabel(metric1, fontsize='large')\n",
    "plt.xlabel('epoch', fontsize='large')\n",
    "plt.legend(['train', 'validate'], loc='best')\n",
    "plt.show()\n",
    "plt.close()"
   ]
  },
  {
   "cell_type": "code",
   "execution_count": 16,
   "metadata": {
    "ExecuteTime": {
     "end_time": "2021-02-19T08:14:16.098161Z",
     "start_time": "2021-02-19T08:14:15.880580Z"
    }
   },
   "outputs": [
    {
     "data": {
      "image/png": "[encoded data removed]",
      "text/plain": [
       "<Figure size 432x288 with 1 Axes>"
      ]
     },
     "metadata": {
      "needs_background": "light"
     },
     "output_type": "display_data"
    }
   ],
   "source": [
    "# review the model convergence - 'accuracy'\n",
    "metric2 = 'accuracy'\n",
    "plt.figure()\n",
    "plt.plot(history.history[metric2])\n",
    "plt.plot(history.history['val_' + metric2])\n",
    "plt.title('model ' + metric2)\n",
    "plt.ylabel(metric2, fontsize='large')\n",
    "plt.xlabel('epoch', fontsize='large')\n",
    "plt.legend(['train', 'validate'], loc='best')\n",
    "plt.show()\n",
    "plt.close()"
   ]
  },
  {
   "cell_type": "code",
   "execution_count": 17,
   "metadata": {
    "ExecuteTime": {
     "end_time": "2021-02-19T08:14:16.880857Z",
     "start_time": "2021-02-19T08:14:16.100155Z"
    },
    "scrolled": true
   },
   "outputs": [
    {
     "name": "stdout",
     "output_type": "stream",
     "text": [
      "Test accuracy 0.92546636\n",
      "Test loss 0.17763413244071186\n"
     ]
    }
   ],
   "source": [
    "# evaluate the trained model with the test data\n",
    "test_loss, test_acc = model.evaluate(gam_test_undersampled, y_test_categorical_undersampled, verbose=0)\n",
    "print(\"Test accuracy\", test_acc)\n",
    "print(\"Test loss\", test_loss)"
   ]
  },
  {
   "cell_type": "code",
   "execution_count": 18,
   "metadata": {
    "ExecuteTime": {
     "end_time": "2021-02-19T08:14:17.845921Z",
     "start_time": "2021-02-19T08:14:16.882438Z"
    }
   },
   "outputs": [
    {
     "name": "stdout",
     "output_type": "stream",
     "text": [
      "              precision    recall  f1-score   support\n",
      "\n",
      "    negative       0.85      0.97      0.90      2323\n",
      "     neutral       0.98      0.90      0.94      7871\n",
      "    positive       0.85      0.97      0.91      2297\n",
      "\n",
      "    accuracy                           0.93     12491\n",
      "   macro avg       0.89      0.95      0.92     12491\n",
      "weighted avg       0.93      0.93      0.93     12491\n",
      "\n"
     ]
    }
   ],
   "source": [
    "# review the classification report\n",
    "y_pred = model.predict(gam_test_undersampled).argmax(axis=1)\n",
    "y_true = y_test_categorical_undersampled.argmax(axis=1)\n",
    "print(classification_report(y_true, y_pred, target_names=label_encoder.classes_)) "
   ]
  },
  {
   "cell_type": "code",
   "execution_count": 19,
   "metadata": {
    "ExecuteTime": {
     "end_time": "2021-02-19T08:14:17.999622Z",
     "start_time": "2021-02-19T08:14:17.847733Z"
    }
   },
   "outputs": [
    {
     "data": {
      "image/png": "[encoded data removed]",
      "text/plain": [
       "<Figure size 432x288 with 2 Axes>"
      ]
     },
     "metadata": {
      "needs_background": "light"
     },
     "output_type": "display_data"
    }
   ],
   "source": [
    "# review confusion matrix\n",
    "cm = confusion_matrix(y_true, y_pred)\n",
    "disp = ConfusionMatrixDisplay(confusion_matrix=cm, display_labels=label_encoder.classes_)\n",
    "disp.plot(cmap='Blues');"
   ]
  },
  {
   "cell_type": "code",
   "execution_count": 20,
   "metadata": {
    "ExecuteTime": {
     "end_time": "2021-02-19T08:14:18.049590Z",
     "start_time": "2021-02-19T08:14:18.001831Z"
    }
   },
   "outputs": [],
   "source": [
    "# save the model\n",
    "model.save('./analysis/eurusd_hour_real_model.h5')"
   ]
  },
  {
   "cell_type": "code",
   "execution_count": null,
   "metadata": {},
   "outputs": [],
   "source": []
  }
 ],
 "metadata": {
  "hide_input": false,
  "kernelspec": {
   "display_name": "Python 3",
   "language": "python",
   "name": "python3"
  },
  "language_info": {
   "codemirror_mode": {
    "name": "ipython",
    "version": 3
   },
   "file_extension": ".py",
   "mimetype": "text/x-python",
   "name": "python",
   "nbconvert_exporter": "python",
   "pygments_lexer": "ipython3",
   "version": "3.7.7"
  }
 },
 "nbformat": 4,
 "nbformat_minor": 4
}
